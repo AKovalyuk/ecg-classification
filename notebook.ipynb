{
 "cells": [
  {
   "cell_type": "code",
   "execution_count": 1,
   "metadata": {},
   "outputs": [],
   "source": [
    "import pandas as pd\n",
    "import numpy as np\n",
    "import wfdb\n",
    "import ast\n",
    "import time\n",
    "from itertools import chain\n",
    "from collections import Counter\n",
    "from sklearn.decomposition import PCA\n",
    "import matplotlib.pyplot as plt\n",
    "from statsmodels.graphics.tsaplots import acf\n",
    "import os\n",
    "import tqdm\n",
    "from sklearn.model_selection import train_test_split\n",
    "import torch.nn as nn\n",
    "import torch.nn.functional as F\n",
    "import torch.optim as optim\n",
    "import torchvision.transforms as transforms\n",
    "import torch\n",
    "from torch.utils.data import TensorDataset, DataLoader\n",
    "from sklearn.metrics import accuracy_score, auc, f1_score, roc_curve, RocCurveDisplay\n",
    "from preprocessing import preprocess_data"
   ]
  },
  {
   "cell_type": "code",
   "execution_count": 2,
   "metadata": {},
   "outputs": [
    {
     "name": "stdout",
     "output_type": "stream",
     "text": [
      "Loading data\n"
     ]
    },
    {
     "name": "stderr",
     "output_type": "stream",
     "text": [
      "100%|██████████| 21799/21799 [03:48<00:00, 95.33it/s] \n"
     ]
    },
    {
     "name": "stdout",
     "output_type": "stream",
     "text": [
      "Dropping other\n",
      "(array([0, 1]), array([9069, 5469], dtype=int64))\n",
      "Filtering outliers\n"
     ]
    },
    {
     "name": "stderr",
     "output_type": "stream",
     "text": [
      "100%|██████████| 14538/14538 [00:19<00:00, 761.03it/s]\n"
     ]
    },
    {
     "name": "stdout",
     "output_type": "stream",
     "text": [
      "(array([0, 1]), array([9069, 5469], dtype=int64))\n",
      "(array([0, 1]), array([9069, 5469], dtype=int64))\n",
      "(array([0, 1]), array([8769, 5023], dtype=int64))\n",
      "Applying moving average\n"
     ]
    },
    {
     "name": "stderr",
     "output_type": "stream",
     "text": [
      "100%|██████████| 13792/13792 [01:53<00:00, 121.17it/s]\n"
     ]
    },
    {
     "name": "stdout",
     "output_type": "stream",
     "text": [
      "Balancing data\n",
      "(array([0, 1]), array([8769, 5023], dtype=int64))\n",
      "Train-test split\n"
     ]
    }
   ],
   "source": [
    "x_train, x_test, y_train, y_test = preprocess_data(path='plt')"
   ]
  },
  {
   "attachments": {},
   "cell_type": "markdown",
   "metadata": {},
   "source": [
    "### Обучение модели"
   ]
  },
  {
   "attachments": {},
   "cell_type": "markdown",
   "metadata": {},
   "source": [
    "Архитектура сети"
   ]
  },
  {
   "cell_type": "code",
   "execution_count": 3,
   "metadata": {},
   "outputs": [],
   "source": [
    "class Model(nn.Module):\n",
    "    def __init__(self):\n",
    "        super(Model, self).__init__()\n",
    "        self.conv1 = nn.Conv1d(\n",
    "            in_channels=12, \n",
    "            out_channels=48,\n",
    "            kernel_size=7,\n",
    "            stride=2\n",
    "        )\n",
    "        self.conv2 = nn.Conv1d(\n",
    "            in_channels=48,\n",
    "            out_channels=144,\n",
    "            kernel_size=5,\n",
    "            stride=2,\n",
    "        )\n",
    "        self.conv3 = nn.Conv1d(\n",
    "            in_channels=144,\n",
    "            out_channels=288,\n",
    "            kernel_size=5,\n",
    "            stride=2\n",
    "        )\n",
    "        self.fc1 = nn.Linear(in_features=4032, out_features=500)\n",
    "        self.fc2 = nn.Linear(in_features=500, out_features=1)\n",
    "\n",
    "    def forward(self, x):\n",
    "        x = F.relu(self.conv1(x))\n",
    "        x = F.max_pool1d(x, 2, 2)\n",
    "        x = F.relu(self.conv2(x))\n",
    "        x = F.max_pool1d(x, 2, 2)\n",
    "        x = F.relu(self.conv3(x))\n",
    "        x = F.max_pool1d(x, 2, 2)\n",
    "        x = x.view(x.size(0), -1)\n",
    "        x = F.relu(self.fc1(x))\n",
    "        x = self.fc2(x)\n",
    "        x = torch.sigmoid(x)\n",
    "        return x\n",
    "        #return self.seq(x)\n"
   ]
  },
  {
   "attachments": {},
   "cell_type": "markdown",
   "metadata": {},
   "source": [
    "Обучение сети"
   ]
  },
  {
   "cell_type": "code",
   "execution_count": 4,
   "metadata": {},
   "outputs": [
    {
     "name": "stdout",
     "output_type": "stream",
     "text": [
      "cpu\n",
      "Model(\n",
      "  (conv1): Conv1d(12, 48, kernel_size=(7,), stride=(2,))\n",
      "  (conv2): Conv1d(48, 144, kernel_size=(5,), stride=(2,))\n",
      "  (conv3): Conv1d(144, 288, kernel_size=(5,), stride=(2,))\n",
      "  (fc1): Linear(in_features=4032, out_features=500, bias=True)\n",
      "  (fc2): Linear(in_features=500, out_features=1, bias=True)\n",
      ")\n"
     ]
    }
   ],
   "source": [
    "device = torch.device('cuda:0' if torch.cuda.is_available() else 'cpu')\n",
    "print(device)\n",
    "net = Model().to(device)\n",
    "print(net)"
   ]
  },
  {
   "cell_type": "code",
   "execution_count": 5,
   "metadata": {},
   "outputs": [],
   "source": [
    "criterion = nn.BCELoss()\n",
    "optimizer = optim.Adam(net.parameters(), lr=0.0001)\n",
    "\n",
    "def test(net, samples):\n",
    "    with torch.no_grad():\n",
    "        return net.forward(torch.Tensor(samples))\n",
    "\n",
    "def train(net, samples, labels, epochs, batch_size):\n",
    "    samples = torch.Tensor(samples)\n",
    "    labels = torch.Tensor(np.array([labels]).T)\n",
    "    dataset = TensorDataset(samples, labels)\n",
    "    dataloader = DataLoader(dataset, batch_size, shuffle=True)\n",
    "    start_time = time.time()\n",
    "    test_accuracy_list = [0]\n",
    "\n",
    "    for epoch in range(epochs):\n",
    "        loss_value = 0.0\n",
    "        for i, batch in enumerate(dataloader):\n",
    "            inputs, labels = batch[0].to(device, non_blocking=True), batch[1].to(device, non_blocking=True)\n",
    "            optimizer.zero_grad()\n",
    "            outputs = net(inputs)\n",
    "            loss = criterion(outputs, labels)\n",
    "            loss.backward()\n",
    "            optimizer.step()\n",
    "            loss_value += loss.item()\n",
    "        train_accuracy = accuracy_score(\n",
    "            y_train,#.to(device, non_blocking=True), \n",
    "            [(1 if pred[0] > 0.5 else 0) for pred in test(net, torch.Tensor(x_train).to(device, non_blocking=True))]\n",
    "        )\n",
    "        test_accuracy = accuracy_score(\n",
    "            y_test,#.to(device, non_blocking=True), \n",
    "            [(1 if pred[0] > 0.5 else 0) for pred in test(net, torch.Tensor(x_test).to(device, non_blocking=True))]\n",
    "        )\n",
    "        test_accuracy_list.append(test_accuracy)\n",
    "        print(f'Epoch {epoch:5} loss = {loss_value:.4f} Train: {train_accuracy:.4f} Test {test_accuracy:.4f}')\n",
    "        if epoch > 5 and np.average(test_accuracy_list[-4:]) < test_accuracy_list[-5]:\n",
    "            print('Test accuracy decreasing, break')\n",
    "            break"
   ]
  },
  {
   "cell_type": "code",
   "execution_count": 6,
   "metadata": {},
   "outputs": [
    {
     "name": "stdout",
     "output_type": "stream",
     "text": [
      "Epoch     0 loss = 34.8289 Train: 0.7668 Test 0.7611\n",
      "Epoch     1 loss = 22.9923 Train: 0.8441 Test 0.8447\n",
      "Epoch     2 loss = 18.9119 Train: 0.8495 Test 0.8510\n",
      "Epoch     3 loss = 17.6766 Train: 0.8805 Test 0.8696\n",
      "Epoch     4 loss = 16.0982 Train: 0.8878 Test 0.8723\n",
      "Epoch     5 loss = 15.9996 Train: 0.8840 Test 0.8670\n",
      "Epoch     6 loss = 15.2304 Train: 0.8595 Test 0.8470\n",
      "Epoch     7 loss = 14.9443 Train: 0.8952 Test 0.8825\n",
      "Test accuracy decreasing, break\n"
     ]
    }
   ],
   "source": [
    "train(net, x_train, y_train, 30, 128)"
   ]
  },
  {
   "attachments": {},
   "cell_type": "markdown",
   "metadata": {},
   "source": [
    "Accuracy"
   ]
  },
  {
   "cell_type": "code",
   "execution_count": 7,
   "metadata": {},
   "outputs": [
    {
     "name": "stdout",
     "output_type": "stream",
     "text": [
      "Train accuracy: 0.895193401592719\n",
      "Test accuracy: 0.8825481088254811\n"
     ]
    }
   ],
   "source": [
    "print(f'Train accuracy: {accuracy_score(y_train, [(1 if pred[0] > 0.5 else 0) for pred in test(net, x_train)])}')\n",
    "print(f'Test accuracy: {accuracy_score(y_test, [(1 if pred[0] > 0.5 else 0) for pred in test(net, x_test)])}')"
   ]
  },
  {
   "attachments": {},
   "cell_type": "markdown",
   "metadata": {},
   "source": [
    "ROC-AUC"
   ]
  },
  {
   "cell_type": "code",
   "execution_count": 38,
   "metadata": {},
   "outputs": [
    {
     "data": {
      "image/png": "[encoded data removed]",
      "text/plain": [
       "<Figure size 432x288 with 1 Axes>"
      ]
     },
     "metadata": {
      "needs_background": "light"
     },
     "output_type": "display_data"
    }
   ],
   "source": [
    "fpr, tpr, thresholds = roc_curve(y_test, [(1 if pred[0] > 0.5 else 0) for pred in test(net, x_test)])\n",
    "roc_auc = auc(fpr, tpr)\n",
    "display = RocCurveDisplay(fpr=fpr, tpr=tpr, roc_auc=roc_auc, estimator_name='CNN')\n",
    "display.plot()\n",
    "plt.show()"
   ]
  },
  {
   "cell_type": "code",
   "execution_count": 66,
   "metadata": {},
   "outputs": [],
   "source": [
    "class ConvNet(nn.Module):\n",
    "    def __init__(\n",
    "        self,\n",
    "        fc_layers_size,\n",
    "        conv_layers\n",
    "    ) -> None:\n",
    "        super(ConvNet, self).__init__()\n",
    "        layers = []\n",
    "        in_channels = 12\n",
    "        conv_out_size = 1000\n",
    "        for kernel_size, out_channels, stride in conv_layers:\n",
    "            layers += [\n",
    "                nn.Conv1d(in_channels, out_channels, kernel_size, stride),\n",
    "                nn.ReLU(),\n",
    "                nn.MaxPool1d(2, 2)\n",
    "            ]\n",
    "            in_channels = out_channels\n",
    "            # for Conv1d\n",
    "            conv_out_size = self.conv_eval(conv_out_size, kernel_size, stride, 1)\n",
    "            # for MaxPool1d\n",
    "            conv_out_size = self.conv_eval(conv_out_size, 2, 2, 1)\n",
    "        layers.append(nn.Flatten())\n",
    "        features_in = conv_out_size * out_channels\n",
    "        for fc_out in fc_layers_size[:-1]:\n",
    "            layers += [\n",
    "                nn.Linear(features_in, fc_out),\n",
    "                nn.ReLU()\n",
    "            ]\n",
    "            features_in = fc_out\n",
    "        layers += [\n",
    "            nn.Linear(features_in, fc_layers_size[-1]),\n",
    "            nn.Sigmoid()\n",
    "        ]\n",
    "        self.seq = nn.Sequential(*layers)\n",
    "    \n",
    "    @classmethod\n",
    "    def conv_eval(self, len_in, kernel_size, stride, dilation):\n",
    "        return int((len_in - 1 - dilation * (kernel_size - 1)) / stride + 1)\n",
    "    \n",
    "    def forward(self, x):\n",
    "        return self.seq(x)\n",
    "    \n",
    "    def train_net(\n",
    "        self,\n",
    "        criterion,\n",
    "        optimizer,\n",
    "        objects,\n",
    "        labels,\n",
    "        epochs,\n",
    "        batch_size\n",
    "    ):\n",
    "        objects = torch.Tensor(objects)\n",
    "        labels = torch.Tensor(np.array([labels]).T)\n",
    "        dataset = TensorDataset(objects, labels)\n",
    "        dataloader = DataLoader(dataset, batch_size, shuffle=True)\n",
    "        test_accuracy_list = [0]\n",
    "\n",
    "        for epoch in range(epochs):\n",
    "            loss_value = 0.0\n",
    "            for i, batch in enumerate(dataloader):\n",
    "                inputs, labels = batch[0].to(device, non_blocking=True), batch[1].to(device, non_blocking=True)\n",
    "                optimizer.zero_grad()\n",
    "                outputs = self(inputs)\n",
    "                loss = criterion(outputs, labels)\n",
    "                loss.backward()\n",
    "                optimizer.step()\n",
    "                loss_value += loss.item()\n",
    "            train_accuracy = accuracy_score(\n",
    "                y_train,#.to(device, non_blocking=True), \n",
    "                [(1 if pred[0] > 0.5 else 0) for pred in test(self, torch.Tensor(x_train).to(device, non_blocking=True))]\n",
    "            )\n",
    "            test_accuracy = accuracy_score(\n",
    "                y_test,#.to(device, non_blocking=True), \n",
    "                [(1 if pred[0] > 0.5 else 0) for pred in test(self, torch.Tensor(x_test).to(device, non_blocking=True))]\n",
    "            )\n",
    "            test_accuracy_list.append(test_accuracy)\n",
    "            print(f'Epoch {epoch:5} loss = {loss_value:.4f} Train: {train_accuracy:.4f} Test {test_accuracy:.4f}')\n",
    "            if epoch > 5 and np.average(test_accuracy_list[-4:]) < test_accuracy_list[-5]:\n",
    "                print('Test accuracy decreasing, break')\n",
    "                break\n",
    "    \n",
    "    def test(self, samples):\n",
    "        with torch.no_grad():\n",
    "            return self.forward(torch.Tensor(samples))"
   ]
  },
  {
   "cell_type": "code",
   "execution_count": 67,
   "metadata": {},
   "outputs": [
    {
     "name": "stdout",
     "output_type": "stream",
     "text": [
      "Epoch     0 loss = 35.4064 Train: 0.7558 Test 0.7664\n",
      "Epoch     1 loss = 23.9236 Train: 0.8383 Test 0.8457\n",
      "Epoch     2 loss = 19.7527 Train: 0.8611 Test 0.8610\n",
      "Epoch     3 loss = 17.8433 Train: 0.8695 Test 0.8716\n",
      "Epoch     4 loss = 16.7468 Train: 0.8798 Test 0.8802\n",
      "Epoch     5 loss = 16.7247 Train: 0.8798 Test 0.8812\n",
      "Epoch     6 loss = 15.5908 Train: 0.8852 Test 0.8825\n",
      "Epoch     7 loss = 15.3138 Train: 0.8864 Test 0.8872\n",
      "Epoch     8 loss = 14.7874 Train: 0.8951 Test 0.8898\n",
      "Epoch     9 loss = 15.5108 Train: 0.8844 Test 0.8845\n",
      "Epoch    10 loss = 14.3698 Train: 0.8906 Test 0.8925\n",
      "Epoch    11 loss = 14.3571 Train: 0.8997 Test 0.8925\n",
      "Epoch    12 loss = 13.9639 Train: 0.8987 Test 0.8895\n",
      "Test accuracy decreasing, break\n"
     ]
    }
   ],
   "source": [
    "generated = ConvNet(\n",
    "    fc_layers_size=[500, 1],\n",
    "    conv_layers=[\n",
    "        (7, 48, 2),\n",
    "        (5, 144, 2),\n",
    "        (5, 288, 2),\n",
    "    ]\n",
    ")\n",
    "generated\n",
    "generated.to(device)\n",
    "generated.train_net(\n",
    "    nn.BCELoss(), \n",
    "    optim.Adam(generated.parameters(), lr=0.0001),\n",
    "    x_train, \n",
    "    y_train, \n",
    "    30, \n",
    "    128\n",
    ")"
   ]
  }
 ],
 "metadata": {
  "kernelspec": {
   "display_name": "Python 3.10.4 64-bit",
   "language": "python",
   "name": "python3"
  },
  "language_info": {
   "codemirror_mode": {
    "name": "ipython",
    "version": 3
   },
   "file_extension": ".py",
   "mimetype": "text/x-python",
   "name": "python",
   "nbconvert_exporter": "python",
   "pygments_lexer": "ipython3",
   "version": "3.10.4"
  },
  "orig_nbformat": 4,
  "vscode": {
   "interpreter": {
    "hash": "fb4569285eef3a3450cb62085a5b1e0da4bce0af555edc33dcf29baf3acc1368"
   }
  }
 },
 "nbformat": 4,
 "nbformat_minor": 2
}
