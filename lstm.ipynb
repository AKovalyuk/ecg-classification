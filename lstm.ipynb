{
 "cells": [
  {
   "cell_type": "code",
   "execution_count": 3,
   "outputs": [],
   "source": [
    "from src import loader, vis, preprocess"
   ],
   "metadata": {
    "collapsed": false,
    "pycharm": {
     "name": "#%%\n"
    }
   }
  },
  {
   "cell_type": "code",
   "execution_count": 4,
   "outputs": [],
   "source": [
    "X, Y = loader.get_data()"
   ],
   "metadata": {
    "collapsed": false,
    "pycharm": {
     "name": "#%%\n"
    }
   }
  },
  {
   "cell_type": "code",
   "execution_count": 5,
   "outputs": [
    {
     "data": {
      "text/plain": "array([[[-1.190e-01, -5.500e-02,  6.400e-02, ..., -2.600e-02,\n         -3.900e-02, -7.900e-02],\n        [-1.160e-01, -5.100e-02,  6.500e-02, ..., -3.100e-02,\n         -3.400e-02, -7.400e-02],\n        [-1.200e-01, -4.400e-02,  7.600e-02, ..., -2.800e-02,\n         -2.900e-02, -6.900e-02],\n        ...,\n        [ 6.900e-02,  0.000e+00, -6.900e-02, ...,  2.400e-02,\n         -4.100e-02, -5.800e-02],\n        [ 8.600e-02,  4.000e-03, -8.100e-02, ...,  2.420e-01,\n         -4.600e-02, -9.800e-02],\n        [ 2.200e-02, -3.100e-02, -5.400e-02, ...,  1.430e-01,\n         -3.500e-02, -1.200e-01]],\n\n       [[ 4.000e-03,  1.380e-01,  1.340e-01, ...,  1.920e-01,\n          8.300e-02,  8.800e-02],\n        [-2.000e-02,  1.160e-01,  1.360e-01, ...,  1.560e-01,\n          5.700e-02,  6.300e-02],\n        [-5.300e-02,  9.200e-02,  1.450e-01, ...,  1.070e-01,\n          1.300e-02,  2.200e-02],\n        ...,\n        [ 1.210e-01,  3.980e-01,  2.770e-01, ..., -1.065e+00,\n         -4.920e-01, -1.560e-01],\n        [-3.260e-01,  5.700e-02,  3.830e-01, ..., -2.800e-01,\n         -1.750e-01, -7.100e-02],\n        [-3.480e-01, -5.600e-02,  2.920e-01, ..., -3.080e-01,\n         -2.310e-01, -1.450e-01]],\n\n       [[-2.900e-02, -7.900e-02, -4.900e-02, ..., -1.030e-01,\n         -7.600e-02, -6.600e-02],\n        [-3.500e-02, -7.000e-02, -3.500e-02, ..., -1.040e-01,\n         -7.900e-02, -6.800e-02],\n        [-5.400e-02, -5.700e-02, -3.000e-03, ..., -7.800e-02,\n         -6.600e-02, -5.400e-02],\n        ...,\n        [-2.900e-02, -2.260e-01, -1.980e-01, ...,  1.000e-03,\n          2.290e-01,  1.800e-02],\n        [-4.800e-02, -2.660e-01, -2.180e-01, ..., -1.000e-03,\n          2.100e-02, -8.000e-03],\n        [-4.900e-02, -2.880e-01, -2.390e-01, ...,  1.000e-03,\n         -1.800e-02,  6.000e-03]],\n\n       ...,\n\n       [[ 3.800e-02,  2.400e-02, -1.400e-02, ...,  6.000e-03,\n          1.600e-02,  2.700e-02],\n        [ 7.800e-02,  6.600e-02, -1.200e-02, ...,  1.600e-02,\n          3.100e-02,  4.500e-02],\n        [-1.400e-02, -6.000e-03,  8.000e-03, ...,  9.000e-03,\n          3.000e-02,  4.700e-02],\n        ...,\n        [-1.060e-01, -6.200e-02,  4.400e-02, ..., -2.120e-01,\n         -7.400e-02,  5.100e-02],\n        [-4.500e-02,  2.600e-02,  7.100e-02, ..., -1.510e-01,\n         -5.900e-02,  4.800e-02],\n        [ 4.630e-01,  5.300e-01,  6.700e-02, ..., -1.810e-01,\n         -1.050e-01,  3.300e-02]],\n\n       [[-5.700e-02, -5.700e-02,  0.000e+00, ..., -3.500e-02,\n         -3.900e-02, -3.500e-02],\n        [-4.100e-02, -2.900e-02,  1.200e-02, ..., -2.300e-02,\n         -2.800e-02, -2.700e-02],\n        [ 3.000e-03,  4.500e-02,  4.200e-02, ..., -9.000e-03,\n         -1.400e-02, -1.400e-02],\n        ...,\n        [ 3.300e-02,  7.000e-02,  3.700e-02, ...,  2.180e-01,\n          1.010e-01,  5.200e-02],\n        [ 2.700e-02,  8.200e-02,  5.500e-02, ...,  2.100e-01,\n          3.350e-01,  1.000e-02],\n        [-6.000e-03,  5.100e-02,  5.700e-02, ...,  2.110e-01,\n          3.740e-01, -9.000e-03]],\n\n       [[-4.900e-02, -2.500e-02,  2.400e-02, ..., -4.000e-02,\n         -2.600e-02, -3.100e-02],\n        [-4.900e-02, -2.900e-02,  2.000e-02, ..., -3.200e-02,\n         -3.300e-02, -4.300e-02],\n        [-5.900e-02, -4.200e-02,  1.700e-02, ..., -4.000e-02,\n         -4.700e-02, -5.100e-02],\n        ...,\n        [ 9.100e-02,  1.200e-02, -7.900e-02, ...,  6.300e-02,\n          1.600e-02, -1.170e-01],\n        [ 1.750e-01,  2.200e-02, -1.530e-01, ...,  8.000e-02,\n          1.800e-02, -1.080e-01],\n        [ 1.660e-01, -7.000e-03, -1.730e-01, ...,  1.060e-01,\n          4.700e-02, -1.030e-01]]])"
     },
     "execution_count": 5,
     "metadata": {},
     "output_type": "execute_result"
    }
   ],
   "source": [
    "X"
   ],
   "metadata": {
    "collapsed": false,
    "pycharm": {
     "name": "#%%\n"
    }
   }
  },
  {
   "cell_type": "code",
   "execution_count": 6,
   "outputs": [
    {
     "data": {
      "text/plain": "        patient_id    age  sex  height  weight  nurse  site      device  \\\necg_id                                                                    \n1          15709.0   56.0    1     NaN    63.0    2.0   0.0   CS-12   E   \n2          13243.0   19.0    0     NaN    70.0    2.0   0.0   CS-12   E   \n3          20372.0   37.0    1     NaN    69.0    2.0   0.0   CS-12   E   \n4          17014.0   24.0    0     NaN    82.0    2.0   0.0   CS-12   E   \n5          17448.0   19.0    1     NaN    70.0    2.0   0.0   CS-12   E   \n...            ...    ...  ...     ...     ...    ...   ...         ...   \n21830      10520.0   86.0    0     NaN     NaN    1.0   2.0  AT-60    3   \n21831      11905.0   55.0    1     NaN     NaN    1.0   2.0  AT-60    3   \n21834      20703.0  300.0    0     NaN     NaN    1.0   2.0  AT-60    3   \n21836       8873.0   64.0    1     NaN     NaN    1.0   2.0  AT-60    3   \n21837      11744.0   68.0    0     NaN     NaN    1.0   2.0  AT-60    3   \n\n             recording_date  \\\necg_id                        \n1       1984-11-09 09:17:34   \n2       1984-11-14 12:55:37   \n3       1984-11-15 12:49:10   \n4       1984-11-15 13:44:57   \n5       1984-11-17 10:43:15   \n...                     ...   \n21830   2001-05-28 07:53:21   \n21831   2001-05-28 12:49:25   \n21834   2001-06-05 11:33:39   \n21836   2001-06-09 18:21:49   \n21837   2001-06-11 16:43:01   \n\n                                                   report  ... static_noise  \\\necg_id                                                     ...                \n1                  sinusrhythmus periphere niederspannung  ...    , I-V1,     \n2                     sinusbradykardie sonst normales ekg  ...          NaN   \n3                              sinusrhythmus normales ekg  ...          NaN   \n4                              sinusrhythmus normales ekg  ...          NaN   \n5                              sinusrhythmus normales ekg  ...          NaN   \n...                                                   ...  ...          ...   \n21830   sinusrhythmus lagetyp normal periphere nieders...  ...          NaN   \n21831   sinusrhythmus lagetyp normal normales ekg 4.46...  ...          NaN   \n21834   sinusrhythmus lagetyp normal qrs(t) abnorm    ...  ...          NaN   \n21836   supraventrikulÄre extrasystole(n) sinusrhythmu...  ...          NaN   \n21837   sinusrhythmus p-sinistrocardiale lagetyp norma...  ...   , I-AVL,     \n\n       burst_noise electrodes_problems extra_beats  pacemaker  strat_fold  \\\necg_id                                                                      \n1              NaN                 NaN         NaN        NaN           3   \n2              NaN                 NaN         NaN        NaN           2   \n3              NaN                 NaN         NaN        NaN           5   \n4              NaN                 NaN         NaN        NaN           3   \n5              NaN                 NaN         NaN        NaN           4   \n...            ...                 ...         ...        ...         ...   \n21830          NaN                 NaN         NaN        NaN           1   \n21831          NaN                 NaN         NaN        NaN           9   \n21834          NaN                 NaN         NaN        NaN           4   \n21836          NaN                 NaN        SVES        NaN           8   \n21837          NaN                 NaN         NaN        NaN           9   \n\n                      filename_lr                filename_hr  \\\necg_id                                                         \n1       records100/00000/00001_lr  records500/00000/00001_hr   \n2       records100/00000/00002_lr  records500/00000/00002_hr   \n3       records100/00000/00003_lr  records500/00000/00003_hr   \n4       records100/00000/00004_lr  records500/00000/00004_hr   \n5       records100/00000/00005_lr  records500/00000/00005_hr   \n...                           ...                        ...   \n21830   records100/21000/21830_lr  records500/21000/21830_hr   \n21831   records100/21000/21831_lr  records500/21000/21831_hr   \n21834   records100/21000/21834_lr  records500/21000/21834_hr   \n21836   records100/21000/21836_lr  records500/21000/21836_hr   \n21837   records100/21000/21837_lr  records500/21000/21837_hr   \n\n       diagnostic_superclass is_MI  \necg_id                              \n1                     [NORM]   0.0  \n2                     [NORM]   0.0  \n3                     [NORM]   0.0  \n4                     [NORM]   0.0  \n5                     [NORM]   0.0  \n...                      ...   ...  \n21830                 [NORM]   0.0  \n21831                 [NORM]   0.0  \n21834                 [NORM]   0.0  \n21836                 [NORM]   0.0  \n21837                 [NORM]   0.0  \n\n[11601 rows x 29 columns]",
      "text/html": "<div>\n<style scoped>\n    .dataframe tbody tr th:only-of-type {\n        vertical-align: middle;\n    }\n\n    .dataframe tbody tr th {\n        vertical-align: top;\n    }\n\n    .dataframe thead th {\n        text-align: right;\n    }\n</style>\n<table border=\"1\" class=\"dataframe\">\n  <thead>\n    <tr style=\"text-align: right;\">\n      <th></th>\n      <th>patient_id</th>\n      <th>age</th>\n      <th>sex</th>\n      <th>height</th>\n      <th>weight</th>\n      <th>nurse</th>\n      <th>site</th>\n      <th>device</th>\n      <th>recording_date</th>\n      <th>report</th>\n      <th>...</th>\n      <th>static_noise</th>\n      <th>burst_noise</th>\n      <th>electrodes_problems</th>\n      <th>extra_beats</th>\n      <th>pacemaker</th>\n      <th>strat_fold</th>\n      <th>filename_lr</th>\n      <th>filename_hr</th>\n      <th>diagnostic_superclass</th>\n      <th>is_MI</th>\n    </tr>\n    <tr>\n      <th>ecg_id</th>\n      <th></th>\n      <th></th>\n      <th></th>\n      <th></th>\n      <th></th>\n      <th></th>\n      <th></th>\n      <th></th>\n      <th></th>\n      <th></th>\n      <th></th>\n      <th></th>\n      <th></th>\n      <th></th>\n      <th></th>\n      <th></th>\n      <th></th>\n      <th></th>\n      <th></th>\n      <th></th>\n      <th></th>\n    </tr>\n  </thead>\n  <tbody>\n    <tr>\n      <th>1</th>\n      <td>15709.0</td>\n      <td>56.0</td>\n      <td>1</td>\n      <td>NaN</td>\n      <td>63.0</td>\n      <td>2.0</td>\n      <td>0.0</td>\n      <td>CS-12   E</td>\n      <td>1984-11-09 09:17:34</td>\n      <td>sinusrhythmus periphere niederspannung</td>\n      <td>...</td>\n      <td>, I-V1,</td>\n      <td>NaN</td>\n      <td>NaN</td>\n      <td>NaN</td>\n      <td>NaN</td>\n      <td>3</td>\n      <td>records100/00000/00001_lr</td>\n      <td>records500/00000/00001_hr</td>\n      <td>[NORM]</td>\n      <td>0.0</td>\n    </tr>\n    <tr>\n      <th>2</th>\n      <td>13243.0</td>\n      <td>19.0</td>\n      <td>0</td>\n      <td>NaN</td>\n      <td>70.0</td>\n      <td>2.0</td>\n      <td>0.0</td>\n      <td>CS-12   E</td>\n      <td>1984-11-14 12:55:37</td>\n      <td>sinusbradykardie sonst normales ekg</td>\n      <td>...</td>\n      <td>NaN</td>\n      <td>NaN</td>\n      <td>NaN</td>\n      <td>NaN</td>\n      <td>NaN</td>\n      <td>2</td>\n      <td>records100/00000/00002_lr</td>\n      <td>records500/00000/00002_hr</td>\n      <td>[NORM]</td>\n      <td>0.0</td>\n    </tr>\n    <tr>\n      <th>3</th>\n      <td>20372.0</td>\n      <td>37.0</td>\n      <td>1</td>\n      <td>NaN</td>\n      <td>69.0</td>\n      <td>2.0</td>\n      <td>0.0</td>\n      <td>CS-12   E</td>\n      <td>1984-11-15 12:49:10</td>\n      <td>sinusrhythmus normales ekg</td>\n      <td>...</td>\n      <td>NaN</td>\n      <td>NaN</td>\n      <td>NaN</td>\n      <td>NaN</td>\n      <td>NaN</td>\n      <td>5</td>\n      <td>records100/00000/00003_lr</td>\n      <td>records500/00000/00003_hr</td>\n      <td>[NORM]</td>\n      <td>0.0</td>\n    </tr>\n    <tr>\n      <th>4</th>\n      <td>17014.0</td>\n      <td>24.0</td>\n      <td>0</td>\n      <td>NaN</td>\n      <td>82.0</td>\n      <td>2.0</td>\n      <td>0.0</td>\n      <td>CS-12   E</td>\n      <td>1984-11-15 13:44:57</td>\n      <td>sinusrhythmus normales ekg</td>\n      <td>...</td>\n      <td>NaN</td>\n      <td>NaN</td>\n      <td>NaN</td>\n      <td>NaN</td>\n      <td>NaN</td>\n      <td>3</td>\n      <td>records100/00000/00004_lr</td>\n      <td>records500/00000/00004_hr</td>\n      <td>[NORM]</td>\n      <td>0.0</td>\n    </tr>\n    <tr>\n      <th>5</th>\n      <td>17448.0</td>\n      <td>19.0</td>\n      <td>1</td>\n      <td>NaN</td>\n      <td>70.0</td>\n      <td>2.0</td>\n      <td>0.0</td>\n      <td>CS-12   E</td>\n      <td>1984-11-17 10:43:15</td>\n      <td>sinusrhythmus normales ekg</td>\n      <td>...</td>\n      <td>NaN</td>\n      <td>NaN</td>\n      <td>NaN</td>\n      <td>NaN</td>\n      <td>NaN</td>\n      <td>4</td>\n      <td>records100/00000/00005_lr</td>\n      <td>records500/00000/00005_hr</td>\n      <td>[NORM]</td>\n      <td>0.0</td>\n    </tr>\n    <tr>\n      <th>...</th>\n      <td>...</td>\n      <td>...</td>\n      <td>...</td>\n      <td>...</td>\n      <td>...</td>\n      <td>...</td>\n      <td>...</td>\n      <td>...</td>\n      <td>...</td>\n      <td>...</td>\n      <td>...</td>\n      <td>...</td>\n      <td>...</td>\n      <td>...</td>\n      <td>...</td>\n      <td>...</td>\n      <td>...</td>\n      <td>...</td>\n      <td>...</td>\n      <td>...</td>\n      <td>...</td>\n    </tr>\n    <tr>\n      <th>21830</th>\n      <td>10520.0</td>\n      <td>86.0</td>\n      <td>0</td>\n      <td>NaN</td>\n      <td>NaN</td>\n      <td>1.0</td>\n      <td>2.0</td>\n      <td>AT-60    3</td>\n      <td>2001-05-28 07:53:21</td>\n      <td>sinusrhythmus lagetyp normal periphere nieders...</td>\n      <td>...</td>\n      <td>NaN</td>\n      <td>NaN</td>\n      <td>NaN</td>\n      <td>NaN</td>\n      <td>NaN</td>\n      <td>1</td>\n      <td>records100/21000/21830_lr</td>\n      <td>records500/21000/21830_hr</td>\n      <td>[NORM]</td>\n      <td>0.0</td>\n    </tr>\n    <tr>\n      <th>21831</th>\n      <td>11905.0</td>\n      <td>55.0</td>\n      <td>1</td>\n      <td>NaN</td>\n      <td>NaN</td>\n      <td>1.0</td>\n      <td>2.0</td>\n      <td>AT-60    3</td>\n      <td>2001-05-28 12:49:25</td>\n      <td>sinusrhythmus lagetyp normal normales ekg 4.46...</td>\n      <td>...</td>\n      <td>NaN</td>\n      <td>NaN</td>\n      <td>NaN</td>\n      <td>NaN</td>\n      <td>NaN</td>\n      <td>9</td>\n      <td>records100/21000/21831_lr</td>\n      <td>records500/21000/21831_hr</td>\n      <td>[NORM]</td>\n      <td>0.0</td>\n    </tr>\n    <tr>\n      <th>21834</th>\n      <td>20703.0</td>\n      <td>300.0</td>\n      <td>0</td>\n      <td>NaN</td>\n      <td>NaN</td>\n      <td>1.0</td>\n      <td>2.0</td>\n      <td>AT-60    3</td>\n      <td>2001-06-05 11:33:39</td>\n      <td>sinusrhythmus lagetyp normal qrs(t) abnorm    ...</td>\n      <td>...</td>\n      <td>NaN</td>\n      <td>NaN</td>\n      <td>NaN</td>\n      <td>NaN</td>\n      <td>NaN</td>\n      <td>4</td>\n      <td>records100/21000/21834_lr</td>\n      <td>records500/21000/21834_hr</td>\n      <td>[NORM]</td>\n      <td>0.0</td>\n    </tr>\n    <tr>\n      <th>21836</th>\n      <td>8873.0</td>\n      <td>64.0</td>\n      <td>1</td>\n      <td>NaN</td>\n      <td>NaN</td>\n      <td>1.0</td>\n      <td>2.0</td>\n      <td>AT-60    3</td>\n      <td>2001-06-09 18:21:49</td>\n      <td>supraventrikulÄre extrasystole(n) sinusrhythmu...</td>\n      <td>...</td>\n      <td>NaN</td>\n      <td>NaN</td>\n      <td>NaN</td>\n      <td>SVES</td>\n      <td>NaN</td>\n      <td>8</td>\n      <td>records100/21000/21836_lr</td>\n      <td>records500/21000/21836_hr</td>\n      <td>[NORM]</td>\n      <td>0.0</td>\n    </tr>\n    <tr>\n      <th>21837</th>\n      <td>11744.0</td>\n      <td>68.0</td>\n      <td>0</td>\n      <td>NaN</td>\n      <td>NaN</td>\n      <td>1.0</td>\n      <td>2.0</td>\n      <td>AT-60    3</td>\n      <td>2001-06-11 16:43:01</td>\n      <td>sinusrhythmus p-sinistrocardiale lagetyp norma...</td>\n      <td>...</td>\n      <td>, I-AVL,</td>\n      <td>NaN</td>\n      <td>NaN</td>\n      <td>NaN</td>\n      <td>NaN</td>\n      <td>9</td>\n      <td>records100/21000/21837_lr</td>\n      <td>records500/21000/21837_hr</td>\n      <td>[NORM]</td>\n      <td>0.0</td>\n    </tr>\n  </tbody>\n</table>\n<p>11601 rows × 29 columns</p>\n</div>"
     },
     "execution_count": 6,
     "metadata": {},
     "output_type": "execute_result"
    }
   ],
   "source": [
    "Y"
   ],
   "metadata": {
    "collapsed": false,
    "pycharm": {
     "name": "#%%\n"
    }
   }
  },
  {
   "cell_type": "code",
   "execution_count": 7,
   "outputs": [
    {
     "data": {
      "text/plain": "array([[[-1.190e-01, -5.500e-02,  6.400e-02, ..., -2.600e-02,\n         -3.900e-02, -7.900e-02],\n        [-1.160e-01, -5.100e-02,  6.500e-02, ..., -3.100e-02,\n         -3.400e-02, -7.400e-02],\n        [-1.200e-01, -4.400e-02,  7.600e-02, ..., -2.800e-02,\n         -2.900e-02, -6.900e-02],\n        ...,\n        [ 6.900e-02,  0.000e+00, -6.900e-02, ...,  2.400e-02,\n         -4.100e-02, -5.800e-02],\n        [ 8.600e-02,  4.000e-03, -8.100e-02, ...,  2.420e-01,\n         -4.600e-02, -9.800e-02],\n        [ 2.200e-02, -3.100e-02, -5.400e-02, ...,  1.430e-01,\n         -3.500e-02, -1.200e-01]],\n\n       [[ 4.000e-03,  1.380e-01,  1.340e-01, ...,  1.920e-01,\n          8.300e-02,  8.800e-02],\n        [-2.000e-02,  1.160e-01,  1.360e-01, ...,  1.560e-01,\n          5.700e-02,  6.300e-02],\n        [-5.300e-02,  9.200e-02,  1.450e-01, ...,  1.070e-01,\n          1.300e-02,  2.200e-02],\n        ...,\n        [ 1.210e-01,  3.980e-01,  2.770e-01, ..., -1.065e+00,\n         -4.920e-01, -1.560e-01],\n        [-3.260e-01,  5.700e-02,  3.830e-01, ..., -2.800e-01,\n         -1.750e-01, -7.100e-02],\n        [-3.480e-01, -5.600e-02,  2.920e-01, ..., -3.080e-01,\n         -2.310e-01, -1.450e-01]],\n\n       [[-2.900e-02, -7.900e-02, -4.900e-02, ..., -1.030e-01,\n         -7.600e-02, -6.600e-02],\n        [-3.500e-02, -7.000e-02, -3.500e-02, ..., -1.040e-01,\n         -7.900e-02, -6.800e-02],\n        [-5.400e-02, -5.700e-02, -3.000e-03, ..., -7.800e-02,\n         -6.600e-02, -5.400e-02],\n        ...,\n        [-2.900e-02, -2.260e-01, -1.980e-01, ...,  1.000e-03,\n          2.290e-01,  1.800e-02],\n        [-4.800e-02, -2.660e-01, -2.180e-01, ..., -1.000e-03,\n          2.100e-02, -8.000e-03],\n        [-4.900e-02, -2.880e-01, -2.390e-01, ...,  1.000e-03,\n         -1.800e-02,  6.000e-03]],\n\n       ...,\n\n       [[ 3.500e-02,  6.000e-02,  2.500e-02, ..., -4.400e-02,\n         -1.400e-02, -2.000e-02],\n        [ 2.600e-02,  5.200e-02,  2.600e-02, ..., -3.900e-02,\n         -7.000e-03, -2.400e-02],\n        [-8.000e-03, -1.200e-02, -4.000e-03, ..., -6.200e-02,\n         -2.900e-02, -3.800e-02],\n        ...,\n        [ 5.600e-02,  3.100e-02, -2.500e-02, ..., -6.200e-02,\n         -9.900e-02, -2.000e-02],\n        [ 2.200e-02,  1.500e-02, -7.000e-03, ..., -4.870e-01,\n         -1.000e-01,  1.500e-02],\n        [ 3.300e-02,  1.200e-02, -2.100e-02, ..., -5.730e-01,\n         -1.160e-01, -1.200e-02]],\n\n       [[ 7.500e-02,  1.500e-02, -6.000e-02, ..., -3.000e-02,\n         -4.000e-02, -3.500e-02],\n        [ 8.000e-02,  2.100e-02, -5.900e-02, ..., -2.900e-02,\n         -4.000e-02, -3.500e-02],\n        [ 8.500e-02,  3.100e-02, -5.400e-02, ..., -2.500e-02,\n         -3.600e-02, -3.200e-02],\n        ...,\n        [-9.000e-03, -1.600e-02, -7.000e-03, ...,  1.390e-01,\n          2.700e-02, -2.500e-02],\n        [-3.300e-02, -2.800e-02,  5.000e-03, ...,  1.240e-01,\n         -1.100e-02, -3.000e-03],\n        [-6.200e-02, -3.100e-02,  3.100e-02, ...,  8.600e-02,\n          8.000e-03, -6.500e-02]],\n\n       [[ 8.300e-01,  4.310e-01, -4.000e-01, ...,  2.124e+00,\n          1.431e+00,  9.100e-01],\n        [ 7.940e-01,  4.850e-01, -3.090e-01, ...,  1.602e+00,\n          1.304e+00,  9.330e-01],\n        [ 2.600e-02,  2.280e-01,  2.020e-01, ..., -7.940e-01,\n         -1.500e-01,  1.000e-01],\n        ...,\n        [ 7.320e-01,  4.280e-01, -3.040e-01, ...,  2.175e+00,\n          1.512e+00,  9.790e-01],\n        [ 4.910e-01,  4.030e-01, -8.800e-02, ...,  6.830e-01,\n          8.730e-01,  7.530e-01],\n        [-3.530e-01,  2.300e-02,  3.760e-01, ..., -1.379e+00,\n         -6.010e-01, -1.980e-01]]])"
     },
     "execution_count": 7,
     "metadata": {},
     "output_type": "execute_result"
    }
   ],
   "source": [
    "X_train, y_train, X_test, y_test = preprocess.train_split(X, Y, test_fold=10)\n",
    "X_train"
   ],
   "metadata": {
    "collapsed": false,
    "pycharm": {
     "name": "#%%\n"
    }
   }
  },
  {
   "cell_type": "code",
   "execution_count": 8,
   "outputs": [
    {
     "data": {
      "text/plain": "ecg_id\n1     0.0\n2     0.0\n3     0.0\n4     0.0\n5     0.0\n6     0.0\n7     0.0\n8     1.0\n10    0.0\n11    0.0\nName: is_MI, dtype: float64"
     },
     "execution_count": 8,
     "metadata": {},
     "output_type": "execute_result"
    }
   ],
   "source": [
    "y_train.head(10)"
   ],
   "metadata": {
    "collapsed": false,
    "pycharm": {
     "name": "#%%\n"
    }
   }
  },
  {
   "cell_type": "markdown",
   "source": [
    "# LSTM"
   ],
   "metadata": {
    "collapsed": false,
    "pycharm": {
     "name": "#%% md\n"
    }
   }
  },
  {
   "cell_type": "code",
   "execution_count": 9,
   "outputs": [
    {
     "name": "stderr",
     "output_type": "stream",
     "text": [
      "2023-01-02 12:40:45.590761: I tensorflow/core/platform/cpu_feature_guard.cc:193] This TensorFlow binary is optimized with oneAPI Deep Neural Network Library (oneDNN) to use the following CPU instructions in performance-critical operations:  AVX2 FMA\n",
      "To enable them in other operations, rebuild TensorFlow with the appropriate compiler flags.\n",
      "2023-01-02 12:40:46.520555: W tensorflow/compiler/xla/stream_executor/platform/default/dso_loader.cc:64] Could not load dynamic library 'libcudart.so.11.0'; dlerror: libcudart.so.11.0: cannot open shared object file: No such file or directory\n",
      "2023-01-02 12:40:46.520583: I tensorflow/compiler/xla/stream_executor/cuda/cudart_stub.cc:29] Ignore above cudart dlerror if you do not have a GPU set up on your machine.\n",
      "2023-01-02 12:40:48.034669: W tensorflow/compiler/xla/stream_executor/platform/default/dso_loader.cc:64] Could not load dynamic library 'libnvinfer.so.7'; dlerror: libnvinfer.so.7: cannot open shared object file: No such file or directory\n",
      "2023-01-02 12:40:48.034891: W tensorflow/compiler/xla/stream_executor/platform/default/dso_loader.cc:64] Could not load dynamic library 'libnvinfer_plugin.so.7'; dlerror: libnvinfer_plugin.so.7: cannot open shared object file: No such file or directory\n",
      "2023-01-02 12:40:48.034904: W tensorflow/compiler/tf2tensorrt/utils/py_utils.cc:38] TF-TRT Warning: Cannot dlopen some TensorRT libraries. If you would like to use Nvidia GPU with TensorRT, please make sure the missing libraries mentioned above are installed properly.\n"
     ]
    }
   ],
   "source": [
    "from keras.models import Sequential\n",
    "from keras.layers import Dense, LSTM, Dropout"
   ],
   "metadata": {
    "collapsed": false,
    "pycharm": {
     "name": "#%%\n"
    }
   }
  },
  {
   "cell_type": "code",
   "execution_count": 10,
   "outputs": [
    {
     "data": {
      "text/plain": "(10433, 1000, 12)"
     },
     "execution_count": 10,
     "metadata": {},
     "output_type": "execute_result"
    }
   ],
   "source": [
    "X_train.shape"
   ],
   "metadata": {
    "collapsed": false,
    "pycharm": {
     "name": "#%%\n"
    }
   }
  },
  {
   "cell_type": "code",
   "execution_count": 11,
   "outputs": [
    {
     "name": "stderr",
     "output_type": "stream",
     "text": [
      "2023-01-02 12:40:49.518228: E tensorflow/compiler/xla/stream_executor/cuda/cuda_driver.cc:267] failed call to cuInit: CUDA_ERROR_NO_DEVICE: no CUDA-capable device is detected\n",
      "2023-01-02 12:40:49.518324: I tensorflow/compiler/xla/stream_executor/cuda/cuda_diagnostics.cc:156] kernel driver does not appear to be running on this host (twoics-ASUS): /proc/driver/nvidia/version does not exist\n",
      "2023-01-02 12:40:49.519725: I tensorflow/core/platform/cpu_feature_guard.cc:193] This TensorFlow binary is optimized with oneAPI Deep Neural Network Library (oneDNN) to use the following CPU instructions in performance-critical operations:  AVX2 FMA\n",
      "To enable them in other operations, rebuild TensorFlow with the appropriate compiler flags.\n"
     ]
    }
   ],
   "source": [
    "model = Sequential()"
   ],
   "metadata": {
    "collapsed": false,
    "pycharm": {
     "name": "#%%\n"
    }
   }
  },
  {
   "cell_type": "code",
   "execution_count": 12,
   "outputs": [],
   "source": [
    "model.add(LSTM(units=150, return_sequences=True, input_shape=(1000, 12)))"
   ],
   "metadata": {
    "collapsed": false,
    "pycharm": {
     "name": "#%%\n"
    }
   }
  },
  {
   "cell_type": "code",
   "execution_count": 13,
   "outputs": [],
   "source": [
    "model.add(Dropout(0.3))"
   ],
   "metadata": {
    "collapsed": false,
    "pycharm": {
     "name": "#%%\n"
    }
   }
  },
  {
   "cell_type": "code",
   "execution_count": 14,
   "outputs": [],
   "source": [
    "model.add(LSTM(units=50))"
   ],
   "metadata": {
    "collapsed": false,
    "pycharm": {
     "name": "#%%\n"
    }
   }
  },
  {
   "cell_type": "code",
   "execution_count": 15,
   "outputs": [],
   "source": [
    "model.add(Dropout(0.1))"
   ],
   "metadata": {
    "collapsed": false,
    "pycharm": {
     "name": "#%%\n"
    }
   }
  },
  {
   "cell_type": "code",
   "execution_count": 16,
   "outputs": [],
   "source": [
    "model.add(Dense(1, activation='softmax'))"
   ],
   "metadata": {
    "collapsed": false,
    "pycharm": {
     "name": "#%%\n"
    }
   }
  },
  {
   "cell_type": "code",
   "execution_count": 17,
   "outputs": [],
   "source": [
    "model.compile(optimizer='adam', loss='binary_crossentropy', metrics=['AUC'])"
   ],
   "metadata": {
    "collapsed": false,
    "pycharm": {
     "name": "#%%\n"
    }
   }
  },
  {
   "cell_type": "code",
   "execution_count": 18,
   "outputs": [
    {
     "name": "stdout",
     "output_type": "stream",
     "text": [
      "Epoch 1/2\n"
     ]
    },
    {
     "name": "stderr",
     "output_type": "stream",
     "text": [
      "2023-01-02 12:40:54.805957: W tensorflow/tsl/framework/cpu_allocator_impl.cc:82] Allocation of 19200000 exceeds 10% of free system memory.\n",
      "2023-01-02 12:40:54.824150: W tensorflow/tsl/framework/cpu_allocator_impl.cc:82] Allocation of 19200000 exceeds 10% of free system memory.\n",
      "2023-01-02 12:40:54.845647: W tensorflow/tsl/framework/cpu_allocator_impl.cc:82] Allocation of 19200000 exceeds 10% of free system memory.\n",
      "2023-01-02 12:40:54.846596: W tensorflow/tsl/framework/cpu_allocator_impl.cc:82] Allocation of 19200000 exceeds 10% of free system memory.\n",
      "2023-01-02 12:40:55.147080: W tensorflow/tsl/framework/cpu_allocator_impl.cc:82] Allocation of 19200000 exceeds 10% of free system memory.\n"
     ]
    },
    {
     "name": "stdout",
     "output_type": "stream",
     "text": [
      "327/327 [==============================] - 369s 1s/step - loss: 0.5322 - auc: 0.5000\n",
      "Epoch 2/2\n",
      "327/327 [==============================] - 367s 1s/step - loss: 0.5263 - auc: 0.5000\n"
     ]
    },
    {
     "data": {
      "text/plain": "<keras.callbacks.History at 0x7f7ff074db40>"
     },
     "execution_count": 18,
     "metadata": {},
     "output_type": "execute_result"
    }
   ],
   "source": [
    "model.fit(X_train, y_train, epochs=2, batch_size=32)"
   ],
   "metadata": {
    "collapsed": false,
    "pycharm": {
     "name": "#%%\n"
    }
   }
  },
  {
   "cell_type": "code",
   "execution_count": 19,
   "outputs": [],
   "source": [
    "# train_predict = model.predict(X_train)\n",
    "# train_predict"
   ],
   "metadata": {
    "collapsed": false,
    "pycharm": {
     "name": "#%%\n"
    }
   }
  },
  {
   "cell_type": "code",
   "execution_count": 20,
   "outputs": [
    {
     "name": "stdout",
     "output_type": "stream",
     "text": [
      "37/37 [==============================] - 25s 604ms/step\n"
     ]
    },
    {
     "data": {
      "text/plain": "array([[0.99999994],\n       [0.99999994],\n       [0.99999994],\n       ...,\n       [0.99999994],\n       [0.99999994],\n       [0.99999994]], dtype=float32)"
     },
     "execution_count": 20,
     "metadata": {},
     "output_type": "execute_result"
    }
   ],
   "source": [
    "test_predict = model.predict(X_test)\n",
    "test_predict"
   ],
   "metadata": {
    "collapsed": false,
    "pycharm": {
     "name": "#%%\n"
    }
   }
  },
  {
   "cell_type": "markdown",
   "source": [
    "# Предсказывает только 1"
   ],
   "metadata": {
    "collapsed": false,
    "pycharm": {
     "name": "#%% md\n"
    }
   }
  },
  {
   "cell_type": "code",
   "execution_count": 21,
   "outputs": [
    {
     "data": {
      "text/plain": "1.0    1168\ndtype: int64"
     },
     "execution_count": 21,
     "metadata": {},
     "output_type": "execute_result"
    }
   ],
   "source": [
    "import pandas as pd\n",
    "\n",
    "pd.DataFrame(test_predict).value_counts()"
   ],
   "metadata": {
    "collapsed": false,
    "pycharm": {
     "name": "#%%\n"
    }
   }
  },
  {
   "cell_type": "markdown",
   "source": [
    "# Дисбаланс классов в обучающей"
   ],
   "metadata": {
    "collapsed": false,
    "pycharm": {
     "name": "#%% md\n"
    }
   }
  },
  {
   "cell_type": "code",
   "execution_count": 22,
   "outputs": [
    {
     "data": {
      "text/plain": "0.0    8157\n1.0    2276\nName: is_MI, dtype: int64"
     },
     "execution_count": 22,
     "metadata": {},
     "output_type": "execute_result"
    }
   ],
   "source": [
    "y_train.value_counts()"
   ],
   "metadata": {
    "collapsed": false,
    "pycharm": {
     "name": "#%%\n"
    }
   }
  },
  {
   "cell_type": "markdown",
   "source": [
    "# Дисбаланс в тестовой"
   ],
   "metadata": {
    "collapsed": false,
    "pycharm": {
     "name": "#%% md\n"
    }
   }
  },
  {
   "cell_type": "code",
   "execution_count": 23,
   "outputs": [
    {
     "data": {
      "text/plain": "0.0    912\n1.0    256\nName: is_MI, dtype: int64"
     },
     "execution_count": 23,
     "metadata": {},
     "output_type": "execute_result"
    }
   ],
   "source": [
    "y_test.value_counts()"
   ],
   "metadata": {
    "collapsed": false,
    "pycharm": {
     "name": "#%%\n"
    }
   }
  },
  {
   "cell_type": "code",
   "execution_count": 23,
   "outputs": [],
   "source": [],
   "metadata": {
    "collapsed": false,
    "pycharm": {
     "name": "#%%\n"
    }
   }
  }
 ],
 "metadata": {
  "kernelspec": {
   "display_name": "Python 3",
   "language": "python",
   "name": "python3"
  },
  "language_info": {
   "codemirror_mode": {
    "name": "ipython",
    "version": 2
   },
   "file_extension": ".py",
   "mimetype": "text/x-python",
   "name": "python",
   "nbconvert_exporter": "python",
   "pygments_lexer": "ipython2",
   "version": "2.7.6"
  }
 },
 "nbformat": 4,
 "nbformat_minor": 0
}