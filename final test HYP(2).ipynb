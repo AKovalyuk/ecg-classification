{
 "cells": [
  {
   "cell_type": "code",
   "execution_count": 1,
   "outputs": [],
   "source": [
    "import numpy as np\n",
    "import torch.nn as nn\n",
    "import torch.optim as optim\n",
    "import torch\n",
    "from torch.utils.data import TensorDataset, DataLoader\n",
    "from sklearn.metrics import accuracy_score, auc, roc_curve, precision_score, recall_score, RocCurveDisplay, PrecisionRecallDisplay\n",
    "from src.preprocessing import preprocess_data"
   ],
   "metadata": {
    "collapsed": false,
    "pycharm": {
     "name": "#%%\n"
    }
   }
  },
  {
   "cell_type": "code",
   "execution_count": 2,
   "outputs": [
    {
     "name": "stdout",
     "output_type": "stream",
     "text": [
      "Loading data\n"
     ]
    },
    {
     "name": "stderr",
     "output_type": "stream",
     "text": [
      "100%|██████████| 21799/21799 [01:58<00:00, 184.08it/s]\n"
     ]
    },
    {
     "name": "stdout",
     "output_type": "stream",
     "text": [
      "Dropping other\n",
      "Filtering outliers\n"
     ]
    },
    {
     "name": "stderr",
     "output_type": "stream",
     "text": [
      "100%|██████████| 11718/11718 [00:07<00:00, 1596.94it/s]\n"
     ]
    },
    {
     "name": "stdout",
     "output_type": "stream",
     "text": [
      "Applying moving average\n"
     ]
    },
    {
     "name": "stderr",
     "output_type": "stream",
     "text": [
      "100%|██████████| 10916/10916 [00:39<00:00, 276.77it/s]\n"
     ]
    },
    {
     "name": "stdout",
     "output_type": "stream",
     "text": [
      "Balancing data\n",
      "Train-test split\n"
     ]
    }
   ],
   "source": [
    "x_train, x_test, y_train, y_test = preprocess_data(path='/home/twoics/py-proj/ecg-classification/plt', target_class='HYP')"
   ],
   "metadata": {
    "collapsed": false,
    "pycharm": {
     "name": "#%%\n"
    }
   }
  },
  {
   "cell_type": "code",
   "execution_count": 3,
   "outputs": [],
   "source": [
    "device = torch.device('cpu')"
   ],
   "metadata": {
    "collapsed": false,
    "pycharm": {
     "name": "#%%\n"
    }
   }
  },
  {
   "cell_type": "code",
   "execution_count": 4,
   "outputs": [],
   "source": [
    "g_test_acc = []\n",
    "g_train_acc = []\n",
    "g_recall = []\n",
    "g_precision = []"
   ],
   "metadata": {
    "collapsed": false,
    "pycharm": {
     "name": "#%%\n"
    }
   }
  },
  {
   "cell_type": "code",
   "execution_count": 5,
   "outputs": [],
   "source": [
    "class ConvNet(nn.Module):\n",
    "    def __init__(\n",
    "        self,\n",
    "        fc_layers_size,\n",
    "        conv_layers\n",
    "    ) -> None:\n",
    "        super(ConvNet, self).__init__()\n",
    "        layers = []\n",
    "        in_channels = 12\n",
    "        conv_out_size = 1000\n",
    "        for kernel_size, out_channels, stride in conv_layers:\n",
    "            layers += [\n",
    "                nn.Conv1d(in_channels, out_channels, kernel_size, stride),\n",
    "                nn.ReLU(),\n",
    "                nn.MaxPool1d(2, 2)\n",
    "            ]\n",
    "            in_channels = out_channels\n",
    "            # for Conv1d\n",
    "            conv_out_size = self.conv_eval(conv_out_size, kernel_size, stride, 1)\n",
    "            # for MaxPool1d\n",
    "            conv_out_size = self.conv_eval(conv_out_size, 2, 2, 1)\n",
    "        layers.append(nn.Flatten())\n",
    "        features_in = conv_out_size * out_channels\n",
    "        for fc_out in fc_layers_size[:-1]:\n",
    "            layers += [\n",
    "                nn.Linear(features_in, fc_out),\n",
    "                nn.ReLU()\n",
    "            ]\n",
    "            features_in = fc_out\n",
    "        layers += [\n",
    "            nn.Linear(features_in, fc_layers_size[-1]),\n",
    "            nn.Sigmoid()\n",
    "        ]\n",
    "        self.seq = nn.Sequential(*layers)\n",
    "\n",
    "    @classmethod\n",
    "    def conv_eval(self, len_in, kernel_size, stride, dilation):\n",
    "        return int((len_in - 1 - dilation * (kernel_size - 1)) / stride + 1)\n",
    "\n",
    "    def forward(self, x):\n",
    "        return self.seq(x)\n",
    "\n",
    "    def train_net(\n",
    "        self,\n",
    "        criterion,\n",
    "        optimizer,\n",
    "        objects,\n",
    "        labels,\n",
    "        epochs,\n",
    "        batch_size\n",
    "    ):\n",
    "        objects = torch.Tensor(objects)\n",
    "        labels = torch.Tensor(np.array([labels]).T)\n",
    "        dataset = TensorDataset(objects, labels)\n",
    "        dataloader = DataLoader(dataset, batch_size, shuffle=True)\n",
    "        test_accuracy_list = [0]\n",
    "\n",
    "        cpu = torch.device('cpu')\n",
    "\n",
    "        for epoch in range(epochs):\n",
    "            loss_value = 0.0\n",
    "            for i, batch in enumerate(dataloader):\n",
    "                inputs, labels = batch[0].to(device, non_blocking=True), batch[1].to(device, non_blocking=True)\n",
    "                optimizer.zero_grad()\n",
    "                outputs = self(inputs)\n",
    "                loss = criterion(outputs, labels)\n",
    "                loss.backward()\n",
    "                optimizer.step()\n",
    "                loss_value += loss.item()\n",
    "\n",
    "            train_accuracy = accuracy_score(\n",
    "                y_train,#.to(device, non_blocking=True),\n",
    "                [(1 if pred[0] > 0.5 else 0) for pred in self.test(torch.Tensor(x_train).to(cpu, non_blocking=True))]\n",
    "            )\n",
    "            test_accuracy = accuracy_score(\n",
    "                y_test,#.to(device, non_blocking=True),\n",
    "                [(1 if pred[0] > 0.5 else 0) for pred in self.test(torch.Tensor(x_test).to(cpu, non_blocking=True))]\n",
    "            )\n",
    "\n",
    "            test_accuracy_list.append(test_accuracy)\n",
    "            print(f'Epoch {epoch:5} loss = {loss_value:.4f} Train: {train_accuracy:.4f} Test {test_accuracy:.4f}')\n",
    "\n",
    "            rec_score = recall_score(\n",
    "                y_test,#.to(device, non_blocking=True),\n",
    "                [(1 if pred[0] > 0.5 else 0) for pred in self.test(torch.Tensor(x_test).to(cpu, non_blocking=True))]\n",
    "            )\n",
    "\n",
    "            prec_score = precision_score(\n",
    "                y_test,#.to(device, non_blocking=True),\n",
    "                [(1 if pred[0] > 0.5 else 0) for pred in self.test(torch.Tensor(x_test).to(cpu, non_blocking=True))]\n",
    "            )\n",
    "\n",
    "            g_test_acc.append(test_accuracy)\n",
    "            g_train_acc.append(train_accuracy)\n",
    "            g_recall.append(rec_score)\n",
    "            g_precision.append(prec_score)\n",
    "            #if epoch > 5 and np.average(test_accuracy_list[-4:]) < test_accuracy_list[-5]:\n",
    "            #    print('Test accuracy decreasing, break')\n",
    "            #    break\n",
    "\n",
    "    def test(self, samples):\n",
    "        with torch.no_grad():\n",
    "            return self.forward(torch.Tensor(samples))"
   ],
   "metadata": {
    "collapsed": false,
    "pycharm": {
     "name": "#%%\n"
    }
   }
  },
  {
   "cell_type": "code",
   "execution_count": 6,
   "outputs": [
    {
     "data": {
      "text/plain": "ConvNet(\n  (seq): Sequential(\n    (0): Conv1d(12, 144, kernel_size=(7,), stride=(2,))\n    (1): ReLU()\n    (2): MaxPool1d(kernel_size=2, stride=2, padding=0, dilation=1, ceil_mode=False)\n    (3): Conv1d(144, 48, kernel_size=(11,), stride=(2,))\n    (4): ReLU()\n    (5): MaxPool1d(kernel_size=2, stride=2, padding=0, dilation=1, ceil_mode=False)\n    (6): Conv1d(48, 96, kernel_size=(19,), stride=(5,))\n    (7): ReLU()\n    (8): MaxPool1d(kernel_size=2, stride=2, padding=0, dilation=1, ceil_mode=False)\n    (9): Flatten(start_dim=1, end_dim=-1)\n    (10): Linear(in_features=384, out_features=500, bias=True)\n    (11): ReLU()\n    (12): Linear(in_features=500, out_features=1, bias=True)\n    (13): Sigmoid()\n  )\n)"
     },
     "execution_count": 6,
     "metadata": {},
     "output_type": "execute_result"
    }
   ],
   "source": [
    "generated = ConvNet(\n",
    "    fc_layers_size=[500, 1],\n",
    "    conv_layers=[\n",
    "        (7, 144, 2),\n",
    "        (11, 48, 2),\n",
    "        (19, 96, 5),\n",
    "    ]\n",
    ")\n",
    "generated\n"
   ],
   "metadata": {
    "collapsed": false,
    "pycharm": {
     "name": "#%%\n"
    }
   }
  },
  {
   "cell_type": "code",
   "execution_count": 7,
   "outputs": [
    {
     "name": "stdout",
     "output_type": "stream",
     "text": [
      "Epoch     0 loss = 16.3430 Train: 0.5028 Test 0.4934\n",
      "Epoch     1 loss = 14.8090 Train: 0.8166 Test 0.8123\n",
      "Epoch     2 loss = 11.1572 Train: 0.8396 Test 0.8340\n",
      "Epoch     3 loss = 8.5074 Train: 0.8686 Test 0.8697\n",
      "Epoch     4 loss = 7.4193 Train: 0.8809 Test 0.8813\n",
      "Epoch     5 loss = 7.1400 Train: 0.8899 Test 0.8852\n",
      "Epoch     6 loss = 6.9015 Train: 0.8935 Test 0.8914\n",
      "Epoch     7 loss = 6.6639 Train: 0.8852 Test 0.8782\n",
      "Epoch     8 loss = 6.5166 Train: 0.8985 Test 0.8960\n",
      "Epoch     9 loss = 6.2774 Train: 0.8902 Test 0.8852\n",
      "Epoch    10 loss = 6.2215 Train: 0.8895 Test 0.8805\n",
      "Epoch    11 loss = 6.0238 Train: 0.9038 Test 0.9015\n",
      "Epoch    12 loss = 5.9348 Train: 0.9052 Test 0.8991\n",
      "Epoch    13 loss = 5.8535 Train: 0.9048 Test 0.9061\n",
      "Epoch    14 loss = 5.6905 Train: 0.8869 Test 0.8782\n",
      "Epoch    15 loss = 5.7000 Train: 0.9085 Test 0.9085\n",
      "Epoch    16 loss = 5.6807 Train: 0.9101 Test 0.9154\n",
      "Epoch    17 loss = 5.5050 Train: 0.9118 Test 0.9007\n",
      "Epoch    18 loss = 5.7386 Train: 0.9085 Test 0.8953\n",
      "Epoch    19 loss = 5.2158 Train: 0.9135 Test 0.9092\n",
      "Epoch    20 loss = 5.2333 Train: 0.9138 Test 0.8999\n",
      "Epoch    21 loss = 5.1554 Train: 0.9168 Test 0.8999\n",
      "Epoch    22 loss = 5.0889 Train: 0.9135 Test 0.8960\n",
      "Epoch    23 loss = 5.0170 Train: 0.9211 Test 0.9030\n",
      "Epoch    24 loss = 4.8455 Train: 0.9171 Test 0.9046\n"
     ]
    }
   ],
   "source": [
    "generated.to(device)\n",
    "generated.train_net(\n",
    "    nn.BCELoss(),\n",
    "    optim.Adam(generated.parameters(), lr=0.0001),\n",
    "    x_train,\n",
    "    y_train,\n",
    "    25,\n",
    "    128\n",
    ")\n",
    "# [7, 144, 2, 11, 48, 2, 19, 96, 5]"
   ],
   "metadata": {
    "collapsed": false,
    "pycharm": {
     "name": "#%%\n"
    }
   }
  },
  {
   "cell_type": "code",
   "execution_count": 8,
   "outputs": [],
   "source": [
    "pred_test = generated.test(x_test)\n",
    "pred_train = generated.test(x_train)"
   ],
   "metadata": {
    "collapsed": false,
    "pycharm": {
     "name": "#%%\n"
    }
   }
  },
  {
   "cell_type": "code",
   "execution_count": 9,
   "outputs": [
    {
     "data": {
      "text/plain": "tensor([[0.9231],\n        [0.8970],\n        [0.9995],\n        ...,\n        [0.9120],\n        [0.2038],\n        [0.0294]])"
     },
     "execution_count": 9,
     "metadata": {},
     "output_type": "execute_result"
    }
   ],
   "source": [
    "pred_test"
   ],
   "metadata": {
    "collapsed": false,
    "pycharm": {
     "name": "#%%\n"
    }
   }
  },
  {
   "cell_type": "code",
   "execution_count": 10,
   "outputs": [
    {
     "data": {
      "text/plain": "tensor([[0.6835],\n        [0.9999],\n        [1.0000],\n        ...,\n        [0.0420],\n        [0.9986],\n        [0.0460]])"
     },
     "execution_count": 10,
     "metadata": {},
     "output_type": "execute_result"
    }
   ],
   "source": [
    "pred_train"
   ],
   "metadata": {
    "collapsed": false,
    "pycharm": {
     "name": "#%%\n"
    }
   }
  },
  {
   "cell_type": "code",
   "execution_count": 11,
   "outputs": [],
   "source": [
    "from matplotlib import pyplot as plt\n",
    "from sklearn.metrics import roc_auc_score\n",
    "\n",
    "\n",
    "def roc_auc_plot(y_test, y_test_predicted, y_train, y_train_predicted):\n",
    "    res_test = roc_auc_score(y_test, y_test_predicted)\n",
    "    res_train = roc_auc_score(y_train, y_train_predicted)\n",
    "\n",
    "    plt.figure(figsize=(10, 7))\n",
    "\n",
    "    plt.plot(*roc_curve(y_test, y_test_predicted)[:2], label='test AUC={:.4f}'.format(res_test))\n",
    "    plt.plot(*roc_curve(y_train, y_train_predicted)[:2], label='train AUC={:.4f}'.format(res_train))\n",
    "\n",
    "    legend_box = plt.legend(fontsize='large', framealpha=1).get_frame()\n",
    "    legend_box.set_facecolor(\"white\")\n",
    "    legend_box.set_edgecolor(\"black\")\n",
    "    # plt.plot(np.linspace(0, 1, 100), np.linspace(0, 1, 100))\n",
    "    plt.title('ROC-AUC on the training and test sample')\n",
    "    plt.xlabel('False Positive Rate')\n",
    "    plt.ylabel('True Positive Rate')\n",
    "    plt.show()"
   ],
   "metadata": {
    "collapsed": false,
    "pycharm": {
     "name": "#%%\n"
    }
   }
  },
  {
   "cell_type": "code",
   "execution_count": 12,
   "outputs": [
    {
     "data": {
      "text/plain": "<Figure size 1000x700 with 1 Axes>",
      "image/png": "[encoded data removed]"
     },
     "metadata": {},
     "output_type": "display_data"
    }
   ],
   "source": [
    "roc_auc_plot(y_test, pred_test, y_train, pred_train)"
   ],
   "metadata": {
    "collapsed": false,
    "pycharm": {
     "name": "#%%\n"
    }
   }
  },
  {
   "cell_type": "code",
   "execution_count": 13,
   "outputs": [],
   "source": [
    "def precision_recall_plot(y_test, y_test_predicted, y_train, y_train_predicted):\n",
    "    fig, ax = plt.subplots(figsize=(10, 7))\n",
    "\n",
    "    test_display = PrecisionRecallDisplay.from_predictions(\n",
    "        y_test, y_test_predicted, ax=ax, name='test'\n",
    "    )\n",
    "\n",
    "    train_display = PrecisionRecallDisplay.from_predictions(\n",
    "        y_train, y_train_predicted, ax=ax, name='train'\n",
    "    )\n",
    "    ax.set_title('Precision and Recall for the test and train sample')\n",
    "    plt.show()"
   ],
   "metadata": {
    "collapsed": false,
    "pycharm": {
     "name": "#%%\n"
    }
   }
  },
  {
   "cell_type": "code",
   "execution_count": 14,
   "outputs": [
    {
     "data": {
      "text/plain": "<Figure size 1000x700 with 1 Axes>",
      "image/png": "[encoded data removed]"
     },
     "metadata": {},
     "output_type": "display_data"
    }
   ],
   "source": [
    "precision_recall_plot(y_test, pred_test, y_train, pred_train)"
   ],
   "metadata": {
    "collapsed": false,
    "pycharm": {
     "name": "#%%\n"
    }
   }
  },
  {
   "cell_type": "code",
   "execution_count": 15,
   "outputs": [],
   "source": [
    "from sklearn.metrics import classification_report"
   ],
   "metadata": {
    "collapsed": false,
    "pycharm": {
     "name": "#%%\n"
    }
   }
  },
  {
   "cell_type": "code",
   "execution_count": 16,
   "outputs": [
    {
     "data": {
      "text/plain": "[1,\n 1,\n 1,\n 1,\n 0,\n 0,\n 0,\n 1,\n 0,\n 1,\n 0,\n 1,\n 1,\n 0,\n 1,\n 1,\n 1,\n 0,\n 1,\n 0,\n 0,\n 0,\n 0,\n 1,\n 1,\n 1,\n 0,\n 0,\n 0,\n 0,\n 0,\n 0,\n 1,\n 0,\n 0,\n 1,\n 0,\n 1,\n 1,\n 1,\n 1,\n 0,\n 0,\n 0,\n 0,\n 0,\n 1,\n 0,\n 1,\n 0,\n 0,\n 0,\n 1,\n 1,\n 1,\n 0,\n 0,\n 1,\n 0,\n 0,\n 1,\n 1,\n 0,\n 1,\n 1,\n 1,\n 1,\n 1,\n 0,\n 1,\n 0,\n 1,\n 1,\n 1,\n 0,\n 0,\n 1,\n 1,\n 1,\n 0,\n 1,\n 0,\n 0,\n 0,\n 0,\n 1,\n 1,\n 1,\n 1,\n 0,\n 1,\n 1,\n 0,\n 0,\n 0,\n 1,\n 0,\n 0,\n 1,\n 1,\n 1,\n 1,\n 1,\n 0,\n 0,\n 0,\n 1,\n 0,\n 1,\n 0,\n 0,\n 1,\n 0,\n 1,\n 1,\n 0,\n 0,\n 1,\n 0,\n 1,\n 1,\n 0,\n 0,\n 1,\n 0,\n 0,\n 0,\n 1,\n 1,\n 1,\n 1,\n 0,\n 1,\n 0,\n 1,\n 0,\n 1,\n 1,\n 0,\n 1,\n 0,\n 0,\n 1,\n 0,\n 0,\n 1,\n 1,\n 0,\n 1,\n 1,\n 1,\n 0,\n 0,\n 0,\n 1,\n 1,\n 0,\n 0,\n 1,\n 1,\n 0,\n 0,\n 0,\n 0,\n 1,\n 1,\n 0,\n 0,\n 1,\n 1,\n 1,\n 1,\n 1,\n 1,\n 1,\n 0,\n 0,\n 1,\n 0,\n 0,\n 1,\n 1,\n 0,\n 1,\n 0,\n 1,\n 1,\n 1,\n 1,\n 0,\n 0,\n 0,\n 1,\n 1,\n 1,\n 0,\n 0,\n 0,\n 1,\n 1,\n 1,\n 1,\n 0,\n 1,\n 0,\n 1,\n 0,\n 0,\n 0,\n 0,\n 1,\n 0,\n 1,\n 1,\n 1,\n 0,\n 0,\n 0,\n 1,\n 0,\n 1,\n 1,\n 1,\n 1,\n 0,\n 1,\n 0,\n 0,\n 1,\n 1,\n 0,\n 1,\n 0,\n 0,\n 1,\n 0,\n 1,\n 1,\n 0,\n 0,\n 0,\n 1,\n 0,\n 1,\n 0,\n 0,\n 0,\n 1,\n 0,\n 0,\n 0,\n 0,\n 0,\n 1,\n 0,\n 1,\n 1,\n 0,\n 1,\n 1,\n 1,\n 0,\n 0,\n 0,\n 0,\n 1,\n 1,\n 0,\n 1,\n 1,\n 0,\n 0,\n 1,\n 1,\n 0,\n 1,\n 1,\n 0,\n 0,\n 1,\n 0,\n 0,\n 0,\n 1,\n 1,\n 0,\n 1,\n 1,\n 1,\n 0,\n 0,\n 0,\n 1,\n 0,\n 1,\n 0,\n 0,\n 0,\n 1,\n 0,\n 0,\n 1,\n 0,\n 1,\n 1,\n 0,\n 1,\n 0,\n 1,\n 0,\n 1,\n 1,\n 1,\n 0,\n 1,\n 1,\n 0,\n 0,\n 0,\n 1,\n 1,\n 0,\n 1,\n 0,\n 0,\n 1,\n 1,\n 0,\n 0,\n 1,\n 0,\n 1,\n 0,\n 0,\n 0,\n 0,\n 1,\n 0,\n 1,\n 0,\n 1,\n 0,\n 0,\n 0,\n 0,\n 1,\n 0,\n 0,\n 1,\n 1,\n 1,\n 1,\n 0,\n 1,\n 1,\n 1,\n 1,\n 1,\n 1,\n 1,\n 1,\n 1,\n 1,\n 1,\n 0,\n 0,\n 0,\n 0,\n 0,\n 0,\n 0,\n 1,\n 1,\n 0,\n 1,\n 0,\n 1,\n 1,\n 1,\n 1,\n 1,\n 1,\n 0,\n 1,\n 1,\n 0,\n 1,\n 1,\n 0,\n 1,\n 1,\n 1,\n 1,\n 1,\n 1,\n 0,\n 1,\n 1,\n 1,\n 1,\n 1,\n 1,\n 0,\n 0,\n 1,\n 0,\n 0,\n 1,\n 1,\n 1,\n 1,\n 0,\n 1,\n 1,\n 0,\n 0,\n 1,\n 0,\n 0,\n 1,\n 0,\n 0,\n 0,\n 1,\n 1,\n 0,\n 1,\n 1,\n 1,\n 0,\n 1,\n 1,\n 1,\n 1,\n 1,\n 0,\n 1,\n 1,\n 1,\n 0,\n 0,\n 1,\n 0,\n 0,\n 1,\n 1,\n 1,\n 1,\n 0,\n 0,\n 1,\n 1,\n 1,\n 1,\n 0,\n 1,\n 1,\n 0,\n 1,\n 1,\n 0,\n 0,\n 1,\n 0,\n 0,\n 1,\n 1,\n 0,\n 1,\n 1,\n 0,\n 1,\n 0,\n 0,\n 0,\n 1,\n 1,\n 1,\n 0,\n 1,\n 1,\n 0,\n 0,\n 1,\n 1,\n 0,\n 1,\n 0,\n 0,\n 1,\n 1,\n 0,\n 0,\n 1,\n 1,\n 0,\n 1,\n 1,\n 0,\n 0,\n 0,\n 0,\n 0,\n 1,\n 0,\n 1,\n 1,\n 1,\n 1,\n 1,\n 1,\n 1,\n 0,\n 1,\n 1,\n 0,\n 1,\n 0,\n 1,\n 1,\n 1,\n 0,\n 0,\n 1,\n 0,\n 0,\n 1,\n 0,\n 1,\n 1,\n 0,\n 0,\n 1,\n 0,\n 1,\n 1,\n 1,\n 1,\n 1,\n 0,\n 0,\n 1,\n 0,\n 1,\n 1,\n 0,\n 0,\n 1,\n 0,\n 0,\n 1,\n 1,\n 1,\n 1,\n 1,\n 0,\n 1,\n 1,\n 0,\n 1,\n 1,\n 0,\n 0,\n 0,\n 0,\n 0,\n 0,\n 0,\n 0,\n 1,\n 1,\n 1,\n 1,\n 1,\n 0,\n 1,\n 1,\n 1,\n 1,\n 1,\n 0,\n 0,\n 1,\n 1,\n 0,\n 0,\n 1,\n 1,\n 1,\n 0,\n 1,\n 1,\n 1,\n 0,\n 0,\n 0,\n 1,\n 1,\n 1,\n 1,\n 1,\n 1,\n 1,\n 0,\n 0,\n 0,\n 1,\n 0,\n 1,\n 1,\n 1,\n 0,\n 0,\n 0,\n 1,\n 1,\n 1,\n 0,\n 0,\n 1,\n 1,\n 1,\n 1,\n 0,\n 0,\n 0,\n 1,\n 0,\n 0,\n 1,\n 1,\n 1,\n 0,\n 0,\n 1,\n 0,\n 0,\n 1,\n 0,\n 0,\n 1,\n 1,\n 1,\n 0,\n 1,\n 0,\n 0,\n 1,\n 0,\n 0,\n 1,\n 0,\n 1,\n 1,\n 0,\n 0,\n 1,\n 1,\n 1,\n 0,\n 1,\n 0,\n 0,\n 1,\n 0,\n 1,\n 0,\n 0,\n 1,\n 1,\n 1,\n 1,\n 0,\n 1,\n 1,\n 1,\n 0,\n 0,\n 1,\n 0,\n 1,\n 0,\n 1,\n 1,\n 1,\n 1,\n 1,\n 1,\n 0,\n 1,\n 0,\n 0,\n 0,\n 1,\n 0,\n 1,\n 0,\n 0,\n 0,\n 1,\n 1,\n 1,\n 1,\n 1,\n 0,\n 1,\n 1,\n 1,\n 1,\n 1,\n 1,\n 1,\n 0,\n 0,\n 1,\n 0,\n 0,\n 0,\n 0,\n 1,\n 0,\n 1,\n 0,\n 1,\n 1,\n 0,\n 1,\n 0,\n 1,\n 0,\n 1,\n 0,\n 1,\n 1,\n 0,\n 0,\n 1,\n 0,\n 0,\n 1,\n 1,\n 1,\n 0,\n 1,\n 0,\n 0,\n 1,\n 0,\n 0,\n 1,\n 1,\n 1,\n 0,\n 0,\n 0,\n 0,\n 0,\n 1,\n 1,\n 1,\n 1,\n 0,\n 1,\n 1,\n 0,\n 0,\n 1,\n 0,\n 0,\n 1,\n 0,\n 0,\n 0,\n 0,\n 0,\n 0,\n 0,\n 0,\n 1,\n 0,\n 0,\n 1,\n 1,\n 1,\n 1,\n 1,\n 1,\n 0,\n 1,\n 1,\n 0,\n 1,\n 1,\n 0,\n 0,\n 0,\n 1,\n 1,\n 0,\n 0,\n 1,\n 0,\n 0,\n 1,\n 0,\n 1,\n 0,\n 1,\n 0,\n 0,\n 1,\n 1,\n 0,\n 0,\n 0,\n 0,\n 0,\n 1,\n 1,\n 1,\n 0,\n 1,\n 1,\n 0,\n 1,\n 1,\n 0,\n 0,\n 1,\n 1,\n 1,\n 1,\n 1,\n 0,\n 0,\n 1,\n 1,\n 0,\n 1,\n 0,\n 0,\n 1,\n 0,\n 0,\n 0,\n 1,\n 0,\n 1,\n 1,\n 0,\n 0,\n 0,\n 1,\n 0,\n 1,\n 1,\n 0,\n 0,\n 0,\n 1,\n 1,\n 1,\n 1,\n 0,\n 0,\n 0,\n 0,\n 0,\n 0,\n 0,\n 0,\n 1,\n 1,\n 0,\n 0,\n 0,\n 1,\n 1,\n 1,\n 0,\n 1,\n 0,\n 1,\n 0,\n 0,\n 0,\n 1,\n 1,\n 1,\n 1,\n 1,\n 1,\n 1,\n 1,\n 1,\n 1,\n 1,\n 1,\n 1,\n 0,\n 1,\n 1,\n 1,\n 0,\n 0,\n 0,\n 0,\n 0,\n 0,\n 0,\n 1,\n 0,\n 1,\n 1,\n 0,\n 1,\n 0,\n 0,\n 1,\n 0,\n 0,\n 1,\n 0,\n 1,\n 1,\n 0,\n 1,\n 1,\n 0,\n 1,\n 0,\n 0,\n 0,\n 0,\n 0,\n 0,\n 1,\n 0,\n 1,\n 1,\n 1,\n 1,\n 0,\n 1,\n 1,\n 1,\n 0,\n 0,\n 0,\n 1,\n 0,\n 0,\n 0,\n 1,\n 1,\n 1,\n 1,\n 0,\n 1,\n 1,\n 0,\n 0,\n 0,\n 1,\n 1,\n 1,\n 1,\n 0,\n 0,\n 1,\n 1,\n 0,\n 0,\n 1,\n 0,\n 0,\n 1,\n 1,\n 0,\n 1,\n 0,\n 0,\n 1,\n 0,\n 1,\n 1,\n 1,\n 1,\n 0,\n 0,\n 1,\n 1,\n 0,\n 1,\n 1,\n 1,\n 1,\n 0,\n 0,\n 0,\n ...]"
     },
     "execution_count": 16,
     "metadata": {},
     "output_type": "execute_result"
    }
   ],
   "source": [
    "pred_class = [(1 if pred[0] > 0.5 else 0) for pred in pred_test]\n",
    "pred_class"
   ],
   "metadata": {
    "collapsed": false,
    "pycharm": {
     "name": "#%%\n"
    }
   }
  },
  {
   "cell_type": "code",
   "execution_count": 17,
   "outputs": [
    {
     "name": "stdout",
     "output_type": "stream",
     "text": [
      "              precision    recall  f1-score   support\n",
      "\n",
      "        NORM       0.93      0.88      0.90       653\n",
      "         HYP       0.88      0.93      0.91       636\n",
      "\n",
      "    accuracy                           0.90      1289\n",
      "   macro avg       0.91      0.90      0.90      1289\n",
      "weighted avg       0.91      0.90      0.90      1289\n",
      "\n"
     ]
    }
   ],
   "source": [
    "print(classification_report(y_test, pred_class, target_names=['NORM', \"HYP\"]))"
   ],
   "metadata": {
    "collapsed": false,
    "pycharm": {
     "name": "#%%\n"
    }
   }
  },
  {
   "cell_type": "code",
   "execution_count": 17,
   "outputs": [],
   "source": [],
   "metadata": {
    "collapsed": false,
    "pycharm": {
     "name": "#%%\n"
    }
   }
  }
 ],
 "metadata": {
  "kernelspec": {
   "display_name": "Python 3",
   "language": "python",
   "name": "python3"
  },
  "language_info": {
   "codemirror_mode": {
    "name": "ipython",
    "version": 2
   },
   "file_extension": ".py",
   "mimetype": "text/x-python",
   "name": "python",
   "nbconvert_exporter": "python",
   "pygments_lexer": "ipython2",
   "version": "2.7.6"
  }
 },
 "nbformat": 4,
 "nbformat_minor": 0
}