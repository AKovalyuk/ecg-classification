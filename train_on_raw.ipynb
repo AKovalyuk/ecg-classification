{
 "cells": [
  {
   "cell_type": "markdown",
   "source": [
    "# Загружаем данные"
   ],
   "metadata": {
    "collapsed": false,
    "pycharm": {
     "name": "#%% md\n"
    }
   }
  },
  {
   "cell_type": "code",
   "execution_count": 183,
   "metadata": {
    "collapsed": true,
    "pycharm": {
     "name": "#%%\n"
    }
   },
   "outputs": [],
   "source": [
    "import pandas as pd\n",
    "import numpy as np\n",
    "import wfdb\n",
    "import ast\n",
    "\n",
    "\n",
    "def load_raw_data(df, sampling_rate, path):\n",
    "    if sampling_rate == 100:\n",
    "        data = [wfdb.rdsamp(path + f) for f in df.filename_lr]\n",
    "    else:\n",
    "        data = [wfdb.rdsamp(path + f) for f in df.filename_hr]\n",
    "    data = np.array([signal for signal, meta in data])\n",
    "    return data\n",
    "\n",
    "\n",
    "path = 'plt/'\n",
    "sampling_rate = 100\n",
    "\n",
    "# load and convert annotation data\n",
    "Y = pd.read_csv(path + 'ptbxl_database.csv', index_col='ecg_id')\n",
    "Y.scp_codes = Y.scp_codes.apply(lambda x: ast.literal_eval(x))\n",
    "\n",
    "# Load raw signal data\n",
    "X = load_raw_data(Y, sampling_rate, path)\n",
    "\n",
    "# Load scp_statements.csv for diagnostic aggregation\n",
    "agg_df = pd.read_csv(path + 'scp_statements.csv', index_col=0)\n",
    "agg_df = agg_df[agg_df.diagnostic == 1]\n",
    "\n",
    "\n",
    "def aggregate_diagnostic(y_dic):\n",
    "    tmp = []\n",
    "    for key in y_dic.keys():\n",
    "        if key in agg_df.index:\n",
    "            tmp.append(agg_df.loc[key].diagnostic_class)\n",
    "    return list(set(tmp))\n",
    "\n",
    "\n",
    "# Apply diagnostic superclass\n",
    "Y['diagnostic_superclass'] = Y.scp_codes.apply(aggregate_diagnostic)"
   ]
  },
  {
   "cell_type": "markdown",
   "source": [
    "# ДатаФрейм Y"
   ],
   "metadata": {
    "collapsed": false,
    "pycharm": {
     "name": "#%% md\n"
    }
   }
  },
  {
   "cell_type": "code",
   "execution_count": 184,
   "outputs": [
    {
     "data": {
      "text/plain": "        patient_id   age  sex  height  weight  nurse  site     device  \\\necg_id                                                                  \n1          15709.0  56.0    1     NaN    63.0    2.0   0.0  CS-12   E   \n2          13243.0  19.0    0     NaN    70.0    2.0   0.0  CS-12   E   \n3          20372.0  37.0    1     NaN    69.0    2.0   0.0  CS-12   E   \n4          17014.0  24.0    0     NaN    82.0    2.0   0.0  CS-12   E   \n5          17448.0  19.0    1     NaN    70.0    2.0   0.0  CS-12   E   \n6          19005.0  18.0    1     NaN    58.0    2.0   0.0  CS-12   E   \n7          16193.0  54.0    0     NaN    83.0    2.0   0.0  CS-12   E   \n8          11275.0  48.0    0     NaN    95.0    2.0   0.0  CS-12   E   \n9          18792.0  55.0    0     NaN    70.0    2.0   0.0  CS-12   E   \n10          9456.0  22.0    1     NaN    56.0    2.0   0.0  CS-12   E   \n\n             recording_date  \\\necg_id                        \n1       1984-11-09 09:17:34   \n2       1984-11-14 12:55:37   \n3       1984-11-15 12:49:10   \n4       1984-11-15 13:44:57   \n5       1984-11-17 10:43:15   \n6       1984-11-28 13:32:13   \n7       1984-11-28 13:32:22   \n8       1984-12-01 14:49:52   \n9       1984-12-08 09:44:43   \n10      1984-12-12 14:12:46   \n\n                                                   report  ...  \\\necg_id                                                     ...   \n1                  sinusrhythmus periphere niederspannung  ...   \n2                     sinusbradykardie sonst normales ekg  ...   \n3                              sinusrhythmus normales ekg  ...   \n4                              sinusrhythmus normales ekg  ...   \n5                              sinusrhythmus normales ekg  ...   \n6                              sinusrhythmus normales ekg  ...   \n7       sinusrhythmus linkstyp t abnormal, wahrscheinl...  ...   \n8       sinusrhythmus linkstyp qrs(t) abnormal    infe...  ...   \n9                              sinusrhythmus normales ekg  ...   \n10                             sinusrhythmus normales ekg  ...   \n\n        baseline_drift static_noise burst_noise electrodes_problems  \\\necg_id                                                                \n1                  NaN    , I-V1,           NaN                 NaN   \n2                  NaN          NaN         NaN                 NaN   \n3                  NaN          NaN         NaN                 NaN   \n4         , II,III,AVF          NaN         NaN                 NaN   \n5        , III,AVR,AVF          NaN         NaN                 NaN   \n6                 , V1          NaN         NaN                 NaN   \n7                  NaN          NaN         NaN                 NaN   \n8             , II,AVF   , I-AVF,           NaN                 NaN   \n9                  NaN   , I-AVR,           NaN                 NaN   \n10                 NaN          NaN         NaN                 NaN   \n\n        extra_beats  pacemaker  strat_fold                filename_lr  \\\necg_id                                                                  \n1               NaN        NaN           3  records100/00000/00001_lr   \n2               NaN        NaN           2  records100/00000/00002_lr   \n3               NaN        NaN           5  records100/00000/00003_lr   \n4               NaN        NaN           3  records100/00000/00004_lr   \n5               NaN        NaN           4  records100/00000/00005_lr   \n6               NaN        NaN           4  records100/00000/00006_lr   \n7               NaN        NaN           7  records100/00000/00007_lr   \n8               NaN        NaN           9  records100/00000/00008_lr   \n9               NaN        NaN          10  records100/00000/00009_lr   \n10              NaN        NaN           9  records100/00000/00010_lr   \n\n                      filename_hr diagnostic_superclass  \necg_id                                                   \n1       records500/00000/00001_hr                [NORM]  \n2       records500/00000/00002_hr                [NORM]  \n3       records500/00000/00003_hr                [NORM]  \n4       records500/00000/00004_hr                [NORM]  \n5       records500/00000/00005_hr                [NORM]  \n6       records500/00000/00006_hr                [NORM]  \n7       records500/00000/00007_hr                [NORM]  \n8       records500/00000/00008_hr                  [MI]  \n9       records500/00000/00009_hr                [NORM]  \n10      records500/00000/00010_hr                [NORM]  \n\n[10 rows x 28 columns]",
      "text/html": "<div>\n<style scoped>\n    .dataframe tbody tr th:only-of-type {\n        vertical-align: middle;\n    }\n\n    .dataframe tbody tr th {\n        vertical-align: top;\n    }\n\n    .dataframe thead th {\n        text-align: right;\n    }\n</style>\n<table border=\"1\" class=\"dataframe\">\n  <thead>\n    <tr style=\"text-align: right;\">\n      <th></th>\n      <th>patient_id</th>\n      <th>age</th>\n      <th>sex</th>\n      <th>height</th>\n      <th>weight</th>\n      <th>nurse</th>\n      <th>site</th>\n      <th>device</th>\n      <th>recording_date</th>\n      <th>report</th>\n      <th>...</th>\n      <th>baseline_drift</th>\n      <th>static_noise</th>\n      <th>burst_noise</th>\n      <th>electrodes_problems</th>\n      <th>extra_beats</th>\n      <th>pacemaker</th>\n      <th>strat_fold</th>\n      <th>filename_lr</th>\n      <th>filename_hr</th>\n      <th>diagnostic_superclass</th>\n    </tr>\n    <tr>\n      <th>ecg_id</th>\n      <th></th>\n      <th></th>\n      <th></th>\n      <th></th>\n      <th></th>\n      <th></th>\n      <th></th>\n      <th></th>\n      <th></th>\n      <th></th>\n      <th></th>\n      <th></th>\n      <th></th>\n      <th></th>\n      <th></th>\n      <th></th>\n      <th></th>\n      <th></th>\n      <th></th>\n      <th></th>\n      <th></th>\n    </tr>\n  </thead>\n  <tbody>\n    <tr>\n      <th>1</th>\n      <td>15709.0</td>\n      <td>56.0</td>\n      <td>1</td>\n      <td>NaN</td>\n      <td>63.0</td>\n      <td>2.0</td>\n      <td>0.0</td>\n      <td>CS-12   E</td>\n      <td>1984-11-09 09:17:34</td>\n      <td>sinusrhythmus periphere niederspannung</td>\n      <td>...</td>\n      <td>NaN</td>\n      <td>, I-V1,</td>\n      <td>NaN</td>\n      <td>NaN</td>\n      <td>NaN</td>\n      <td>NaN</td>\n      <td>3</td>\n      <td>records100/00000/00001_lr</td>\n      <td>records500/00000/00001_hr</td>\n      <td>[NORM]</td>\n    </tr>\n    <tr>\n      <th>2</th>\n      <td>13243.0</td>\n      <td>19.0</td>\n      <td>0</td>\n      <td>NaN</td>\n      <td>70.0</td>\n      <td>2.0</td>\n      <td>0.0</td>\n      <td>CS-12   E</td>\n      <td>1984-11-14 12:55:37</td>\n      <td>sinusbradykardie sonst normales ekg</td>\n      <td>...</td>\n      <td>NaN</td>\n      <td>NaN</td>\n      <td>NaN</td>\n      <td>NaN</td>\n      <td>NaN</td>\n      <td>NaN</td>\n      <td>2</td>\n      <td>records100/00000/00002_lr</td>\n      <td>records500/00000/00002_hr</td>\n      <td>[NORM]</td>\n    </tr>\n    <tr>\n      <th>3</th>\n      <td>20372.0</td>\n      <td>37.0</td>\n      <td>1</td>\n      <td>NaN</td>\n      <td>69.0</td>\n      <td>2.0</td>\n      <td>0.0</td>\n      <td>CS-12   E</td>\n      <td>1984-11-15 12:49:10</td>\n      <td>sinusrhythmus normales ekg</td>\n      <td>...</td>\n      <td>NaN</td>\n      <td>NaN</td>\n      <td>NaN</td>\n      <td>NaN</td>\n      <td>NaN</td>\n      <td>NaN</td>\n      <td>5</td>\n      <td>records100/00000/00003_lr</td>\n      <td>records500/00000/00003_hr</td>\n      <td>[NORM]</td>\n    </tr>\n    <tr>\n      <th>4</th>\n      <td>17014.0</td>\n      <td>24.0</td>\n      <td>0</td>\n      <td>NaN</td>\n      <td>82.0</td>\n      <td>2.0</td>\n      <td>0.0</td>\n      <td>CS-12   E</td>\n      <td>1984-11-15 13:44:57</td>\n      <td>sinusrhythmus normales ekg</td>\n      <td>...</td>\n      <td>, II,III,AVF</td>\n      <td>NaN</td>\n      <td>NaN</td>\n      <td>NaN</td>\n      <td>NaN</td>\n      <td>NaN</td>\n      <td>3</td>\n      <td>records100/00000/00004_lr</td>\n      <td>records500/00000/00004_hr</td>\n      <td>[NORM]</td>\n    </tr>\n    <tr>\n      <th>5</th>\n      <td>17448.0</td>\n      <td>19.0</td>\n      <td>1</td>\n      <td>NaN</td>\n      <td>70.0</td>\n      <td>2.0</td>\n      <td>0.0</td>\n      <td>CS-12   E</td>\n      <td>1984-11-17 10:43:15</td>\n      <td>sinusrhythmus normales ekg</td>\n      <td>...</td>\n      <td>, III,AVR,AVF</td>\n      <td>NaN</td>\n      <td>NaN</td>\n      <td>NaN</td>\n      <td>NaN</td>\n      <td>NaN</td>\n      <td>4</td>\n      <td>records100/00000/00005_lr</td>\n      <td>records500/00000/00005_hr</td>\n      <td>[NORM]</td>\n    </tr>\n    <tr>\n      <th>6</th>\n      <td>19005.0</td>\n      <td>18.0</td>\n      <td>1</td>\n      <td>NaN</td>\n      <td>58.0</td>\n      <td>2.0</td>\n      <td>0.0</td>\n      <td>CS-12   E</td>\n      <td>1984-11-28 13:32:13</td>\n      <td>sinusrhythmus normales ekg</td>\n      <td>...</td>\n      <td>, V1</td>\n      <td>NaN</td>\n      <td>NaN</td>\n      <td>NaN</td>\n      <td>NaN</td>\n      <td>NaN</td>\n      <td>4</td>\n      <td>records100/00000/00006_lr</td>\n      <td>records500/00000/00006_hr</td>\n      <td>[NORM]</td>\n    </tr>\n    <tr>\n      <th>7</th>\n      <td>16193.0</td>\n      <td>54.0</td>\n      <td>0</td>\n      <td>NaN</td>\n      <td>83.0</td>\n      <td>2.0</td>\n      <td>0.0</td>\n      <td>CS-12   E</td>\n      <td>1984-11-28 13:32:22</td>\n      <td>sinusrhythmus linkstyp t abnormal, wahrscheinl...</td>\n      <td>...</td>\n      <td>NaN</td>\n      <td>NaN</td>\n      <td>NaN</td>\n      <td>NaN</td>\n      <td>NaN</td>\n      <td>NaN</td>\n      <td>7</td>\n      <td>records100/00000/00007_lr</td>\n      <td>records500/00000/00007_hr</td>\n      <td>[NORM]</td>\n    </tr>\n    <tr>\n      <th>8</th>\n      <td>11275.0</td>\n      <td>48.0</td>\n      <td>0</td>\n      <td>NaN</td>\n      <td>95.0</td>\n      <td>2.0</td>\n      <td>0.0</td>\n      <td>CS-12   E</td>\n      <td>1984-12-01 14:49:52</td>\n      <td>sinusrhythmus linkstyp qrs(t) abnormal    infe...</td>\n      <td>...</td>\n      <td>, II,AVF</td>\n      <td>, I-AVF,</td>\n      <td>NaN</td>\n      <td>NaN</td>\n      <td>NaN</td>\n      <td>NaN</td>\n      <td>9</td>\n      <td>records100/00000/00008_lr</td>\n      <td>records500/00000/00008_hr</td>\n      <td>[MI]</td>\n    </tr>\n    <tr>\n      <th>9</th>\n      <td>18792.0</td>\n      <td>55.0</td>\n      <td>0</td>\n      <td>NaN</td>\n      <td>70.0</td>\n      <td>2.0</td>\n      <td>0.0</td>\n      <td>CS-12   E</td>\n      <td>1984-12-08 09:44:43</td>\n      <td>sinusrhythmus normales ekg</td>\n      <td>...</td>\n      <td>NaN</td>\n      <td>, I-AVR,</td>\n      <td>NaN</td>\n      <td>NaN</td>\n      <td>NaN</td>\n      <td>NaN</td>\n      <td>10</td>\n      <td>records100/00000/00009_lr</td>\n      <td>records500/00000/00009_hr</td>\n      <td>[NORM]</td>\n    </tr>\n    <tr>\n      <th>10</th>\n      <td>9456.0</td>\n      <td>22.0</td>\n      <td>1</td>\n      <td>NaN</td>\n      <td>56.0</td>\n      <td>2.0</td>\n      <td>0.0</td>\n      <td>CS-12   E</td>\n      <td>1984-12-12 14:12:46</td>\n      <td>sinusrhythmus normales ekg</td>\n      <td>...</td>\n      <td>NaN</td>\n      <td>NaN</td>\n      <td>NaN</td>\n      <td>NaN</td>\n      <td>NaN</td>\n      <td>NaN</td>\n      <td>9</td>\n      <td>records100/00000/00010_lr</td>\n      <td>records500/00000/00010_hr</td>\n      <td>[NORM]</td>\n    </tr>\n  </tbody>\n</table>\n<p>10 rows × 28 columns</p>\n</div>"
     },
     "execution_count": 184,
     "metadata": {},
     "output_type": "execute_result"
    }
   ],
   "source": [
    "Y.head(10)"
   ],
   "metadata": {
    "collapsed": false,
    "pycharm": {
     "name": "#%%\n"
    }
   }
  },
  {
   "cell_type": "markdown",
   "source": [
    "# Добавим новый признак is_MI"
   ],
   "metadata": {
    "collapsed": false,
    "pycharm": {
     "name": "#%% md\n"
    }
   }
  },
  {
   "cell_type": "code",
   "execution_count": 185,
   "outputs": [
    {
     "data": {
      "text/plain": "        patient_id    age  sex  height  weight  nurse  site      device  \\\necg_id                                                                    \n1          15709.0   56.0    1     NaN    63.0    2.0   0.0   CS-12   E   \n2          13243.0   19.0    0     NaN    70.0    2.0   0.0   CS-12   E   \n3          20372.0   37.0    1     NaN    69.0    2.0   0.0   CS-12   E   \n4          17014.0   24.0    0     NaN    82.0    2.0   0.0   CS-12   E   \n5          17448.0   19.0    1     NaN    70.0    2.0   0.0   CS-12   E   \n...            ...    ...  ...     ...     ...    ...   ...         ...   \n21833      17180.0   67.0    1     NaN     NaN    1.0   2.0  AT-60    3   \n21834      20703.0  300.0    0     NaN     NaN    1.0   2.0  AT-60    3   \n21835      19311.0   59.0    1     NaN     NaN    1.0   2.0  AT-60    3   \n21836       8873.0   64.0    1     NaN     NaN    1.0   2.0  AT-60    3   \n21837      11744.0   68.0    0     NaN     NaN    1.0   2.0  AT-60    3   \n\n             recording_date  \\\necg_id                        \n1       1984-11-09 09:17:34   \n2       1984-11-14 12:55:37   \n3       1984-11-15 12:49:10   \n4       1984-11-15 13:44:57   \n5       1984-11-17 10:43:15   \n...                     ...   \n21833   2001-05-31 09:14:35   \n21834   2001-06-05 11:33:39   \n21835   2001-06-08 10:30:27   \n21836   2001-06-09 18:21:49   \n21837   2001-06-11 16:43:01   \n\n                                                   report  ... static_noise  \\\necg_id                                                     ...                \n1                  sinusrhythmus periphere niederspannung  ...    , I-V1,     \n2                     sinusbradykardie sonst normales ekg  ...          NaN   \n3                              sinusrhythmus normales ekg  ...          NaN   \n4                              sinusrhythmus normales ekg  ...          NaN   \n5                              sinusrhythmus normales ekg  ...          NaN   \n...                                                   ...  ...          ...   \n21833   ventrikulÄre extrasystole(n) sinustachykardie ...  ...   , alles,     \n21834   sinusrhythmus lagetyp normal qrs(t) abnorm    ...  ...          NaN   \n21835   sinusrhythmus lagetyp normal t abnorm in anter...  ...   , I-AVR,     \n21836   supraventrikulÄre extrasystole(n) sinusrhythmu...  ...          NaN   \n21837   sinusrhythmus p-sinistrocardiale lagetyp norma...  ...   , I-AVL,     \n\n       burst_noise electrodes_problems extra_beats  pacemaker  strat_fold  \\\necg_id                                                                      \n1              NaN                 NaN         NaN        NaN           3   \n2              NaN                 NaN         NaN        NaN           2   \n3              NaN                 NaN         NaN        NaN           5   \n4              NaN                 NaN         NaN        NaN           3   \n5              NaN                 NaN         NaN        NaN           4   \n...            ...                 ...         ...        ...         ...   \n21833          NaN                 NaN         1ES        NaN           7   \n21834          NaN                 NaN         NaN        NaN           4   \n21835          NaN                 NaN         NaN        NaN           2   \n21836          NaN                 NaN        SVES        NaN           8   \n21837          NaN                 NaN         NaN        NaN           9   \n\n                      filename_lr                filename_hr  \\\necg_id                                                         \n1       records100/00000/00001_lr  records500/00000/00001_hr   \n2       records100/00000/00002_lr  records500/00000/00002_hr   \n3       records100/00000/00003_lr  records500/00000/00003_hr   \n4       records100/00000/00004_lr  records500/00000/00004_hr   \n5       records100/00000/00005_lr  records500/00000/00005_hr   \n...                           ...                        ...   \n21833   records100/21000/21833_lr  records500/21000/21833_hr   \n21834   records100/21000/21834_lr  records500/21000/21834_hr   \n21835   records100/21000/21835_lr  records500/21000/21835_hr   \n21836   records100/21000/21836_lr  records500/21000/21836_hr   \n21837   records100/21000/21837_lr  records500/21000/21837_hr   \n\n       diagnostic_superclass is_MI  \necg_id                              \n1                     [NORM]   0.0  \n2                     [NORM]   0.0  \n3                     [NORM]   0.0  \n4                     [NORM]   0.0  \n5                     [NORM]   0.0  \n...                      ...   ...  \n21833                 [STTC]   NaN  \n21834                 [NORM]   0.0  \n21835                 [STTC]   NaN  \n21836                 [NORM]   0.0  \n21837                 [NORM]   0.0  \n\n[21799 rows x 29 columns]",
      "text/html": "<div>\n<style scoped>\n    .dataframe tbody tr th:only-of-type {\n        vertical-align: middle;\n    }\n\n    .dataframe tbody tr th {\n        vertical-align: top;\n    }\n\n    .dataframe thead th {\n        text-align: right;\n    }\n</style>\n<table border=\"1\" class=\"dataframe\">\n  <thead>\n    <tr style=\"text-align: right;\">\n      <th></th>\n      <th>patient_id</th>\n      <th>age</th>\n      <th>sex</th>\n      <th>height</th>\n      <th>weight</th>\n      <th>nurse</th>\n      <th>site</th>\n      <th>device</th>\n      <th>recording_date</th>\n      <th>report</th>\n      <th>...</th>\n      <th>static_noise</th>\n      <th>burst_noise</th>\n      <th>electrodes_problems</th>\n      <th>extra_beats</th>\n      <th>pacemaker</th>\n      <th>strat_fold</th>\n      <th>filename_lr</th>\n      <th>filename_hr</th>\n      <th>diagnostic_superclass</th>\n      <th>is_MI</th>\n    </tr>\n    <tr>\n      <th>ecg_id</th>\n      <th></th>\n      <th></th>\n      <th></th>\n      <th></th>\n      <th></th>\n      <th></th>\n      <th></th>\n      <th></th>\n      <th></th>\n      <th></th>\n      <th></th>\n      <th></th>\n      <th></th>\n      <th></th>\n      <th></th>\n      <th></th>\n      <th></th>\n      <th></th>\n      <th></th>\n      <th></th>\n      <th></th>\n    </tr>\n  </thead>\n  <tbody>\n    <tr>\n      <th>1</th>\n      <td>15709.0</td>\n      <td>56.0</td>\n      <td>1</td>\n      <td>NaN</td>\n      <td>63.0</td>\n      <td>2.0</td>\n      <td>0.0</td>\n      <td>CS-12   E</td>\n      <td>1984-11-09 09:17:34</td>\n      <td>sinusrhythmus periphere niederspannung</td>\n      <td>...</td>\n      <td>, I-V1,</td>\n      <td>NaN</td>\n      <td>NaN</td>\n      <td>NaN</td>\n      <td>NaN</td>\n      <td>3</td>\n      <td>records100/00000/00001_lr</td>\n      <td>records500/00000/00001_hr</td>\n      <td>[NORM]</td>\n      <td>0.0</td>\n    </tr>\n    <tr>\n      <th>2</th>\n      <td>13243.0</td>\n      <td>19.0</td>\n      <td>0</td>\n      <td>NaN</td>\n      <td>70.0</td>\n      <td>2.0</td>\n      <td>0.0</td>\n      <td>CS-12   E</td>\n      <td>1984-11-14 12:55:37</td>\n      <td>sinusbradykardie sonst normales ekg</td>\n      <td>...</td>\n      <td>NaN</td>\n      <td>NaN</td>\n      <td>NaN</td>\n      <td>NaN</td>\n      <td>NaN</td>\n      <td>2</td>\n      <td>records100/00000/00002_lr</td>\n      <td>records500/00000/00002_hr</td>\n      <td>[NORM]</td>\n      <td>0.0</td>\n    </tr>\n    <tr>\n      <th>3</th>\n      <td>20372.0</td>\n      <td>37.0</td>\n      <td>1</td>\n      <td>NaN</td>\n      <td>69.0</td>\n      <td>2.0</td>\n      <td>0.0</td>\n      <td>CS-12   E</td>\n      <td>1984-11-15 12:49:10</td>\n      <td>sinusrhythmus normales ekg</td>\n      <td>...</td>\n      <td>NaN</td>\n      <td>NaN</td>\n      <td>NaN</td>\n      <td>NaN</td>\n      <td>NaN</td>\n      <td>5</td>\n      <td>records100/00000/00003_lr</td>\n      <td>records500/00000/00003_hr</td>\n      <td>[NORM]</td>\n      <td>0.0</td>\n    </tr>\n    <tr>\n      <th>4</th>\n      <td>17014.0</td>\n      <td>24.0</td>\n      <td>0</td>\n      <td>NaN</td>\n      <td>82.0</td>\n      <td>2.0</td>\n      <td>0.0</td>\n      <td>CS-12   E</td>\n      <td>1984-11-15 13:44:57</td>\n      <td>sinusrhythmus normales ekg</td>\n      <td>...</td>\n      <td>NaN</td>\n      <td>NaN</td>\n      <td>NaN</td>\n      <td>NaN</td>\n      <td>NaN</td>\n      <td>3</td>\n      <td>records100/00000/00004_lr</td>\n      <td>records500/00000/00004_hr</td>\n      <td>[NORM]</td>\n      <td>0.0</td>\n    </tr>\n    <tr>\n      <th>5</th>\n      <td>17448.0</td>\n      <td>19.0</td>\n      <td>1</td>\n      <td>NaN</td>\n      <td>70.0</td>\n      <td>2.0</td>\n      <td>0.0</td>\n      <td>CS-12   E</td>\n      <td>1984-11-17 10:43:15</td>\n      <td>sinusrhythmus normales ekg</td>\n      <td>...</td>\n      <td>NaN</td>\n      <td>NaN</td>\n      <td>NaN</td>\n      <td>NaN</td>\n      <td>NaN</td>\n      <td>4</td>\n      <td>records100/00000/00005_lr</td>\n      <td>records500/00000/00005_hr</td>\n      <td>[NORM]</td>\n      <td>0.0</td>\n    </tr>\n    <tr>\n      <th>...</th>\n      <td>...</td>\n      <td>...</td>\n      <td>...</td>\n      <td>...</td>\n      <td>...</td>\n      <td>...</td>\n      <td>...</td>\n      <td>...</td>\n      <td>...</td>\n      <td>...</td>\n      <td>...</td>\n      <td>...</td>\n      <td>...</td>\n      <td>...</td>\n      <td>...</td>\n      <td>...</td>\n      <td>...</td>\n      <td>...</td>\n      <td>...</td>\n      <td>...</td>\n      <td>...</td>\n    </tr>\n    <tr>\n      <th>21833</th>\n      <td>17180.0</td>\n      <td>67.0</td>\n      <td>1</td>\n      <td>NaN</td>\n      <td>NaN</td>\n      <td>1.0</td>\n      <td>2.0</td>\n      <td>AT-60    3</td>\n      <td>2001-05-31 09:14:35</td>\n      <td>ventrikulÄre extrasystole(n) sinustachykardie ...</td>\n      <td>...</td>\n      <td>, alles,</td>\n      <td>NaN</td>\n      <td>NaN</td>\n      <td>1ES</td>\n      <td>NaN</td>\n      <td>7</td>\n      <td>records100/21000/21833_lr</td>\n      <td>records500/21000/21833_hr</td>\n      <td>[STTC]</td>\n      <td>NaN</td>\n    </tr>\n    <tr>\n      <th>21834</th>\n      <td>20703.0</td>\n      <td>300.0</td>\n      <td>0</td>\n      <td>NaN</td>\n      <td>NaN</td>\n      <td>1.0</td>\n      <td>2.0</td>\n      <td>AT-60    3</td>\n      <td>2001-06-05 11:33:39</td>\n      <td>sinusrhythmus lagetyp normal qrs(t) abnorm    ...</td>\n      <td>...</td>\n      <td>NaN</td>\n      <td>NaN</td>\n      <td>NaN</td>\n      <td>NaN</td>\n      <td>NaN</td>\n      <td>4</td>\n      <td>records100/21000/21834_lr</td>\n      <td>records500/21000/21834_hr</td>\n      <td>[NORM]</td>\n      <td>0.0</td>\n    </tr>\n    <tr>\n      <th>21835</th>\n      <td>19311.0</td>\n      <td>59.0</td>\n      <td>1</td>\n      <td>NaN</td>\n      <td>NaN</td>\n      <td>1.0</td>\n      <td>2.0</td>\n      <td>AT-60    3</td>\n      <td>2001-06-08 10:30:27</td>\n      <td>sinusrhythmus lagetyp normal t abnorm in anter...</td>\n      <td>...</td>\n      <td>, I-AVR,</td>\n      <td>NaN</td>\n      <td>NaN</td>\n      <td>NaN</td>\n      <td>NaN</td>\n      <td>2</td>\n      <td>records100/21000/21835_lr</td>\n      <td>records500/21000/21835_hr</td>\n      <td>[STTC]</td>\n      <td>NaN</td>\n    </tr>\n    <tr>\n      <th>21836</th>\n      <td>8873.0</td>\n      <td>64.0</td>\n      <td>1</td>\n      <td>NaN</td>\n      <td>NaN</td>\n      <td>1.0</td>\n      <td>2.0</td>\n      <td>AT-60    3</td>\n      <td>2001-06-09 18:21:49</td>\n      <td>supraventrikulÄre extrasystole(n) sinusrhythmu...</td>\n      <td>...</td>\n      <td>NaN</td>\n      <td>NaN</td>\n      <td>NaN</td>\n      <td>SVES</td>\n      <td>NaN</td>\n      <td>8</td>\n      <td>records100/21000/21836_lr</td>\n      <td>records500/21000/21836_hr</td>\n      <td>[NORM]</td>\n      <td>0.0</td>\n    </tr>\n    <tr>\n      <th>21837</th>\n      <td>11744.0</td>\n      <td>68.0</td>\n      <td>0</td>\n      <td>NaN</td>\n      <td>NaN</td>\n      <td>1.0</td>\n      <td>2.0</td>\n      <td>AT-60    3</td>\n      <td>2001-06-11 16:43:01</td>\n      <td>sinusrhythmus p-sinistrocardiale lagetyp norma...</td>\n      <td>...</td>\n      <td>, I-AVL,</td>\n      <td>NaN</td>\n      <td>NaN</td>\n      <td>NaN</td>\n      <td>NaN</td>\n      <td>9</td>\n      <td>records100/21000/21837_lr</td>\n      <td>records500/21000/21837_hr</td>\n      <td>[NORM]</td>\n      <td>0.0</td>\n    </tr>\n  </tbody>\n</table>\n<p>21799 rows × 29 columns</p>\n</div>"
     },
     "execution_count": 185,
     "metadata": {},
     "output_type": "execute_result"
    }
   ],
   "source": [
    "res = []\n",
    "for item in Y['diagnostic_superclass']:\n",
    "    if item == ['NORM']:\n",
    "        res.append(0)\n",
    "        continue\n",
    "    if item == ['MI']:\n",
    "        res.append(1)\n",
    "        continue\n",
    "    res.append(np.nan)\n",
    "Y['is_MI'] = res\n",
    "Y"
   ],
   "metadata": {
    "collapsed": false,
    "pycharm": {
     "name": "#%%\n"
    }
   }
  },
  {
   "cell_type": "markdown",
   "source": [
    "# Удаляем все что не НОРМ и Миакард"
   ],
   "metadata": {
    "collapsed": false,
    "pycharm": {
     "name": "#%% md\n"
    }
   }
  },
  {
   "cell_type": "code",
   "execution_count": 186,
   "outputs": [
    {
     "data": {
      "text/plain": "        patient_id    age  sex  height  weight  nurse  site      device  \\\necg_id                                                                    \n1          15709.0   56.0    1     NaN    63.0    2.0   0.0   CS-12   E   \n2          13243.0   19.0    0     NaN    70.0    2.0   0.0   CS-12   E   \n3          20372.0   37.0    1     NaN    69.0    2.0   0.0   CS-12   E   \n4          17014.0   24.0    0     NaN    82.0    2.0   0.0   CS-12   E   \n5          17448.0   19.0    1     NaN    70.0    2.0   0.0   CS-12   E   \n...            ...    ...  ...     ...     ...    ...   ...         ...   \n21830      10520.0   86.0    0     NaN     NaN    1.0   2.0  AT-60    3   \n21831      11905.0   55.0    1     NaN     NaN    1.0   2.0  AT-60    3   \n21834      20703.0  300.0    0     NaN     NaN    1.0   2.0  AT-60    3   \n21836       8873.0   64.0    1     NaN     NaN    1.0   2.0  AT-60    3   \n21837      11744.0   68.0    0     NaN     NaN    1.0   2.0  AT-60    3   \n\n             recording_date  \\\necg_id                        \n1       1984-11-09 09:17:34   \n2       1984-11-14 12:55:37   \n3       1984-11-15 12:49:10   \n4       1984-11-15 13:44:57   \n5       1984-11-17 10:43:15   \n...                     ...   \n21830   2001-05-28 07:53:21   \n21831   2001-05-28 12:49:25   \n21834   2001-06-05 11:33:39   \n21836   2001-06-09 18:21:49   \n21837   2001-06-11 16:43:01   \n\n                                                   report  ... static_noise  \\\necg_id                                                     ...                \n1                  sinusrhythmus periphere niederspannung  ...    , I-V1,     \n2                     sinusbradykardie sonst normales ekg  ...          NaN   \n3                              sinusrhythmus normales ekg  ...          NaN   \n4                              sinusrhythmus normales ekg  ...          NaN   \n5                              sinusrhythmus normales ekg  ...          NaN   \n...                                                   ...  ...          ...   \n21830   sinusrhythmus lagetyp normal periphere nieders...  ...          NaN   \n21831   sinusrhythmus lagetyp normal normales ekg 4.46...  ...          NaN   \n21834   sinusrhythmus lagetyp normal qrs(t) abnorm    ...  ...          NaN   \n21836   supraventrikulÄre extrasystole(n) sinusrhythmu...  ...          NaN   \n21837   sinusrhythmus p-sinistrocardiale lagetyp norma...  ...   , I-AVL,     \n\n       burst_noise electrodes_problems extra_beats  pacemaker  strat_fold  \\\necg_id                                                                      \n1              NaN                 NaN         NaN        NaN           3   \n2              NaN                 NaN         NaN        NaN           2   \n3              NaN                 NaN         NaN        NaN           5   \n4              NaN                 NaN         NaN        NaN           3   \n5              NaN                 NaN         NaN        NaN           4   \n...            ...                 ...         ...        ...         ...   \n21830          NaN                 NaN         NaN        NaN           1   \n21831          NaN                 NaN         NaN        NaN           9   \n21834          NaN                 NaN         NaN        NaN           4   \n21836          NaN                 NaN        SVES        NaN           8   \n21837          NaN                 NaN         NaN        NaN           9   \n\n                      filename_lr                filename_hr  \\\necg_id                                                         \n1       records100/00000/00001_lr  records500/00000/00001_hr   \n2       records100/00000/00002_lr  records500/00000/00002_hr   \n3       records100/00000/00003_lr  records500/00000/00003_hr   \n4       records100/00000/00004_lr  records500/00000/00004_hr   \n5       records100/00000/00005_lr  records500/00000/00005_hr   \n...                           ...                        ...   \n21830   records100/21000/21830_lr  records500/21000/21830_hr   \n21831   records100/21000/21831_lr  records500/21000/21831_hr   \n21834   records100/21000/21834_lr  records500/21000/21834_hr   \n21836   records100/21000/21836_lr  records500/21000/21836_hr   \n21837   records100/21000/21837_lr  records500/21000/21837_hr   \n\n       diagnostic_superclass is_MI  \necg_id                              \n1                     [NORM]   0.0  \n2                     [NORM]   0.0  \n3                     [NORM]   0.0  \n4                     [NORM]   0.0  \n5                     [NORM]   0.0  \n...                      ...   ...  \n21830                 [NORM]   0.0  \n21831                 [NORM]   0.0  \n21834                 [NORM]   0.0  \n21836                 [NORM]   0.0  \n21837                 [NORM]   0.0  \n\n[11601 rows x 29 columns]",
      "text/html": "<div>\n<style scoped>\n    .dataframe tbody tr th:only-of-type {\n        vertical-align: middle;\n    }\n\n    .dataframe tbody tr th {\n        vertical-align: top;\n    }\n\n    .dataframe thead th {\n        text-align: right;\n    }\n</style>\n<table border=\"1\" class=\"dataframe\">\n  <thead>\n    <tr style=\"text-align: right;\">\n      <th></th>\n      <th>patient_id</th>\n      <th>age</th>\n      <th>sex</th>\n      <th>height</th>\n      <th>weight</th>\n      <th>nurse</th>\n      <th>site</th>\n      <th>device</th>\n      <th>recording_date</th>\n      <th>report</th>\n      <th>...</th>\n      <th>static_noise</th>\n      <th>burst_noise</th>\n      <th>electrodes_problems</th>\n      <th>extra_beats</th>\n      <th>pacemaker</th>\n      <th>strat_fold</th>\n      <th>filename_lr</th>\n      <th>filename_hr</th>\n      <th>diagnostic_superclass</th>\n      <th>is_MI</th>\n    </tr>\n    <tr>\n      <th>ecg_id</th>\n      <th></th>\n      <th></th>\n      <th></th>\n      <th></th>\n      <th></th>\n      <th></th>\n      <th></th>\n      <th></th>\n      <th></th>\n      <th></th>\n      <th></th>\n      <th></th>\n      <th></th>\n      <th></th>\n      <th></th>\n      <th></th>\n      <th></th>\n      <th></th>\n      <th></th>\n      <th></th>\n      <th></th>\n    </tr>\n  </thead>\n  <tbody>\n    <tr>\n      <th>1</th>\n      <td>15709.0</td>\n      <td>56.0</td>\n      <td>1</td>\n      <td>NaN</td>\n      <td>63.0</td>\n      <td>2.0</td>\n      <td>0.0</td>\n      <td>CS-12   E</td>\n      <td>1984-11-09 09:17:34</td>\n      <td>sinusrhythmus periphere niederspannung</td>\n      <td>...</td>\n      <td>, I-V1,</td>\n      <td>NaN</td>\n      <td>NaN</td>\n      <td>NaN</td>\n      <td>NaN</td>\n      <td>3</td>\n      <td>records100/00000/00001_lr</td>\n      <td>records500/00000/00001_hr</td>\n      <td>[NORM]</td>\n      <td>0.0</td>\n    </tr>\n    <tr>\n      <th>2</th>\n      <td>13243.0</td>\n      <td>19.0</td>\n      <td>0</td>\n      <td>NaN</td>\n      <td>70.0</td>\n      <td>2.0</td>\n      <td>0.0</td>\n      <td>CS-12   E</td>\n      <td>1984-11-14 12:55:37</td>\n      <td>sinusbradykardie sonst normales ekg</td>\n      <td>...</td>\n      <td>NaN</td>\n      <td>NaN</td>\n      <td>NaN</td>\n      <td>NaN</td>\n      <td>NaN</td>\n      <td>2</td>\n      <td>records100/00000/00002_lr</td>\n      <td>records500/00000/00002_hr</td>\n      <td>[NORM]</td>\n      <td>0.0</td>\n    </tr>\n    <tr>\n      <th>3</th>\n      <td>20372.0</td>\n      <td>37.0</td>\n      <td>1</td>\n      <td>NaN</td>\n      <td>69.0</td>\n      <td>2.0</td>\n      <td>0.0</td>\n      <td>CS-12   E</td>\n      <td>1984-11-15 12:49:10</td>\n      <td>sinusrhythmus normales ekg</td>\n      <td>...</td>\n      <td>NaN</td>\n      <td>NaN</td>\n      <td>NaN</td>\n      <td>NaN</td>\n      <td>NaN</td>\n      <td>5</td>\n      <td>records100/00000/00003_lr</td>\n      <td>records500/00000/00003_hr</td>\n      <td>[NORM]</td>\n      <td>0.0</td>\n    </tr>\n    <tr>\n      <th>4</th>\n      <td>17014.0</td>\n      <td>24.0</td>\n      <td>0</td>\n      <td>NaN</td>\n      <td>82.0</td>\n      <td>2.0</td>\n      <td>0.0</td>\n      <td>CS-12   E</td>\n      <td>1984-11-15 13:44:57</td>\n      <td>sinusrhythmus normales ekg</td>\n      <td>...</td>\n      <td>NaN</td>\n      <td>NaN</td>\n      <td>NaN</td>\n      <td>NaN</td>\n      <td>NaN</td>\n      <td>3</td>\n      <td>records100/00000/00004_lr</td>\n      <td>records500/00000/00004_hr</td>\n      <td>[NORM]</td>\n      <td>0.0</td>\n    </tr>\n    <tr>\n      <th>5</th>\n      <td>17448.0</td>\n      <td>19.0</td>\n      <td>1</td>\n      <td>NaN</td>\n      <td>70.0</td>\n      <td>2.0</td>\n      <td>0.0</td>\n      <td>CS-12   E</td>\n      <td>1984-11-17 10:43:15</td>\n      <td>sinusrhythmus normales ekg</td>\n      <td>...</td>\n      <td>NaN</td>\n      <td>NaN</td>\n      <td>NaN</td>\n      <td>NaN</td>\n      <td>NaN</td>\n      <td>4</td>\n      <td>records100/00000/00005_lr</td>\n      <td>records500/00000/00005_hr</td>\n      <td>[NORM]</td>\n      <td>0.0</td>\n    </tr>\n    <tr>\n      <th>...</th>\n      <td>...</td>\n      <td>...</td>\n      <td>...</td>\n      <td>...</td>\n      <td>...</td>\n      <td>...</td>\n      <td>...</td>\n      <td>...</td>\n      <td>...</td>\n      <td>...</td>\n      <td>...</td>\n      <td>...</td>\n      <td>...</td>\n      <td>...</td>\n      <td>...</td>\n      <td>...</td>\n      <td>...</td>\n      <td>...</td>\n      <td>...</td>\n      <td>...</td>\n      <td>...</td>\n    </tr>\n    <tr>\n      <th>21830</th>\n      <td>10520.0</td>\n      <td>86.0</td>\n      <td>0</td>\n      <td>NaN</td>\n      <td>NaN</td>\n      <td>1.0</td>\n      <td>2.0</td>\n      <td>AT-60    3</td>\n      <td>2001-05-28 07:53:21</td>\n      <td>sinusrhythmus lagetyp normal periphere nieders...</td>\n      <td>...</td>\n      <td>NaN</td>\n      <td>NaN</td>\n      <td>NaN</td>\n      <td>NaN</td>\n      <td>NaN</td>\n      <td>1</td>\n      <td>records100/21000/21830_lr</td>\n      <td>records500/21000/21830_hr</td>\n      <td>[NORM]</td>\n      <td>0.0</td>\n    </tr>\n    <tr>\n      <th>21831</th>\n      <td>11905.0</td>\n      <td>55.0</td>\n      <td>1</td>\n      <td>NaN</td>\n      <td>NaN</td>\n      <td>1.0</td>\n      <td>2.0</td>\n      <td>AT-60    3</td>\n      <td>2001-05-28 12:49:25</td>\n      <td>sinusrhythmus lagetyp normal normales ekg 4.46...</td>\n      <td>...</td>\n      <td>NaN</td>\n      <td>NaN</td>\n      <td>NaN</td>\n      <td>NaN</td>\n      <td>NaN</td>\n      <td>9</td>\n      <td>records100/21000/21831_lr</td>\n      <td>records500/21000/21831_hr</td>\n      <td>[NORM]</td>\n      <td>0.0</td>\n    </tr>\n    <tr>\n      <th>21834</th>\n      <td>20703.0</td>\n      <td>300.0</td>\n      <td>0</td>\n      <td>NaN</td>\n      <td>NaN</td>\n      <td>1.0</td>\n      <td>2.0</td>\n      <td>AT-60    3</td>\n      <td>2001-06-05 11:33:39</td>\n      <td>sinusrhythmus lagetyp normal qrs(t) abnorm    ...</td>\n      <td>...</td>\n      <td>NaN</td>\n      <td>NaN</td>\n      <td>NaN</td>\n      <td>NaN</td>\n      <td>NaN</td>\n      <td>4</td>\n      <td>records100/21000/21834_lr</td>\n      <td>records500/21000/21834_hr</td>\n      <td>[NORM]</td>\n      <td>0.0</td>\n    </tr>\n    <tr>\n      <th>21836</th>\n      <td>8873.0</td>\n      <td>64.0</td>\n      <td>1</td>\n      <td>NaN</td>\n      <td>NaN</td>\n      <td>1.0</td>\n      <td>2.0</td>\n      <td>AT-60    3</td>\n      <td>2001-06-09 18:21:49</td>\n      <td>supraventrikulÄre extrasystole(n) sinusrhythmu...</td>\n      <td>...</td>\n      <td>NaN</td>\n      <td>NaN</td>\n      <td>NaN</td>\n      <td>SVES</td>\n      <td>NaN</td>\n      <td>8</td>\n      <td>records100/21000/21836_lr</td>\n      <td>records500/21000/21836_hr</td>\n      <td>[NORM]</td>\n      <td>0.0</td>\n    </tr>\n    <tr>\n      <th>21837</th>\n      <td>11744.0</td>\n      <td>68.0</td>\n      <td>0</td>\n      <td>NaN</td>\n      <td>NaN</td>\n      <td>1.0</td>\n      <td>2.0</td>\n      <td>AT-60    3</td>\n      <td>2001-06-11 16:43:01</td>\n      <td>sinusrhythmus p-sinistrocardiale lagetyp norma...</td>\n      <td>...</td>\n      <td>, I-AVL,</td>\n      <td>NaN</td>\n      <td>NaN</td>\n      <td>NaN</td>\n      <td>NaN</td>\n      <td>9</td>\n      <td>records100/21000/21837_lr</td>\n      <td>records500/21000/21837_hr</td>\n      <td>[NORM]</td>\n      <td>0.0</td>\n    </tr>\n  </tbody>\n</table>\n<p>11601 rows × 29 columns</p>\n</div>"
     },
     "execution_count": 186,
     "metadata": {},
     "output_type": "execute_result"
    }
   ],
   "source": [
    "Y = Y.drop(Y[Y.is_MI.isna()].index)\n",
    "Y"
   ],
   "metadata": {
    "collapsed": false,
    "pycharm": {
     "name": "#%%\n"
    }
   }
  },
  {
   "cell_type": "markdown",
   "source": [
    "# Разделяем на test и train"
   ],
   "metadata": {
    "collapsed": false,
    "pycharm": {
     "name": "#%% md\n"
    }
   }
  },
  {
   "cell_type": "code",
   "execution_count": 187,
   "outputs": [],
   "source": [
    "# Split data into train and test\n",
    "test_fold = 10\n",
    "# Train\n",
    "X_train = X[np.where(Y.strat_fold != test_fold)]\n",
    "y_train = Y[(Y.strat_fold != test_fold)].is_MI\n",
    "# Test\n",
    "X_test = X[np.where(Y.strat_fold == test_fold)]\n",
    "y_test = Y[Y.strat_fold == test_fold].is_MI"
   ],
   "metadata": {
    "collapsed": false,
    "pycharm": {
     "name": "#%%\n"
    }
   }
  },
  {
   "cell_type": "code",
   "execution_count": 188,
   "outputs": [
    {
     "data": {
      "text/plain": "ecg_id\n1      0.0\n2      0.0\n3      0.0\n4      0.0\n5      0.0\n      ... \n161    1.0\n163    0.0\n165    0.0\n166    0.0\n174    0.0\nName: is_MI, Length: 100, dtype: float64"
     },
     "execution_count": 188,
     "metadata": {},
     "output_type": "execute_result"
    }
   ],
   "source": [
    "y_train.head(100)"
   ],
   "metadata": {
    "collapsed": false,
    "pycharm": {
     "name": "#%%\n"
    }
   }
  },
  {
   "cell_type": "markdown",
   "source": [
    "# Все норм"
   ],
   "metadata": {
    "collapsed": false,
    "pycharm": {
     "name": "#%% md\n"
    }
   }
  },
  {
   "cell_type": "code",
   "execution_count": 189,
   "outputs": [
    {
     "data": {
      "text/plain": "(10433, 1000, 12)"
     },
     "execution_count": 189,
     "metadata": {},
     "output_type": "execute_result"
    }
   ],
   "source": [
    "X_train.shape"
   ],
   "metadata": {
    "collapsed": false,
    "pycharm": {
     "name": "#%%\n"
    }
   }
  },
  {
   "cell_type": "code",
   "execution_count": 190,
   "outputs": [
    {
     "data": {
      "text/plain": "(10433,)"
     },
     "execution_count": 190,
     "metadata": {},
     "output_type": "execute_result"
    }
   ],
   "source": [
    "y_train.shape"
   ],
   "metadata": {
    "collapsed": false,
    "pycharm": {
     "name": "#%%\n"
    }
   }
  },
  {
   "cell_type": "code",
   "execution_count": 191,
   "outputs": [
    {
     "data": {
      "text/plain": "(1168, 1000, 12)"
     },
     "execution_count": 191,
     "metadata": {},
     "output_type": "execute_result"
    }
   ],
   "source": [
    "X_test.shape"
   ],
   "metadata": {
    "collapsed": false,
    "pycharm": {
     "name": "#%%\n"
    }
   }
  },
  {
   "cell_type": "code",
   "execution_count": 192,
   "outputs": [
    {
     "data": {
      "text/plain": "(1168,)"
     },
     "execution_count": 192,
     "metadata": {},
     "output_type": "execute_result"
    }
   ],
   "source": [
    "y_test.shape"
   ],
   "metadata": {
    "collapsed": false,
    "pycharm": {
     "name": "#%%\n"
    }
   }
  },
  {
   "cell_type": "markdown",
   "source": [
    "# Функция для рисования всех рядов"
   ],
   "metadata": {
    "collapsed": false,
    "pycharm": {
     "name": "#%% md\n"
    }
   }
  },
  {
   "cell_type": "code",
   "execution_count": 193,
   "outputs": [],
   "source": [
    "from matplotlib import pyplot as plt\n",
    "import seaborn as sns\n",
    "\n",
    "\n",
    "def plot_series(series: pd.DataFrame, size=(25, 70), rows=12):\n",
    "    if series.shape[1] != 12:\n",
    "        raise ValueError('Frame columns must be 12')\n",
    "\n",
    "    if rows > 12:\n",
    "        raise ValueError('Rows must be less or equal than 12')\n",
    "\n",
    "    fig, axs = plt.subplots(rows, figsize=size)\n",
    "    all_axs = [axs[i] for i in range(rows)]\n",
    "    curr_ax = 0\n",
    "    for ser in series.T:\n",
    "        sns.lineplot(ser, ax=all_axs[curr_ax])\n",
    "        curr_ax += 1"
   ],
   "metadata": {
    "collapsed": false,
    "pycharm": {
     "name": "#%%\n"
    }
   }
  },
  {
   "cell_type": "code",
   "execution_count": 194,
   "outputs": [
    {
     "data": {
      "text/plain": "ecg_id\n1     0.0\n2     0.0\n3     0.0\n4     0.0\n5     0.0\n6     0.0\n7     0.0\n8     1.0\n10    0.0\n11    0.0\nName: is_MI, dtype: float64"
     },
     "execution_count": 194,
     "metadata": {},
     "output_type": "execute_result"
    }
   ],
   "source": [
    "y_train.head(10)"
   ],
   "metadata": {
    "collapsed": false,
    "pycharm": {
     "name": "#%%\n"
    }
   }
  },
  {
   "cell_type": "markdown",
   "source": [],
   "metadata": {
    "collapsed": false,
    "pycharm": {
     "name": "#%% md\n"
    }
   }
  },
  {
   "cell_type": "code",
   "execution_count": 195,
   "outputs": [],
   "source": [
    "import numpy as np\n",
    "from sklearn.model_selection import train_test_split\n",
    "from sklearn.pipeline import Pipeline\n",
    "\n",
    "from sktime.classification.compose import ColumnEnsembleClassifier\n",
    "from sktime.classification.dictionary_based import BOSSEnsemble\n",
    "from sktime.classification.interval_based import TimeSeriesForestClassifier\n",
    "from sktime.datasets import load_basic_motions\n",
    "from sktime.transformations.panel.compose import ColumnConcatenator\n"
   ],
   "metadata": {
    "collapsed": false,
    "pycharm": {
     "name": "#%%\n"
    }
   }
  },
  {
   "cell_type": "code",
   "execution_count": 207,
   "outputs": [
    {
     "data": {
      "text/plain": "(10433, 1000, 12)"
     },
     "execution_count": 207,
     "metadata": {},
     "output_type": "execute_result"
    }
   ],
   "source": [
    "X_train.shape"
   ],
   "metadata": {
    "collapsed": false,
    "pycharm": {
     "name": "#%%\n"
    }
   }
  },
  {
   "cell_type": "code",
   "execution_count": 208,
   "outputs": [
    {
     "data": {
      "text/plain": "(1168, 1000, 12)"
     },
     "execution_count": 208,
     "metadata": {},
     "output_type": "execute_result"
    }
   ],
   "source": [
    "X_test.shape"
   ],
   "metadata": {
    "collapsed": false,
    "pycharm": {
     "name": "#%%\n"
    }
   }
  },
  {
   "cell_type": "markdown",
   "source": [
    "# Преобразовать форму рядов"
   ],
   "metadata": {
    "collapsed": false,
    "pycharm": {
     "name": "#%% md\n"
    }
   }
  },
  {
   "cell_type": "code",
   "execution_count": 209,
   "outputs": [],
   "source": [
    "def represent(time_series: np.array) -> pd.DataFrame:\n",
    "    res = []\n",
    "    features = time_series.shape[2]\n",
    "    print(features)\n",
    "    for i in range(time_series.shape[0]):\n",
    "        tmp_res = []\n",
    "        for feature in range(features):\n",
    "            to_series = pd.Series(time_series[i].T[feature].copy())\n",
    "            tmp_res.append(to_series)\n",
    "        res.append(tmp_res)\n",
    "    return pd.DataFrame(res, columns=[f'feature {i}' for i in range(1, 13)])"
   ],
   "metadata": {
    "collapsed": false,
    "pycharm": {
     "name": "#%%\n"
    }
   }
  },
  {
   "cell_type": "code",
   "execution_count": 210,
   "outputs": [],
   "source": [
    "ECG_COUNT = 1000"
   ],
   "metadata": {
    "collapsed": false,
    "pycharm": {
     "name": "#%%\n"
    }
   }
  },
  {
   "cell_type": "code",
   "execution_count": 211,
   "outputs": [
    {
     "name": "stdout",
     "output_type": "stream",
     "text": [
      "12\n"
     ]
    },
    {
     "data": {
      "text/plain": "                                             feature 1  \\\n0    0     -0.119\n1     -0.116\n2     -0.120\n3     -...   \n1    0      0.004\n1     -0.020\n2     -0.053\n3     -...   \n2    0     -0.029\n1     -0.035\n2     -0.054\n3     -...   \n3    0     -0.054\n1     -0.053\n2     -0.063\n3     -...   \n4    0     -0.034\n1     -0.038\n2     -0.057\n3     -...   \n..                                                 ...   \n995  0     -0.314\n1     -0.304\n2     -0.323\n3     -...   \n996  0     -0.085\n1     -0.085\n2     -0.085\n3     -...   \n997  0      0.073\n1      0.055\n2      0.056\n3      ...   \n998  0     -0.013\n1     -0.012\n2      0.001\n3     -...   \n999  0     -0.145\n1     -0.145\n2     -0.145\n3     -...   \n\n                                             feature 2  \\\n0    0     -0.055\n1     -0.051\n2     -0.044\n3     -...   \n1    0      0.138\n1      0.116\n2      0.092\n3      ...   \n2    0     -0.079\n1     -0.070\n2     -0.057\n3     -...   \n3    0     -0.138\n1     -0.156\n2     -0.153\n3     -...   \n4    0     -0.574\n1     -0.575\n2     -0.584\n3     -...   \n..                                                 ...   \n995  0     -0.239\n1     -0.233\n2     -0.244\n3     -...   \n996  0     -0.095\n1     -0.095\n2     -0.095\n3     -...   \n997  0      0.123\n1      0.117\n2      0.142\n3      ...   \n998  0      0.005\n1      0.005\n2      0.005\n3      ...   \n999  0     -0.065\n1     -0.064\n2     -0.060\n3     -...   \n\n                                             feature 3  \\\n0    0      0.064\n1      0.065\n2      0.076\n3      ...   \n1    0      0.134\n1      0.136\n2      0.145\n3      ...   \n2    0     -0.049\n1     -0.035\n2     -0.003\n3     -...   \n3    0     -0.083\n1     -0.103\n2     -0.090\n3     -...   \n4    0     -0.540\n1     -0.537\n2     -0.527\n3     -...   \n..                                                 ...   \n995  0      0.075\n1      0.071\n2      0.079\n3      ...   \n996  0     -0.010\n1     -0.010\n2     -0.010\n3     -...   \n997  0      0.049\n1      0.062\n2      0.086\n3      ...   \n998  0      0.018\n1      0.017\n2      0.005\n3      ...   \n999  0      0.080\n1      0.081\n2      0.085\n3      ...   \n\n                                             feature 4  \\\n0    0      0.086\n1      0.083\n2      0.082\n3      ...   \n1    0     -0.072\n1     -0.048\n2     -0.020\n3     -...   \n2    0      0.054\n1      0.052\n2      0.056\n3      ...   \n3    0      0.096\n1      0.105\n2      0.108\n3      ...   \n4    0      0.304\n1      0.306\n2      0.320\n3      ...   \n..                                                 ...   \n995  0      0.276\n1      0.269\n2      0.283\n3      ...   \n996  0      0.090\n1      0.090\n2      0.090\n3      ...   \n997  0     -0.098\n1     -0.086\n2     -0.099\n3     -...   \n998  0      0.004\n1      0.004\n2     -0.003\n3      ...   \n999  0      0.105\n1      0.104\n2      0.102\n3      ...   \n\n                                             feature 5  \\\n0    0     -0.091\n1     -0.090\n2     -0.098\n3     -...   \n1    0     -0.065\n1     -0.078\n2     -0.100\n3     -...   \n2    0      0.011\n1      0.000\n2     -0.025\n3     -...   \n3    0      0.015\n1      0.025\n2      0.014\n3      ...   \n4    0      0.253\n1      0.250\n2      0.235\n3      ...   \n..                                                 ...   \n995  0     -0.194\n1     -0.188\n2     -0.201\n3     -...   \n996  0     -0.037\n1     -0.037\n2     -0.037\n3     -...   \n997  0      0.012\n1     -0.004\n2     -0.015\n3      ...   \n998  0     -0.016\n1     -0.015\n2     -0.002\n3     -...   \n999  0     -0.112\n1     -0.113\n2     -0.115\n3     -...   \n\n                                             feature 6  \\\n0    0      0.004\n1      0.006\n2      0.016\n3      ...   \n1    0      0.136\n1      0.125\n2      0.118\n3      ...   \n2    0     -0.064\n1     -0.052\n2     -0.030\n3     -...   \n3    0     -0.110\n1     -0.129\n2     -0.121\n3     -...   \n4    0     -0.556\n1     -0.555\n2     -0.555\n3     -...   \n..                                                 ...   \n995  0     -0.082\n1     -0.081\n2     -0.082\n3     -...   \n996  0     -0.052\n1     -0.052\n2     -0.052\n3     -...   \n997  0      0.086\n1      0.089\n2      0.114\n3      ...   \n998  0      0.011\n1      0.011\n2      0.005\n3      ...   \n999  0      0.007\n1      0.008\n2      0.012\n3      ...   \n\n                                             feature 7  \\\n0    0     -0.069\n1     -0.064\n2     -0.058\n3     -...   \n1    0     -0.123\n1     -0.102\n2     -0.082\n3     -...   \n2    0      0.005\n1      0.013\n2      0.019\n3      ...   \n3    0      0.025\n1      0.027\n2      0.032\n3      ...   \n4    0      0.200\n1      0.199\n2      0.195\n3      ...   \n..                                                 ...   \n995  0      0.015\n1      0.015\n2      0.015\n3      ...   \n996  0      0.015\n1      0.015\n2      0.015\n3      ...   \n997  0     -0.023\n1     -0.025\n2     -0.014\n3     -...   \n998  0      0.470\n1      0.470\n2      0.470\n3      ...   \n999  0      0.050\n1      0.050\n2      0.050\n3      ...   \n\n                                             feature 8  \\\n0    0     -0.031\n1     -0.036\n2     -0.034\n3     -...   \n1    0      0.088\n1      0.066\n2      0.043\n3      ...   \n2    0     -0.051\n1     -0.047\n2     -0.048\n3     -...   \n3    0     -0.035\n1     -0.038\n2     -0.051\n3     -...   \n4    0      0.250\n1      0.248\n2      0.242\n3      ...   \n..                                                 ...   \n995  0     -0.195\n1     -0.202\n2     -0.212\n3     -...   \n996  0     -0.115\n1     -0.115\n2     -0.115\n3     -...   \n997  0      0.200\n1      0.219\n2      0.256\n3      ...   \n998  0      0.065\n1      0.076\n2      0.087\n3      ...   \n999  0      0.040\n1      0.040\n2      0.040\n3      ...   \n\n                                             feature 9  \\\n0    0      0.000\n1     -0.003\n2     -0.010\n3     -...   \n1    0      0.143\n1      0.113\n2      0.069\n3      ...   \n2    0     -0.116\n1     -0.120\n2     -0.105\n3     -...   \n3    0     -0.040\n1     -0.043\n2     -0.059\n3     -...   \n4    0      0.135\n1      0.132\n2      0.126\n3      ...   \n..                                                 ...   \n995  0     -0.060\n1     -0.065\n2     -0.077\n3     -...   \n996  0      0.000\n1      0.000\n2     -0.003\n3     -...   \n997  0      0.162\n1      0.187\n2      0.225\n3      ...   \n998  0     -0.310\n1     -0.309\n2     -0.311\n3     -...   \n999  0      0.000\n1      0.000\n2      0.000\n3      ...   \n\n                                            feature 10  \\\n0    0     -0.026\n1     -0.031\n2     -0.028\n3     -...   \n1    0      0.192\n1      0.156\n2      0.107\n3      ...   \n2    0     -0.103\n1     -0.104\n2     -0.078\n3     -...   \n3    0     -0.300\n1     -0.303\n2     -0.312\n3     -...   \n4    0      0.165\n1      0.163\n2      0.157\n3      ...   \n..                                                 ...   \n995  0      0.070\n1      0.070\n2      0.070\n3      ...   \n996  0      0.005\n1      0.004\n2      0.000\n3     -...   \n997  0     -0.034\n1     -0.027\n2     -0.013\n3      ...   \n998  0     -0.010\n1     -0.010\n2     -0.013\n3     -...   \n999  0     -0.010\n1     -0.010\n2     -0.010\n3     -...   \n\n                                            feature 11  \\\n0    0     -0.039\n1     -0.034\n2     -0.029\n3     -...   \n1    0      0.083\n1      0.057\n2      0.013\n3     -...   \n2    0     -0.076\n1     -0.079\n2     -0.066\n3     -...   \n3    0     -0.184\n1     -0.185\n2     -0.193\n3     -...   \n4    0      0.135\n1      0.134\n2      0.130\n3      ...   \n..                                                 ...   \n995  0      0.290\n1      0.290\n2      0.290\n3      ...   \n996  0      0.025\n1      0.022\n2      0.016\n3      ...   \n997  0      0.080\n1      0.080\n2      0.086\n3      ...   \n998  0      0.070\n1      0.070\n2      0.066\n3      ...   \n999  0     -0.050\n1     -0.050\n2     -0.050\n3     -...   \n\n                                            feature 12  \n0    0     -0.079\n1     -0.074\n2     -0.069\n3     -...  \n1    0      0.088\n1      0.063\n2      0.022\n3      ...  \n2    0     -0.066\n1     -0.068\n2     -0.054\n3     -...  \n3    0     -0.174\n1     -0.176\n2     -0.185\n3     -...  \n4    0      0.115\n1      0.114\n2      0.110\n3      ...  \n..                                                 ...  \n995  0      0.440\n1      0.438\n2      0.434\n3      ...  \n996  0      0.630\n1      0.628\n2      0.624\n3      ...  \n997  0     -0.089\n1     -0.083\n2     -0.072\n3     -...  \n998  0     -0.020\n1     -0.019\n2     -0.015\n3     -...  \n999  0     -0.070\n1     -0.070\n2     -0.070\n3     -...  \n\n[1000 rows x 12 columns]",
      "text/html": "<div>\n<style scoped>\n    .dataframe tbody tr th:only-of-type {\n        vertical-align: middle;\n    }\n\n    .dataframe tbody tr th {\n        vertical-align: top;\n    }\n\n    .dataframe thead th {\n        text-align: right;\n    }\n</style>\n<table border=\"1\" class=\"dataframe\">\n  <thead>\n    <tr style=\"text-align: right;\">\n      <th></th>\n      <th>feature 1</th>\n      <th>feature 2</th>\n      <th>feature 3</th>\n      <th>feature 4</th>\n      <th>feature 5</th>\n      <th>feature 6</th>\n      <th>feature 7</th>\n      <th>feature 8</th>\n      <th>feature 9</th>\n      <th>feature 10</th>\n      <th>feature 11</th>\n      <th>feature 12</th>\n    </tr>\n  </thead>\n  <tbody>\n    <tr>\n      <th>0</th>\n      <td>0     -0.119\n1     -0.116\n2     -0.120\n3     -...</td>\n      <td>0     -0.055\n1     -0.051\n2     -0.044\n3     -...</td>\n      <td>0      0.064\n1      0.065\n2      0.076\n3      ...</td>\n      <td>0      0.086\n1      0.083\n2      0.082\n3      ...</td>\n      <td>0     -0.091\n1     -0.090\n2     -0.098\n3     -...</td>\n      <td>0      0.004\n1      0.006\n2      0.016\n3      ...</td>\n      <td>0     -0.069\n1     -0.064\n2     -0.058\n3     -...</td>\n      <td>0     -0.031\n1     -0.036\n2     -0.034\n3     -...</td>\n      <td>0      0.000\n1     -0.003\n2     -0.010\n3     -...</td>\n      <td>0     -0.026\n1     -0.031\n2     -0.028\n3     -...</td>\n      <td>0     -0.039\n1     -0.034\n2     -0.029\n3     -...</td>\n      <td>0     -0.079\n1     -0.074\n2     -0.069\n3     -...</td>\n    </tr>\n    <tr>\n      <th>1</th>\n      <td>0      0.004\n1     -0.020\n2     -0.053\n3     -...</td>\n      <td>0      0.138\n1      0.116\n2      0.092\n3      ...</td>\n      <td>0      0.134\n1      0.136\n2      0.145\n3      ...</td>\n      <td>0     -0.072\n1     -0.048\n2     -0.020\n3     -...</td>\n      <td>0     -0.065\n1     -0.078\n2     -0.100\n3     -...</td>\n      <td>0      0.136\n1      0.125\n2      0.118\n3      ...</td>\n      <td>0     -0.123\n1     -0.102\n2     -0.082\n3     -...</td>\n      <td>0      0.088\n1      0.066\n2      0.043\n3      ...</td>\n      <td>0      0.143\n1      0.113\n2      0.069\n3      ...</td>\n      <td>0      0.192\n1      0.156\n2      0.107\n3      ...</td>\n      <td>0      0.083\n1      0.057\n2      0.013\n3     -...</td>\n      <td>0      0.088\n1      0.063\n2      0.022\n3      ...</td>\n    </tr>\n    <tr>\n      <th>2</th>\n      <td>0     -0.029\n1     -0.035\n2     -0.054\n3     -...</td>\n      <td>0     -0.079\n1     -0.070\n2     -0.057\n3     -...</td>\n      <td>0     -0.049\n1     -0.035\n2     -0.003\n3     -...</td>\n      <td>0      0.054\n1      0.052\n2      0.056\n3      ...</td>\n      <td>0      0.011\n1      0.000\n2     -0.025\n3     -...</td>\n      <td>0     -0.064\n1     -0.052\n2     -0.030\n3     -...</td>\n      <td>0      0.005\n1      0.013\n2      0.019\n3      ...</td>\n      <td>0     -0.051\n1     -0.047\n2     -0.048\n3     -...</td>\n      <td>0     -0.116\n1     -0.120\n2     -0.105\n3     -...</td>\n      <td>0     -0.103\n1     -0.104\n2     -0.078\n3     -...</td>\n      <td>0     -0.076\n1     -0.079\n2     -0.066\n3     -...</td>\n      <td>0     -0.066\n1     -0.068\n2     -0.054\n3     -...</td>\n    </tr>\n    <tr>\n      <th>3</th>\n      <td>0     -0.054\n1     -0.053\n2     -0.063\n3     -...</td>\n      <td>0     -0.138\n1     -0.156\n2     -0.153\n3     -...</td>\n      <td>0     -0.083\n1     -0.103\n2     -0.090\n3     -...</td>\n      <td>0      0.096\n1      0.105\n2      0.108\n3      ...</td>\n      <td>0      0.015\n1      0.025\n2      0.014\n3      ...</td>\n      <td>0     -0.110\n1     -0.129\n2     -0.121\n3     -...</td>\n      <td>0      0.025\n1      0.027\n2      0.032\n3      ...</td>\n      <td>0     -0.035\n1     -0.038\n2     -0.051\n3     -...</td>\n      <td>0     -0.040\n1     -0.043\n2     -0.059\n3     -...</td>\n      <td>0     -0.300\n1     -0.303\n2     -0.312\n3     -...</td>\n      <td>0     -0.184\n1     -0.185\n2     -0.193\n3     -...</td>\n      <td>0     -0.174\n1     -0.176\n2     -0.185\n3     -...</td>\n    </tr>\n    <tr>\n      <th>4</th>\n      <td>0     -0.034\n1     -0.038\n2     -0.057\n3     -...</td>\n      <td>0     -0.574\n1     -0.575\n2     -0.584\n3     -...</td>\n      <td>0     -0.540\n1     -0.537\n2     -0.527\n3     -...</td>\n      <td>0      0.304\n1      0.306\n2      0.320\n3      ...</td>\n      <td>0      0.253\n1      0.250\n2      0.235\n3      ...</td>\n      <td>0     -0.556\n1     -0.555\n2     -0.555\n3     -...</td>\n      <td>0      0.200\n1      0.199\n2      0.195\n3      ...</td>\n      <td>0      0.250\n1      0.248\n2      0.242\n3      ...</td>\n      <td>0      0.135\n1      0.132\n2      0.126\n3      ...</td>\n      <td>0      0.165\n1      0.163\n2      0.157\n3      ...</td>\n      <td>0      0.135\n1      0.134\n2      0.130\n3      ...</td>\n      <td>0      0.115\n1      0.114\n2      0.110\n3      ...</td>\n    </tr>\n    <tr>\n      <th>...</th>\n      <td>...</td>\n      <td>...</td>\n      <td>...</td>\n      <td>...</td>\n      <td>...</td>\n      <td>...</td>\n      <td>...</td>\n      <td>...</td>\n      <td>...</td>\n      <td>...</td>\n      <td>...</td>\n      <td>...</td>\n    </tr>\n    <tr>\n      <th>995</th>\n      <td>0     -0.314\n1     -0.304\n2     -0.323\n3     -...</td>\n      <td>0     -0.239\n1     -0.233\n2     -0.244\n3     -...</td>\n      <td>0      0.075\n1      0.071\n2      0.079\n3      ...</td>\n      <td>0      0.276\n1      0.269\n2      0.283\n3      ...</td>\n      <td>0     -0.194\n1     -0.188\n2     -0.201\n3     -...</td>\n      <td>0     -0.082\n1     -0.081\n2     -0.082\n3     -...</td>\n      <td>0      0.015\n1      0.015\n2      0.015\n3      ...</td>\n      <td>0     -0.195\n1     -0.202\n2     -0.212\n3     -...</td>\n      <td>0     -0.060\n1     -0.065\n2     -0.077\n3     -...</td>\n      <td>0      0.070\n1      0.070\n2      0.070\n3      ...</td>\n      <td>0      0.290\n1      0.290\n2      0.290\n3      ...</td>\n      <td>0      0.440\n1      0.438\n2      0.434\n3      ...</td>\n    </tr>\n    <tr>\n      <th>996</th>\n      <td>0     -0.085\n1     -0.085\n2     -0.085\n3     -...</td>\n      <td>0     -0.095\n1     -0.095\n2     -0.095\n3     -...</td>\n      <td>0     -0.010\n1     -0.010\n2     -0.010\n3     -...</td>\n      <td>0      0.090\n1      0.090\n2      0.090\n3      ...</td>\n      <td>0     -0.037\n1     -0.037\n2     -0.037\n3     -...</td>\n      <td>0     -0.052\n1     -0.052\n2     -0.052\n3     -...</td>\n      <td>0      0.015\n1      0.015\n2      0.015\n3      ...</td>\n      <td>0     -0.115\n1     -0.115\n2     -0.115\n3     -...</td>\n      <td>0      0.000\n1      0.000\n2     -0.003\n3     -...</td>\n      <td>0      0.005\n1      0.004\n2      0.000\n3     -...</td>\n      <td>0      0.025\n1      0.022\n2      0.016\n3      ...</td>\n      <td>0      0.630\n1      0.628\n2      0.624\n3      ...</td>\n    </tr>\n    <tr>\n      <th>997</th>\n      <td>0      0.073\n1      0.055\n2      0.056\n3      ...</td>\n      <td>0      0.123\n1      0.117\n2      0.142\n3      ...</td>\n      <td>0      0.049\n1      0.062\n2      0.086\n3      ...</td>\n      <td>0     -0.098\n1     -0.086\n2     -0.099\n3     -...</td>\n      <td>0      0.012\n1     -0.004\n2     -0.015\n3      ...</td>\n      <td>0      0.086\n1      0.089\n2      0.114\n3      ...</td>\n      <td>0     -0.023\n1     -0.025\n2     -0.014\n3     -...</td>\n      <td>0      0.200\n1      0.219\n2      0.256\n3      ...</td>\n      <td>0      0.162\n1      0.187\n2      0.225\n3      ...</td>\n      <td>0     -0.034\n1     -0.027\n2     -0.013\n3      ...</td>\n      <td>0      0.080\n1      0.080\n2      0.086\n3      ...</td>\n      <td>0     -0.089\n1     -0.083\n2     -0.072\n3     -...</td>\n    </tr>\n    <tr>\n      <th>998</th>\n      <td>0     -0.013\n1     -0.012\n2      0.001\n3     -...</td>\n      <td>0      0.005\n1      0.005\n2      0.005\n3      ...</td>\n      <td>0      0.018\n1      0.017\n2      0.005\n3      ...</td>\n      <td>0      0.004\n1      0.004\n2     -0.003\n3      ...</td>\n      <td>0     -0.016\n1     -0.015\n2     -0.002\n3     -...</td>\n      <td>0      0.011\n1      0.011\n2      0.005\n3      ...</td>\n      <td>0      0.470\n1      0.470\n2      0.470\n3      ...</td>\n      <td>0      0.065\n1      0.076\n2      0.087\n3      ...</td>\n      <td>0     -0.310\n1     -0.309\n2     -0.311\n3     -...</td>\n      <td>0     -0.010\n1     -0.010\n2     -0.013\n3     -...</td>\n      <td>0      0.070\n1      0.070\n2      0.066\n3      ...</td>\n      <td>0     -0.020\n1     -0.019\n2     -0.015\n3     -...</td>\n    </tr>\n    <tr>\n      <th>999</th>\n      <td>0     -0.145\n1     -0.145\n2     -0.145\n3     -...</td>\n      <td>0     -0.065\n1     -0.064\n2     -0.060\n3     -...</td>\n      <td>0      0.080\n1      0.081\n2      0.085\n3      ...</td>\n      <td>0      0.105\n1      0.104\n2      0.102\n3      ...</td>\n      <td>0     -0.112\n1     -0.113\n2     -0.115\n3     -...</td>\n      <td>0      0.007\n1      0.008\n2      0.012\n3      ...</td>\n      <td>0      0.050\n1      0.050\n2      0.050\n3      ...</td>\n      <td>0      0.040\n1      0.040\n2      0.040\n3      ...</td>\n      <td>0      0.000\n1      0.000\n2      0.000\n3      ...</td>\n      <td>0     -0.010\n1     -0.010\n2     -0.010\n3     -...</td>\n      <td>0     -0.050\n1     -0.050\n2     -0.050\n3     -...</td>\n      <td>0     -0.070\n1     -0.070\n2     -0.070\n3     -...</td>\n    </tr>\n  </tbody>\n</table>\n<p>1000 rows × 12 columns</p>\n</div>"
     },
     "execution_count": 211,
     "metadata": {},
     "output_type": "execute_result"
    }
   ],
   "source": [
    "X_train = represent(X_train).head(ECG_COUNT)\n",
    "X_train"
   ],
   "metadata": {
    "collapsed": false,
    "pycharm": {
     "name": "#%%\n"
    }
   }
  },
  {
   "cell_type": "code",
   "execution_count": 212,
   "outputs": [
    {
     "name": "stdout",
     "output_type": "stream",
     "text": [
      "12\n"
     ]
    },
    {
     "data": {
      "text/plain": "                                             feature 1  \\\n0    0     -0.145\n1     -0.115\n2     -0.064\n3     -...   \n1    0      0.026\n1      0.016\n2     -0.058\n3     -...   \n2    0     -0.012\n1      0.004\n2      0.007\n3      ...   \n3    0     -0.155\n1     -0.164\n2     -0.167\n3     -...   \n4    0      0.001\n1     -0.010\n2     -0.009\n3      ...   \n..                                                 ...   \n995  0      0.124\n1      0.015\n2     -0.063\n3     -...   \n996  0     -0.065\n1     -0.076\n2     -0.089\n3     -...   \n997  0     -0.019\n1     -0.006\n2     -0.005\n3     -...   \n998  0     -0.050\n1     -0.044\n2     -0.035\n3     -...   \n999  0     -0.045\n1     -0.042\n2     -0.026\n3     -...   \n\n                                             feature 2  \\\n0    0     -0.097\n1     -0.083\n2     -0.060\n3     -...   \n1    0     -0.073\n1     -0.078\n2     -0.103\n3     -...   \n2    0     -0.140\n1     -0.138\n2     -0.132\n3     -...   \n3    0     -0.050\n1     -0.048\n2     -0.043\n3     -...   \n4    0     -0.068\n1     -0.081\n2     -0.062\n3     -...   \n..                                                 ...   \n995  0     -0.005\n1     -0.060\n2     -0.086\n3     -...   \n996  0     -0.025\n1     -0.040\n2     -0.060\n3     -...   \n997  0     -0.099\n1     -0.083\n2     -0.074\n3     -...   \n998  0     -0.035\n1     -0.027\n2     -0.013\n3     -...   \n999  0     -0.025\n1     -0.026\n2     -0.016\n3     -...   \n\n                                             feature 3  \\\n0    0      0.049\n1      0.032\n2      0.005\n3     -...   \n1    0     -0.100\n1     -0.094\n2     -0.046\n3     -...   \n2    0     -0.128\n1     -0.142\n2     -0.139\n3     -...   \n3    0      0.105\n1      0.117\n2      0.124\n3      ...   \n4    0     -0.069\n1     -0.071\n2     -0.053\n3     -...   \n..                                                 ...   \n995  0     -0.129\n1     -0.075\n2     -0.022\n3     -...   \n996  0      0.040\n1      0.036\n2      0.029\n3      ...   \n997  0     -0.080\n1     -0.077\n2     -0.069\n3     -...   \n998  0      0.015\n1      0.017\n2      0.022\n3      ...   \n999  0      0.020\n1      0.016\n2      0.010\n3      ...   \n\n                                             feature 4  \\\n0    0      0.121\n1      0.099\n2      0.062\n3      ...   \n1    0      0.024\n1      0.031\n2      0.081\n3      ...   \n2    0      0.077\n1      0.067\n2      0.063\n3      ...   \n3    0      0.102\n1      0.106\n2      0.105\n3      ...   \n4    0      0.034\n1      0.046\n2      0.036\n3      ...   \n..                                                 ...   \n995  0     -0.059\n1      0.023\n2      0.075\n3      ...   \n996  0      0.045\n1      0.058\n2      0.074\n3      ...   \n997  0      0.059\n1      0.045\n2      0.040\n3      ...   \n998  0      0.042\n1      0.035\n2      0.024\n3      ...   \n999  0      0.035\n1      0.034\n2      0.021\n3      ...   \n\n                                             feature 5  \\\n0    0     -0.096\n1     -0.073\n2     -0.034\n3     -...   \n1    0      0.063\n1      0.056\n2     -0.006\n3      ...   \n2    0      0.058\n1      0.073\n2      0.073\n3      ...   \n3    0     -0.130\n1     -0.140\n2     -0.145\n3     -...   \n4    0      0.036\n1      0.031\n2      0.023\n3      ...   \n..                                                 ...   \n995  0      0.127\n1      0.045\n2     -0.020\n3     -...   \n996  0     -0.052\n1     -0.056\n2     -0.059\n3     -...   \n997  0      0.030\n1      0.036\n2      0.032\n3      ...   \n998  0     -0.032\n1     -0.030\n2     -0.028\n3     -...   \n999  0     -0.032\n1     -0.029\n2     -0.018\n3     -...   \n\n                                             feature 6  \\\n0    0     -0.024\n1     -0.025\n2     -0.027\n3     -...   \n1    0     -0.086\n1     -0.086\n2     -0.074\n3     -...   \n2    0     -0.133\n1     -0.139\n2     -0.135\n3     -...   \n3    0      0.027\n1      0.034\n2      0.040\n3      ...   \n4    0     -0.069\n1     -0.076\n2     -0.057\n3     -...   \n..                                                 ...   \n995  0     -0.067\n1     -0.068\n2     -0.054\n3     -...   \n996  0      0.007\n1     -0.002\n2     -0.015\n3     -...   \n997  0     -0.089\n1     -0.079\n2     -0.071\n3     -...   \n998  0     -0.010\n1     -0.005\n2      0.004\n3      ...   \n999  0     -0.002\n1     -0.005\n2     -0.003\n3     -...   \n\n                                             feature 7  \\\n0    0     -0.579\n1     -0.369\n2     -0.088\n3     -...   \n1    0      0.154\n1      0.147\n2      0.139\n3      ...   \n2    0      0.100\n1      0.098\n2      0.092\n3      ...   \n3    0     -0.145\n1     -0.145\n2     -0.142\n3     -...   \n4    0      0.040\n1      0.053\n2      0.074\n3      ...   \n..                                                 ...   \n995  0     -0.367\n1     -0.227\n2     -0.008\n3      ...   \n996  0      0.005\n1      0.005\n2      0.005\n3      ...   \n997  0      0.051\n1      0.057\n2      0.053\n3      ...   \n998  0      0.070\n1      0.070\n2      0.070\n3      ...   \n999  0     -0.033\n1     -0.047\n2     -0.044\n3     -...   \n\n                                             feature 8  \\\n0    0     -0.818\n1     -0.523\n2     -0.147\n3     -...   \n1    0      0.175\n1      0.175\n2      0.171\n3      ...   \n2    0      0.069\n1      0.071\n2      0.081\n3      ...   \n3    0      0.045\n1      0.045\n2      0.045\n3      ...   \n4    0      0.145\n1      0.159\n2      0.181\n3      ...   \n..                                                 ...   \n995  0     -0.592\n1     -0.430\n2     -0.133\n3     -...   \n996  0     -0.085\n1     -0.085\n2     -0.085\n3     -...   \n997  0     -0.030\n1     -0.030\n2     -0.030\n3     -...   \n998  0      0.293\n1      0.267\n2      0.213\n3      ...   \n999  0     -0.020\n1     -0.019\n2     -0.014\n3     -...   \n\n                                             feature 9  \\\n0    0     -0.647\n1     -0.454\n2     -0.196\n3     -...   \n1    0      0.946\n1      0.959\n2      0.976\n3      ...   \n2    0      0.055\n1      0.055\n2      0.055\n3      ...   \n3    0      0.025\n1      0.025\n2      0.026\n3      ...   \n4    0      0.017\n1      0.027\n2      0.040\n3      ...   \n..                                                 ...   \n995  0     -0.416\n1     -0.354\n2     -0.175\n3     -...   \n996  0     -0.105\n1     -0.105\n2     -0.105\n3     -...   \n997  0      0.081\n1      0.102\n2      0.124\n3      ...   \n998  0      0.530\n1      0.525\n2      0.513\n3      ...   \n999  0     -0.025\n1     -0.025\n2     -0.024\n3     -...   \n\n                                            feature 10  \\\n0    0     -0.452\n1     -0.339\n2     -0.188\n3     -...   \n1    0      0.095\n1      0.092\n2      0.089\n3      ...   \n2    0      0.070\n1      0.070\n2      0.070\n3      ...   \n3    0      0.015\n1      0.015\n2      0.021\n3      ...   \n4    0     -0.089\n1     -0.072\n2     -0.048\n3     -...   \n..                                                 ...   \n995  0     -0.303\n1     -0.327\n2     -0.231\n3     -...   \n996  0     -0.089\n1     -0.088\n2     -0.083\n3     -...   \n997  0     -0.010\n1     -0.009\n2     -0.005\n3     -...   \n998  0      0.147\n1      0.113\n2      0.069\n3      ...   \n999  0     -0.079\n1     -0.075\n2     -0.075\n3     -...   \n\n                                            feature 11  \\\n0    0     -0.269\n1     -0.246\n2     -0.199\n3     -...   \n1    0      0.050\n1      0.050\n2      0.050\n3      ...   \n2    0     -0.030\n1     -0.029\n2     -0.025\n3     -...   \n3    0      0.130\n1      0.130\n2      0.130\n3      ...   \n4    0     -0.015\n1     -0.013\n2     -0.007\n3     -...   \n..                                                 ...   \n995  0      0.016\n1     -0.077\n2     -0.111\n3     -...   \n996  0     -0.095\n1     -0.095\n2     -0.095\n3     -...   \n997  0     -0.045\n1     -0.045\n2     -0.042\n3     -...   \n998  0     -0.008\n1      0.009\n2      0.027\n3      ...   \n999  0     -0.065\n1     -0.065\n2     -0.061\n3     -...   \n\n                                            feature 12  \n0    0     -0.032\n1     -0.041\n2     -0.040\n3     -...  \n1    0      0.045\n1      0.045\n2      0.045\n3      ...  \n2    0     -0.075\n1     -0.074\n2     -0.070\n3     -...  \n3    0     -0.005\n1     -0.005\n2     -0.008\n3     -...  \n4    0      0.050\n1      0.058\n2      0.065\n3      ...  \n..                                                 ...  \n995  0      0.179\n1      0.061\n2     -0.061\n3     -...  \n996  0     -0.135\n1     -0.135\n2     -0.141\n3     -...  \n997  0     -0.045\n1     -0.044\n2     -0.040\n3     -...  \n998  0      0.119\n1      0.113\n2      0.104\n3      ...  \n999  0     -0.030\n1     -0.027\n2     -0.021\n3     -...  \n\n[1000 rows x 12 columns]",
      "text/html": "<div>\n<style scoped>\n    .dataframe tbody tr th:only-of-type {\n        vertical-align: middle;\n    }\n\n    .dataframe tbody tr th {\n        vertical-align: top;\n    }\n\n    .dataframe thead th {\n        text-align: right;\n    }\n</style>\n<table border=\"1\" class=\"dataframe\">\n  <thead>\n    <tr style=\"text-align: right;\">\n      <th></th>\n      <th>feature 1</th>\n      <th>feature 2</th>\n      <th>feature 3</th>\n      <th>feature 4</th>\n      <th>feature 5</th>\n      <th>feature 6</th>\n      <th>feature 7</th>\n      <th>feature 8</th>\n      <th>feature 9</th>\n      <th>feature 10</th>\n      <th>feature 11</th>\n      <th>feature 12</th>\n    </tr>\n  </thead>\n  <tbody>\n    <tr>\n      <th>0</th>\n      <td>0     -0.145\n1     -0.115\n2     -0.064\n3     -...</td>\n      <td>0     -0.097\n1     -0.083\n2     -0.060\n3     -...</td>\n      <td>0      0.049\n1      0.032\n2      0.005\n3     -...</td>\n      <td>0      0.121\n1      0.099\n2      0.062\n3      ...</td>\n      <td>0     -0.096\n1     -0.073\n2     -0.034\n3     -...</td>\n      <td>0     -0.024\n1     -0.025\n2     -0.027\n3     -...</td>\n      <td>0     -0.579\n1     -0.369\n2     -0.088\n3     -...</td>\n      <td>0     -0.818\n1     -0.523\n2     -0.147\n3     -...</td>\n      <td>0     -0.647\n1     -0.454\n2     -0.196\n3     -...</td>\n      <td>0     -0.452\n1     -0.339\n2     -0.188\n3     -...</td>\n      <td>0     -0.269\n1     -0.246\n2     -0.199\n3     -...</td>\n      <td>0     -0.032\n1     -0.041\n2     -0.040\n3     -...</td>\n    </tr>\n    <tr>\n      <th>1</th>\n      <td>0      0.026\n1      0.016\n2     -0.058\n3     -...</td>\n      <td>0     -0.073\n1     -0.078\n2     -0.103\n3     -...</td>\n      <td>0     -0.100\n1     -0.094\n2     -0.046\n3     -...</td>\n      <td>0      0.024\n1      0.031\n2      0.081\n3      ...</td>\n      <td>0      0.063\n1      0.056\n2     -0.006\n3      ...</td>\n      <td>0     -0.086\n1     -0.086\n2     -0.074\n3     -...</td>\n      <td>0      0.154\n1      0.147\n2      0.139\n3      ...</td>\n      <td>0      0.175\n1      0.175\n2      0.171\n3      ...</td>\n      <td>0      0.946\n1      0.959\n2      0.976\n3      ...</td>\n      <td>0      0.095\n1      0.092\n2      0.089\n3      ...</td>\n      <td>0      0.050\n1      0.050\n2      0.050\n3      ...</td>\n      <td>0      0.045\n1      0.045\n2      0.045\n3      ...</td>\n    </tr>\n    <tr>\n      <th>2</th>\n      <td>0     -0.012\n1      0.004\n2      0.007\n3      ...</td>\n      <td>0     -0.140\n1     -0.138\n2     -0.132\n3     -...</td>\n      <td>0     -0.128\n1     -0.142\n2     -0.139\n3     -...</td>\n      <td>0      0.077\n1      0.067\n2      0.063\n3      ...</td>\n      <td>0      0.058\n1      0.073\n2      0.073\n3      ...</td>\n      <td>0     -0.133\n1     -0.139\n2     -0.135\n3     -...</td>\n      <td>0      0.100\n1      0.098\n2      0.092\n3      ...</td>\n      <td>0      0.069\n1      0.071\n2      0.081\n3      ...</td>\n      <td>0      0.055\n1      0.055\n2      0.055\n3      ...</td>\n      <td>0      0.070\n1      0.070\n2      0.070\n3      ...</td>\n      <td>0     -0.030\n1     -0.029\n2     -0.025\n3     -...</td>\n      <td>0     -0.075\n1     -0.074\n2     -0.070\n3     -...</td>\n    </tr>\n    <tr>\n      <th>3</th>\n      <td>0     -0.155\n1     -0.164\n2     -0.167\n3     -...</td>\n      <td>0     -0.050\n1     -0.048\n2     -0.043\n3     -...</td>\n      <td>0      0.105\n1      0.117\n2      0.124\n3      ...</td>\n      <td>0      0.102\n1      0.106\n2      0.105\n3      ...</td>\n      <td>0     -0.130\n1     -0.140\n2     -0.145\n3     -...</td>\n      <td>0      0.027\n1      0.034\n2      0.040\n3      ...</td>\n      <td>0     -0.145\n1     -0.145\n2     -0.142\n3     -...</td>\n      <td>0      0.045\n1      0.045\n2      0.045\n3      ...</td>\n      <td>0      0.025\n1      0.025\n2      0.026\n3      ...</td>\n      <td>0      0.015\n1      0.015\n2      0.021\n3      ...</td>\n      <td>0      0.130\n1      0.130\n2      0.130\n3      ...</td>\n      <td>0     -0.005\n1     -0.005\n2     -0.008\n3     -...</td>\n    </tr>\n    <tr>\n      <th>4</th>\n      <td>0      0.001\n1     -0.010\n2     -0.009\n3      ...</td>\n      <td>0     -0.068\n1     -0.081\n2     -0.062\n3     -...</td>\n      <td>0     -0.069\n1     -0.071\n2     -0.053\n3     -...</td>\n      <td>0      0.034\n1      0.046\n2      0.036\n3      ...</td>\n      <td>0      0.036\n1      0.031\n2      0.023\n3      ...</td>\n      <td>0     -0.069\n1     -0.076\n2     -0.057\n3     -...</td>\n      <td>0      0.040\n1      0.053\n2      0.074\n3      ...</td>\n      <td>0      0.145\n1      0.159\n2      0.181\n3      ...</td>\n      <td>0      0.017\n1      0.027\n2      0.040\n3      ...</td>\n      <td>0     -0.089\n1     -0.072\n2     -0.048\n3     -...</td>\n      <td>0     -0.015\n1     -0.013\n2     -0.007\n3     -...</td>\n      <td>0      0.050\n1      0.058\n2      0.065\n3      ...</td>\n    </tr>\n    <tr>\n      <th>...</th>\n      <td>...</td>\n      <td>...</td>\n      <td>...</td>\n      <td>...</td>\n      <td>...</td>\n      <td>...</td>\n      <td>...</td>\n      <td>...</td>\n      <td>...</td>\n      <td>...</td>\n      <td>...</td>\n      <td>...</td>\n    </tr>\n    <tr>\n      <th>995</th>\n      <td>0      0.124\n1      0.015\n2     -0.063\n3     -...</td>\n      <td>0     -0.005\n1     -0.060\n2     -0.086\n3     -...</td>\n      <td>0     -0.129\n1     -0.075\n2     -0.022\n3     -...</td>\n      <td>0     -0.059\n1      0.023\n2      0.075\n3      ...</td>\n      <td>0      0.127\n1      0.045\n2     -0.020\n3     -...</td>\n      <td>0     -0.067\n1     -0.068\n2     -0.054\n3     -...</td>\n      <td>0     -0.367\n1     -0.227\n2     -0.008\n3      ...</td>\n      <td>0     -0.592\n1     -0.430\n2     -0.133\n3     -...</td>\n      <td>0     -0.416\n1     -0.354\n2     -0.175\n3     -...</td>\n      <td>0     -0.303\n1     -0.327\n2     -0.231\n3     -...</td>\n      <td>0      0.016\n1     -0.077\n2     -0.111\n3     -...</td>\n      <td>0      0.179\n1      0.061\n2     -0.061\n3     -...</td>\n    </tr>\n    <tr>\n      <th>996</th>\n      <td>0     -0.065\n1     -0.076\n2     -0.089\n3     -...</td>\n      <td>0     -0.025\n1     -0.040\n2     -0.060\n3     -...</td>\n      <td>0      0.040\n1      0.036\n2      0.029\n3      ...</td>\n      <td>0      0.045\n1      0.058\n2      0.074\n3      ...</td>\n      <td>0     -0.052\n1     -0.056\n2     -0.059\n3     -...</td>\n      <td>0      0.007\n1     -0.002\n2     -0.015\n3     -...</td>\n      <td>0      0.005\n1      0.005\n2      0.005\n3      ...</td>\n      <td>0     -0.085\n1     -0.085\n2     -0.085\n3     -...</td>\n      <td>0     -0.105\n1     -0.105\n2     -0.105\n3     -...</td>\n      <td>0     -0.089\n1     -0.088\n2     -0.083\n3     -...</td>\n      <td>0     -0.095\n1     -0.095\n2     -0.095\n3     -...</td>\n      <td>0     -0.135\n1     -0.135\n2     -0.141\n3     -...</td>\n    </tr>\n    <tr>\n      <th>997</th>\n      <td>0     -0.019\n1     -0.006\n2     -0.005\n3     -...</td>\n      <td>0     -0.099\n1     -0.083\n2     -0.074\n3     -...</td>\n      <td>0     -0.080\n1     -0.077\n2     -0.069\n3     -...</td>\n      <td>0      0.059\n1      0.045\n2      0.040\n3      ...</td>\n      <td>0      0.030\n1      0.036\n2      0.032\n3      ...</td>\n      <td>0     -0.089\n1     -0.079\n2     -0.071\n3     -...</td>\n      <td>0      0.051\n1      0.057\n2      0.053\n3      ...</td>\n      <td>0     -0.030\n1     -0.030\n2     -0.030\n3     -...</td>\n      <td>0      0.081\n1      0.102\n2      0.124\n3      ...</td>\n      <td>0     -0.010\n1     -0.009\n2     -0.005\n3     -...</td>\n      <td>0     -0.045\n1     -0.045\n2     -0.042\n3     -...</td>\n      <td>0     -0.045\n1     -0.044\n2     -0.040\n3     -...</td>\n    </tr>\n    <tr>\n      <th>998</th>\n      <td>0     -0.050\n1     -0.044\n2     -0.035\n3     -...</td>\n      <td>0     -0.035\n1     -0.027\n2     -0.013\n3     -...</td>\n      <td>0      0.015\n1      0.017\n2      0.022\n3      ...</td>\n      <td>0      0.042\n1      0.035\n2      0.024\n3      ...</td>\n      <td>0     -0.032\n1     -0.030\n2     -0.028\n3     -...</td>\n      <td>0     -0.010\n1     -0.005\n2      0.004\n3      ...</td>\n      <td>0      0.070\n1      0.070\n2      0.070\n3      ...</td>\n      <td>0      0.293\n1      0.267\n2      0.213\n3      ...</td>\n      <td>0      0.530\n1      0.525\n2      0.513\n3      ...</td>\n      <td>0      0.147\n1      0.113\n2      0.069\n3      ...</td>\n      <td>0     -0.008\n1      0.009\n2      0.027\n3      ...</td>\n      <td>0      0.119\n1      0.113\n2      0.104\n3      ...</td>\n    </tr>\n    <tr>\n      <th>999</th>\n      <td>0     -0.045\n1     -0.042\n2     -0.026\n3     -...</td>\n      <td>0     -0.025\n1     -0.026\n2     -0.016\n3     -...</td>\n      <td>0      0.020\n1      0.016\n2      0.010\n3      ...</td>\n      <td>0      0.035\n1      0.034\n2      0.021\n3      ...</td>\n      <td>0     -0.032\n1     -0.029\n2     -0.018\n3     -...</td>\n      <td>0     -0.002\n1     -0.005\n2     -0.003\n3     -...</td>\n      <td>0     -0.033\n1     -0.047\n2     -0.044\n3     -...</td>\n      <td>0     -0.020\n1     -0.019\n2     -0.014\n3     -...</td>\n      <td>0     -0.025\n1     -0.025\n2     -0.024\n3     -...</td>\n      <td>0     -0.079\n1     -0.075\n2     -0.075\n3     -...</td>\n      <td>0     -0.065\n1     -0.065\n2     -0.061\n3     -...</td>\n      <td>0     -0.030\n1     -0.027\n2     -0.021\n3     -...</td>\n    </tr>\n  </tbody>\n</table>\n<p>1000 rows × 12 columns</p>\n</div>"
     },
     "execution_count": 212,
     "metadata": {},
     "output_type": "execute_result"
    }
   ],
   "source": [
    "X_test = represent(X_test).head(ECG_COUNT)\n",
    "X_test"
   ],
   "metadata": {
    "collapsed": false,
    "pycharm": {
     "name": "#%%\n"
    }
   }
  },
  {
   "cell_type": "code",
   "execution_count": 213,
   "outputs": [
    {
     "data": {
      "text/plain": "ecg_id\n1       0.0\n2       0.0\n3       0.0\n4       0.0\n5       0.0\n       ... \n2036    0.0\n2037    0.0\n2038    0.0\n2040    0.0\n2041    0.0\nName: is_MI, Length: 1000, dtype: float64"
     },
     "execution_count": 213,
     "metadata": {},
     "output_type": "execute_result"
    }
   ],
   "source": [
    "y_train = y_train.head(ECG_COUNT)\n",
    "y_train"
   ],
   "metadata": {
    "collapsed": false,
    "pycharm": {
     "name": "#%%\n"
    }
   }
  },
  {
   "cell_type": "code",
   "execution_count": 214,
   "outputs": [
    {
     "data": {
      "text/plain": "ecg_id\n9        0.0\n38       0.0\n40       0.0\n57       0.0\n59       0.0\n        ... \n17608    0.0\n17621    0.0\n17623    0.0\n17641    0.0\n17661    0.0\nName: is_MI, Length: 1000, dtype: float64"
     },
     "execution_count": 214,
     "metadata": {},
     "output_type": "execute_result"
    }
   ],
   "source": [
    "y_test = y_test.head(ECG_COUNT)\n",
    "y_test"
   ],
   "metadata": {
    "collapsed": false,
    "pycharm": {
     "name": "#%%\n"
    }
   }
  },
  {
   "cell_type": "code",
   "execution_count": 217,
   "outputs": [
    {
     "data": {
      "text/plain": "Pipeline(steps=[('concatenate', ColumnConcatenator()),\n                ('classify', TimeSeriesForestClassifier(n_estimators=100))])",
      "text/html": "<style>#sk-container-id-4 {color: black;background-color: white;}#sk-container-id-4 pre{padding: 0;}#sk-container-id-4 div.sk-toggleable {background-color: white;}#sk-container-id-4 label.sk-toggleable__label {cursor: pointer;display: block;width: 100%;margin-bottom: 0;padding: 0.3em;box-sizing: border-box;text-align: center;}#sk-container-id-4 label.sk-toggleable__label-arrow:before {content: \"▸\";float: left;margin-right: 0.25em;color: #696969;}#sk-container-id-4 label.sk-toggleable__label-arrow:hover:before {color: black;}#sk-container-id-4 div.sk-estimator:hover label.sk-toggleable__label-arrow:before {color: black;}#sk-container-id-4 div.sk-toggleable__content {max-height: 0;max-width: 0;overflow: hidden;text-align: left;background-color: #f0f8ff;}#sk-container-id-4 div.sk-toggleable__content pre {margin: 0.2em;color: black;border-radius: 0.25em;background-color: #f0f8ff;}#sk-container-id-4 input.sk-toggleable__control:checked~div.sk-toggleable__content {max-height: 200px;max-width: 100%;overflow: auto;}#sk-container-id-4 input.sk-toggleable__control:checked~label.sk-toggleable__label-arrow:before {content: \"▾\";}#sk-container-id-4 div.sk-estimator input.sk-toggleable__control:checked~label.sk-toggleable__label {background-color: #d4ebff;}#sk-container-id-4 div.sk-label input.sk-toggleable__control:checked~label.sk-toggleable__label {background-color: #d4ebff;}#sk-container-id-4 input.sk-hidden--visually {border: 0;clip: rect(1px 1px 1px 1px);clip: rect(1px, 1px, 1px, 1px);height: 1px;margin: -1px;overflow: hidden;padding: 0;position: absolute;width: 1px;}#sk-container-id-4 div.sk-estimator {font-family: monospace;background-color: #f0f8ff;border: 1px dotted black;border-radius: 0.25em;box-sizing: border-box;margin-bottom: 0.5em;}#sk-container-id-4 div.sk-estimator:hover {background-color: #d4ebff;}#sk-container-id-4 div.sk-parallel-item::after {content: \"\";width: 100%;border-bottom: 1px solid gray;flex-grow: 1;}#sk-container-id-4 div.sk-label:hover label.sk-toggleable__label {background-color: #d4ebff;}#sk-container-id-4 div.sk-serial::before {content: \"\";position: absolute;border-left: 1px solid gray;box-sizing: border-box;top: 0;bottom: 0;left: 50%;z-index: 0;}#sk-container-id-4 div.sk-serial {display: flex;flex-direction: column;align-items: center;background-color: white;padding-right: 0.2em;padding-left: 0.2em;position: relative;}#sk-container-id-4 div.sk-item {position: relative;z-index: 1;}#sk-container-id-4 div.sk-parallel {display: flex;align-items: stretch;justify-content: center;background-color: white;position: relative;}#sk-container-id-4 div.sk-item::before, #sk-container-id-4 div.sk-parallel-item::before {content: \"\";position: absolute;border-left: 1px solid gray;box-sizing: border-box;top: 0;bottom: 0;left: 50%;z-index: -1;}#sk-container-id-4 div.sk-parallel-item {display: flex;flex-direction: column;z-index: 1;position: relative;background-color: white;}#sk-container-id-4 div.sk-parallel-item:first-child::after {align-self: flex-end;width: 50%;}#sk-container-id-4 div.sk-parallel-item:last-child::after {align-self: flex-start;width: 50%;}#sk-container-id-4 div.sk-parallel-item:only-child::after {width: 0;}#sk-container-id-4 div.sk-dashed-wrapped {border: 1px dashed gray;margin: 0 0.4em 0.5em 0.4em;box-sizing: border-box;padding-bottom: 0.4em;background-color: white;}#sk-container-id-4 div.sk-label label {font-family: monospace;font-weight: bold;display: inline-block;line-height: 1.2em;}#sk-container-id-4 div.sk-label-container {text-align: center;}#sk-container-id-4 div.sk-container {/* jupyter's `normalize.less` sets `[hidden] { display: none; }` but bootstrap.min.css set `[hidden] { display: none !important; }` so we also need the `!important` here to be able to override the default hidden behavior on the sphinx rendered scikit-learn.org. See: https://github.com/scikit-learn/scikit-learn/issues/21755 */display: inline-block !important;position: relative;}#sk-container-id-4 div.sk-text-repr-fallback {display: none;}</style><div id=\"sk-container-id-4\" class=\"sk-top-container\"><div class=\"sk-text-repr-fallback\"><pre>Pipeline(steps=[(&#x27;concatenate&#x27;, ColumnConcatenator()),\n                (&#x27;classify&#x27;, TimeSeriesForestClassifier(n_estimators=100))])</pre><b>In a Jupyter environment, please rerun this cell to show the HTML representation or trust the notebook. <br />On GitHub, the HTML representation is unable to render, please try loading this page with nbviewer.org.</b></div><div class=\"sk-container\" hidden><div class=\"sk-item sk-dashed-wrapped\"><div class=\"sk-label-container\"><div class=\"sk-label sk-toggleable\"><input class=\"sk-toggleable__control sk-hidden--visually\" id=\"sk-estimator-id-4\" type=\"checkbox\" ><label for=\"sk-estimator-id-4\" class=\"sk-toggleable__label sk-toggleable__label-arrow\">Pipeline</label><div class=\"sk-toggleable__content\"><pre>Pipeline(steps=[(&#x27;concatenate&#x27;, ColumnConcatenator()),\n                (&#x27;classify&#x27;, TimeSeriesForestClassifier(n_estimators=100))])</pre></div></div></div><div class=\"sk-serial\"><div class=\"sk-item\"><div class=\"sk-estimator sk-toggleable\"><input class=\"sk-toggleable__control sk-hidden--visually\" id=\"sk-estimator-id-5\" type=\"checkbox\" ><label for=\"sk-estimator-id-5\" class=\"sk-toggleable__label sk-toggleable__label-arrow\">ColumnConcatenator</label><div class=\"sk-toggleable__content\"><pre>ColumnConcatenator()</pre></div></div></div><div class=\"sk-item\"><div class=\"sk-estimator sk-toggleable\"><input class=\"sk-toggleable__control sk-hidden--visually\" id=\"sk-estimator-id-6\" type=\"checkbox\" ><label for=\"sk-estimator-id-6\" class=\"sk-toggleable__label sk-toggleable__label-arrow\">TimeSeriesForestClassifier</label><div class=\"sk-toggleable__content\"><pre>TimeSeriesForestClassifier(n_estimators=100)</pre></div></div></div></div></div></div></div>"
     },
     "execution_count": 217,
     "metadata": {},
     "output_type": "execute_result"
    }
   ],
   "source": [
    "steps = [\n",
    "    (\"concatenate\", ColumnConcatenator()),\n",
    "    (\"classify\", TimeSeriesForestClassifier(n_estimators=100)),\n",
    "]\n",
    "clf = Pipeline(steps)\n",
    "clf.fit(X_train, y_train)"
   ],
   "metadata": {
    "collapsed": false,
    "pycharm": {
     "name": "#%%\n"
    }
   }
  },
  {
   "cell_type": "markdown",
   "source": [
    "# Pred test"
   ],
   "metadata": {
    "collapsed": false,
    "pycharm": {
     "name": "#%% md\n"
    }
   }
  },
  {
   "cell_type": "code",
   "execution_count": 218,
   "outputs": [
    {
     "data": {
      "text/plain": "array([0.82, 0.94, 0.92, 0.95, 0.95, 0.79, 0.91, 0.93, 0.88, 0.95, 0.83,\n       0.9 , 0.95, 0.88, 0.96, 0.96, 0.74, 0.92, 0.87, 0.86, 0.94, 0.9 ,\n       0.95, 0.89, 0.76, 0.93, 0.91, 0.91, 0.97, 0.96, 0.94, 0.9 , 0.89,\n       0.84, 0.95, 0.89, 0.92, 0.9 , 0.88, 0.8 , 0.87, 0.92, 0.88, 0.78,\n       0.77, 0.88, 0.74, 0.9 , 0.88, 0.86, 0.78, 0.98, 0.94, 0.91, 0.85,\n       0.86, 0.68, 0.76, 0.9 , 0.92, 0.86, 0.93, 0.94, 0.89, 0.83, 0.92,\n       0.84, 0.86, 0.76, 0.95, 0.91, 0.95, 0.96, 0.88, 0.95, 0.93, 0.84,\n       0.9 , 0.92, 0.93, 0.86, 0.97, 0.97, 0.93, 0.89, 0.92, 0.9 , 0.59,\n       0.96, 0.83, 0.96, 0.94, 0.95, 0.98, 0.93, 0.88, 0.8 , 0.92, 0.95,\n       0.88, 0.82, 0.96, 0.97, 0.88, 0.82, 0.89, 0.92, 0.81, 0.65, 0.65,\n       0.97, 0.37, 0.96, 0.98, 0.88, 0.95, 0.97, 0.73, 0.95, 0.94, 0.98,\n       0.92, 0.91, 0.81, 0.74, 0.82, 0.94, 0.86, 0.96, 0.81, 0.95, 0.97,\n       0.86, 0.72, 0.9 , 0.91, 0.98, 0.96, 0.98, 0.89, 0.84, 0.95, 0.89,\n       0.8 , 0.96, 0.93, 0.86, 0.92, 0.9 , 0.94, 0.77, 0.78, 0.91, 0.96,\n       0.97, 0.91, 0.69, 0.93, 0.96, 0.84, 0.97, 0.75, 0.95, 0.87, 0.82,\n       0.93, 0.97, 0.83, 0.95, 0.93, 0.92, 0.9 , 0.74, 0.79, 0.94, 0.87,\n       0.86, 0.77, 0.83, 0.95, 0.92, 0.92, 0.97, 0.97, 0.92, 0.96, 0.89,\n       0.87, 0.9 , 0.92, 0.96, 0.88, 0.92, 0.96, 0.94, 0.85, 0.85, 0.88,\n       0.85, 0.72, 0.95, 0.9 , 0.92, 0.98, 0.9 , 0.86, 0.88, 0.86, 0.81,\n       0.79, 0.77, 0.91, 0.92, 0.97, 0.93, 0.87, 0.9 , 0.88, 0.93, 0.87,\n       0.9 , 0.88, 0.89, 0.98, 0.97, 0.98, 0.96, 0.95, 0.92, 0.91, 0.94,\n       0.93, 0.89, 0.93, 0.78, 0.81, 0.96, 0.91, 0.89, 0.97, 0.84, 0.96,\n       0.82, 0.94, 0.85, 0.84, 0.86, 0.95, 0.92, 0.92, 0.9 , 0.83, 0.9 ,\n       0.89, 0.97, 0.85, 0.99, 0.97, 0.84, 0.88, 0.93, 0.93, 0.9 , 0.94,\n       0.94, 0.95, 0.93, 0.91, 0.96, 0.88, 0.91, 0.87, 0.92, 0.78, 0.87,\n       0.89, 0.88, 0.93, 0.92, 0.84, 0.88, 0.87, 0.93, 0.84, 0.81, 0.89,\n       0.78, 0.89, 0.96, 0.92, 0.93, 0.9 , 0.89, 0.98, 0.68, 0.98, 0.78,\n       0.9 , 0.94, 0.9 , 0.92, 0.85, 0.87, 0.88, 0.83, 0.88, 0.81, 0.9 ,\n       0.85, 0.82, 0.83, 0.95, 0.92, 0.9 , 0.87, 0.91, 0.97, 0.92, 0.89,\n       0.96, 0.91, 0.89, 0.94, 0.92, 0.88, 0.73, 0.92, 0.9 , 0.86, 0.86,\n       0.82, 0.96, 0.83, 0.9 , 0.75, 0.71, 0.95, 0.96, 0.9 , 0.95, 0.97,\n       0.93, 0.84, 0.47, 0.96, 0.85, 0.94, 0.93, 0.86, 0.82, 0.95, 0.88,\n       0.88, 0.85, 0.84, 0.91, 0.97, 0.96, 0.44, 0.96, 0.87, 0.91, 0.91,\n       0.83, 0.89, 0.87, 0.83, 0.92, 0.93, 0.79, 0.92, 0.87, 0.94, 0.74,\n       0.9 , 0.95, 0.9 , 0.65, 0.89, 0.98, 0.83, 0.82, 0.96, 0.87, 0.8 ,\n       0.94, 0.93, 0.84, 0.9 , 0.8 , 0.82, 0.91, 0.98, 0.95, 0.93, 0.87,\n       0.94, 0.98, 0.89, 0.88, 0.87, 0.78, 0.9 , 0.86, 0.72, 0.98, 0.88,\n       0.88, 0.92, 0.87, 0.93, 0.95, 0.84, 0.91, 0.95, 0.93, 0.96, 0.96,\n       0.86, 0.88, 0.99, 0.93, 0.68, 0.95, 0.71, 0.97, 0.87, 0.96, 0.88,\n       0.69, 0.98, 0.91, 0.93, 0.81, 0.9 , 0.94, 0.99, 0.85, 0.9 , 0.92,\n       0.91, 0.94, 0.84, 0.9 , 0.86, 0.8 , 0.76, 0.91, 0.96, 0.95, 0.95,\n       0.96, 0.95, 0.89, 0.88, 0.84, 0.9 , 0.87, 0.91, 0.94, 0.97, 0.95,\n       0.93, 0.88, 0.78, 0.88, 0.91, 0.8 , 0.75, 0.9 , 0.88, 0.95, 0.91,\n       0.69, 0.94, 0.85, 0.9 , 0.86, 0.95, 0.88, 0.88, 0.91, 0.93, 0.92,\n       0.87, 0.92, 0.96, 0.92, 0.91, 0.9 , 0.97, 0.97, 0.94, 0.88, 0.91,\n       0.9 , 0.86, 0.92, 0.93, 0.92, 0.93, 0.91, 0.88, 0.88, 0.91, 0.93,\n       0.75, 0.85, 0.91, 0.74, 0.78, 0.86, 0.9 , 0.95, 0.93, 0.96, 0.85,\n       0.98, 0.95, 0.96, 0.79, 0.92, 0.82, 0.86, 0.84, 0.84, 0.92, 0.85,\n       0.78, 0.9 , 0.9 , 0.87, 0.8 , 0.88, 0.86, 0.83, 0.95, 0.96, 0.96,\n       0.87, 0.96, 0.88, 0.88, 0.93, 0.92, 0.88, 0.92, 0.79, 0.87, 0.92,\n       0.91, 0.79, 0.68, 0.81, 0.9 , 0.82, 0.96, 0.83, 0.78, 0.93, 0.8 ,\n       0.99, 0.89, 0.88, 0.92, 0.9 , 0.9 , 0.85, 0.93, 0.9 , 0.97, 0.93,\n       0.83, 0.89, 0.92, 0.9 , 0.91, 0.97, 0.9 , 0.87, 0.96, 0.98, 0.93,\n       0.87, 0.96, 0.97, 0.97, 0.87, 0.85, 0.9 , 0.96, 0.89, 0.87, 0.96,\n       0.94, 0.91, 0.89, 0.89, 0.95, 0.96, 0.96, 0.96, 0.85, 0.95, 0.98,\n       0.34, 0.91, 0.97, 0.95, 0.95, 0.98, 0.92, 0.89, 0.92, 0.94, 0.95,\n       0.84, 0.91, 0.89, 0.94, 0.97, 0.81, 0.88, 0.9 , 0.78, 0.88, 0.94,\n       0.88, 0.94, 0.93, 0.86, 0.94, 0.89, 0.9 , 0.85, 0.96, 0.95, 0.9 ,\n       0.89, 0.88, 0.91, 0.77, 0.92, 0.96, 0.93, 0.88, 0.85, 0.96, 0.89,\n       0.83, 0.83, 0.88, 0.93, 0.79, 0.94, 0.88, 0.77, 0.91, 0.96, 0.83,\n       0.88, 0.93, 0.95, 0.84, 0.93, 0.96, 0.83, 0.95, 0.93, 0.88, 0.93,\n       0.93, 0.97, 0.94, 0.88, 0.89, 0.8 , 0.94, 0.93, 0.9 , 0.8 , 0.91,\n       0.87, 0.97, 0.96, 0.73, 0.95, 0.89, 0.93, 0.75, 0.93, 0.87, 0.86,\n       0.93, 0.93, 0.95, 0.93, 0.81, 0.9 , 0.97, 0.88, 0.86, 0.87, 0.77,\n       0.93, 0.87, 0.79, 0.95, 0.93, 0.84, 0.91, 0.83, 0.95, 0.93, 0.91,\n       0.98, 0.95, 0.84, 0.84, 0.67, 0.78, 0.96, 0.89, 0.88, 0.71, 0.94,\n       0.95, 0.93, 0.96, 0.95, 0.95, 0.88, 0.68, 0.87, 0.66, 0.92, 0.88,\n       0.93, 0.76, 0.86, 0.94, 0.88, 0.59, 0.97, 0.92, 0.8 , 0.89, 0.81,\n       0.71, 0.79, 0.89, 0.95, 0.93, 0.88, 0.87, 0.94, 0.86, 0.93, 0.96,\n       0.91, 0.9 , 0.95, 0.96, 0.71, 0.97, 0.84, 0.84, 0.78, 0.96, 0.93,\n       0.93, 0.92, 0.89, 0.79, 0.9 , 0.91, 0.93, 0.82, 0.99, 0.89, 0.95,\n       0.96, 0.84, 0.79, 0.91, 0.84, 0.89, 0.9 , 0.91, 0.81, 0.91, 0.97,\n       0.85, 0.92, 0.94, 0.99, 0.91, 0.89, 0.94, 0.89, 0.93, 0.98, 0.97,\n       0.91, 0.89, 0.98, 0.95, 0.95, 0.98, 0.85, 0.88, 0.88, 0.97, 0.87,\n       0.79, 0.87, 0.9 , 0.92, 0.82, 0.88, 0.84, 0.93, 0.87, 0.93, 0.91,\n       0.94, 0.86, 0.93, 0.94, 0.89, 0.72, 0.96, 0.83, 0.82, 0.97, 0.91,\n       0.76, 0.96, 0.96, 0.94, 0.86, 0.81, 0.88, 0.82, 1.  , 0.81, 0.81,\n       0.92, 0.88, 0.91, 0.84, 0.91, 0.91, 0.98, 0.91, 0.86, 0.98, 0.94,\n       0.8 , 0.92, 0.94, 0.88, 0.87, 0.88, 0.91, 0.9 , 0.9 , 0.84, 0.78,\n       0.88, 0.82, 0.84, 0.88, 0.94, 0.82, 0.99, 0.94, 0.92, 0.94, 0.94,\n       0.97, 0.76, 0.94, 0.91, 0.92, 0.88, 0.84, 0.93, 0.94, 0.74, 0.82,\n       0.87, 0.79, 0.92, 0.81, 0.92, 0.92, 0.74, 0.86, 0.9 , 0.79, 0.86,\n       0.86, 0.96, 0.92, 0.93, 0.94, 0.97, 0.92, 0.9 , 0.85, 0.9 , 0.96,\n       0.81, 0.86, 0.89, 0.96, 0.91, 0.79, 0.77, 0.92, 0.8 , 0.91, 0.95,\n       0.86, 0.95, 0.88, 0.88, 0.88, 0.77, 0.89, 0.95, 0.92, 0.86, 0.97,\n       0.95, 0.97, 0.98, 0.93, 0.93, 0.92, 0.92, 0.9 , 0.89, 0.99, 0.87,\n       0.9 , 0.94, 0.83, 0.9 , 0.95, 0.94, 0.98, 0.71, 0.84, 0.89, 0.91,\n       0.96, 0.86, 0.91, 0.94, 0.78, 0.88, 0.84, 0.91, 0.86, 0.96, 0.94,\n       0.87, 0.92, 0.94, 0.98, 0.89, 0.7 , 0.86, 0.91, 0.84, 0.89, 0.97,\n       0.88, 0.9 , 0.9 , 0.93, 0.81, 0.95, 0.95, 0.92, 0.82, 0.93, 0.89,\n       0.89, 0.89, 0.8 , 0.89, 0.84, 0.97, 0.95, 0.69, 0.78, 0.95])"
     },
     "execution_count": 218,
     "metadata": {},
     "output_type": "execute_result"
    }
   ],
   "source": [
    "pred_test = clf.predict_proba(X_test).T[0]\n",
    "pred_test"
   ],
   "metadata": {
    "collapsed": false,
    "pycharm": {
     "name": "#%%\n"
    }
   }
  },
  {
   "cell_type": "markdown",
   "source": [
    "# Y_test"
   ],
   "metadata": {
    "collapsed": false,
    "pycharm": {
     "name": "#%% md\n"
    }
   }
  },
  {
   "cell_type": "code",
   "execution_count": 233,
   "outputs": [
    {
     "data": {
      "text/plain": "ecg_id\n9        0.0\n38       0.0\n40       0.0\n57       0.0\n59       0.0\n        ... \n17608    0.0\n17621    0.0\n17623    0.0\n17641    0.0\n17661    0.0\nName: is_MI, Length: 1000, dtype: float64"
     },
     "execution_count": 233,
     "metadata": {},
     "output_type": "execute_result"
    }
   ],
   "source": [
    "y_test"
   ],
   "metadata": {
    "collapsed": false,
    "pycharm": {
     "name": "#%%\n"
    }
   }
  },
  {
   "cell_type": "markdown",
   "source": [
    "# Pred train"
   ],
   "metadata": {
    "collapsed": false,
    "pycharm": {
     "name": "#%% md\n"
    }
   }
  },
  {
   "cell_type": "code",
   "execution_count": 219,
   "outputs": [
    {
     "data": {
      "text/plain": "array([1., 1., 1., 1., 1., 1., 1., 0., 1., 1., 1., 1., 1., 1., 1., 1., 1.,\n       1., 1., 1., 1., 1., 1., 1., 1., 1., 1., 1., 1., 1., 1., 1., 1., 1.,\n       1., 1., 1., 1., 1., 1., 1., 1., 1., 1., 1., 1., 1., 1., 1., 1., 1.,\n       1., 1., 1., 1., 1., 1., 1., 1., 1., 1., 1., 1., 1., 1., 1., 1., 1.,\n       1., 1., 1., 1., 1., 1., 1., 1., 1., 1., 1., 1., 1., 1., 1., 1., 0.,\n       1., 1., 1., 1., 1., 0., 0., 1., 1., 1., 0., 1., 1., 1., 1., 1., 0.,\n       1., 1., 1., 0., 1., 1., 0., 1., 1., 1., 1., 1., 1., 1., 1., 1., 1.,\n       1., 1., 1., 1., 1., 1., 1., 1., 1., 1., 1., 1., 1., 1., 1., 1., 1.,\n       1., 1., 1., 1., 1., 1., 1., 1., 1., 1., 1., 1., 0., 1., 1., 1., 0.,\n       1., 0., 1., 1., 1., 1., 1., 1., 1., 1., 0., 1., 1., 1., 1., 1., 1.,\n       1., 1., 1., 0., 1., 1., 1., 1., 0., 1., 0., 1., 0., 1., 1., 1., 1.,\n       1., 1., 1., 1., 1., 1., 1., 1., 1., 1., 1., 1., 1., 1., 1., 1., 1.,\n       1., 1., 1., 1., 1., 1., 1., 1., 0., 1., 1., 1., 1., 1., 1., 1., 1.,\n       1., 1., 1., 1., 1., 1., 1., 1., 1., 0., 1., 1., 0., 1., 1., 1., 1.,\n       1., 1., 1., 1., 1., 1., 1., 1., 1., 0., 1., 1., 1., 1., 1., 0., 1.,\n       1., 1., 1., 0., 1., 1., 1., 1., 1., 1., 1., 1., 0., 1., 1., 1., 1.,\n       0., 1., 1., 1., 1., 1., 1., 0., 0., 1., 1., 1., 0., 1., 1., 1., 1.,\n       1., 1., 1., 1., 0., 1., 1., 1., 1., 0., 1., 1., 1., 1., 0., 1., 1.,\n       1., 1., 1., 1., 0., 1., 1., 1., 0., 0., 1., 1., 1., 1., 1., 1., 0.,\n       1., 0., 1., 1., 1., 1., 1., 1., 1., 1., 1., 1., 1., 1., 1., 1., 1.,\n       1., 1., 1., 1., 1., 0., 1., 1., 1., 1., 1., 1., 1., 1., 1., 1., 1.,\n       1., 1., 1., 1., 0., 0., 1., 1., 0., 0., 1., 1., 0., 1., 0., 1., 1.,\n       1., 0., 1., 1., 1., 1., 0., 1., 1., 1., 1., 1., 1., 1., 1., 1., 1.,\n       1., 1., 1., 1., 1., 1., 1., 1., 1., 1., 1., 1., 1., 1., 1., 1., 1.,\n       1., 1., 1., 1., 0., 1., 1., 1., 1., 1., 1., 1., 0., 1., 1., 1., 1.,\n       1., 1., 1., 1., 0., 1., 1., 1., 1., 1., 1., 1., 1., 1., 1., 1., 1.,\n       1., 1., 1., 1., 1., 1., 1., 1., 1., 0., 1., 1., 1., 1., 1., 1., 1.,\n       1., 1., 1., 1., 1., 0., 1., 0., 1., 1., 1., 1., 1., 1., 1., 1., 1.,\n       1., 1., 1., 1., 1., 1., 1., 1., 1., 1., 1., 1., 1., 1., 1., 1., 1.,\n       0., 1., 1., 1., 1., 1., 1., 1., 0., 0., 1., 1., 1., 1., 1., 1., 1.,\n       1., 0., 1., 1., 1., 1., 1., 1., 1., 1., 1., 1., 1., 1., 1., 1., 1.,\n       0., 1., 0., 1., 1., 1., 1., 0., 1., 0., 1., 1., 1., 0., 1., 1., 1.,\n       1., 1., 1., 1., 1., 1., 1., 1., 1., 1., 1., 1., 1., 1., 1., 1., 1.,\n       1., 1., 1., 1., 1., 1., 1., 1., 1., 1., 1., 1., 0., 0., 1., 1., 1.,\n       1., 1., 1., 1., 1., 1., 1., 1., 1., 1., 1., 1., 1., 1., 1., 1., 1.,\n       1., 1., 0., 1., 1., 1., 1., 1., 0., 1., 1., 1., 1., 1., 1., 1., 0.,\n       1., 1., 1., 1., 1., 1., 1., 1., 1., 1., 1., 1., 1., 1., 1., 1., 1.,\n       1., 1., 1., 0., 1., 1., 1., 1., 1., 1., 1., 1., 1., 1., 1., 1., 1.,\n       1., 1., 1., 1., 1., 1., 1., 1., 1., 1., 1., 1., 1., 1., 1., 0., 1.,\n       1., 1., 1., 1., 1., 1., 0., 1., 1., 1., 1., 1., 1., 1., 1., 1., 1.,\n       1., 1., 0., 1., 1., 1., 1., 1., 0., 1., 1., 1., 1., 1., 1., 1., 0.,\n       1., 1., 0., 1., 1., 1., 1., 1., 1., 1., 1., 1., 1., 1., 1., 1., 0.,\n       1., 1., 1., 1., 0., 1., 1., 0., 0., 1., 0., 0., 1., 1., 1., 1., 1.,\n       1., 1., 1., 1., 1., 1., 1., 0., 1., 1., 1., 1., 1., 1., 1., 1., 1.,\n       1., 1., 1., 1., 1., 1., 1., 1., 1., 0., 1., 1., 0., 1., 1., 1., 1.,\n       1., 1., 1., 1., 1., 1., 0., 1., 0., 1., 1., 1., 1., 1., 1., 1., 1.,\n       1., 1., 1., 1., 0., 1., 1., 1., 1., 1., 1., 1., 1., 1., 1., 1., 0.,\n       1., 1., 1., 1., 1., 1., 1., 1., 1., 1., 1., 1., 1., 1., 1., 1., 1.,\n       1., 1., 1., 1., 1., 1., 1., 1., 1., 1., 1., 1., 1., 1., 1., 1., 1.,\n       1., 1., 0., 1., 1., 1., 1., 1., 1., 1., 1., 1., 1., 1., 0., 1., 1.,\n       1., 1., 1., 1., 1., 1., 1., 1., 1., 1., 1., 1., 0., 1., 1., 1., 1.,\n       1., 0., 1., 1., 0., 1., 1., 1., 1., 1., 1., 1., 1., 1., 1., 1., 1.,\n       1., 1., 1., 1., 1., 1., 1., 1., 1., 1., 1., 1., 0., 1., 1., 1., 1.,\n       1., 1., 1., 0., 1., 0., 0., 1., 1., 1., 0., 1., 1., 1., 1., 1., 1.,\n       1., 1., 1., 1., 1., 1., 1., 1., 1., 0., 1., 1., 1., 1., 1., 1., 1.,\n       0., 1., 1., 1., 1., 1., 1., 1., 1., 1., 1., 1., 1., 1., 1., 0., 1.,\n       1., 0., 0., 1., 1., 1., 1., 1., 1., 0., 1., 1., 1., 1., 1., 1., 1.,\n       0., 1., 1., 1., 1., 1., 1., 1., 1., 1., 1., 0., 1., 1., 1., 1., 1.,\n       1., 1., 1., 1., 1., 1., 0., 1., 1., 1., 1., 1., 1., 1.])"
     },
     "execution_count": 219,
     "metadata": {},
     "output_type": "execute_result"
    }
   ],
   "source": [
    "pred_train = clf.predict_proba(X_train).T[0]\n",
    "pred_train"
   ],
   "metadata": {
    "collapsed": false,
    "pycharm": {
     "name": "#%%\n"
    }
   }
  },
  {
   "cell_type": "markdown",
   "source": [
    "# Y_train"
   ],
   "metadata": {
    "collapsed": false,
    "pycharm": {
     "name": "#%% md\n"
    }
   }
  },
  {
   "cell_type": "code",
   "execution_count": 220,
   "outputs": [
    {
     "data": {
      "text/plain": "ecg_id\n1       0.0\n2       0.0\n3       0.0\n4       0.0\n5       0.0\n       ... \n2036    0.0\n2037    0.0\n2038    0.0\n2040    0.0\n2041    0.0\nName: is_MI, Length: 1000, dtype: float64"
     },
     "execution_count": 220,
     "metadata": {},
     "output_type": "execute_result"
    }
   ],
   "source": [
    "y_train"
   ],
   "metadata": {
    "collapsed": false,
    "pycharm": {
     "name": "#%%\n"
    }
   }
  },
  {
   "cell_type": "code",
   "execution_count": 231,
   "outputs": [],
   "source": [
    "from sklearn.metrics import roc_auc_score, roc_curve\n",
    "\n",
    "\n",
    "def roc_auc_plot(y_test, y_test_predicted, y_train, y_train_predicted):\n",
    "    res_test = roc_auc_score(y_test, y_test_predicted)\n",
    "    res_train = roc_auc_score(y_train, y_train_predicted)\n",
    "\n",
    "    plt.figure(figsize=(10, 7))\n",
    "\n",
    "    plt.plot(*roc_curve(y_test, y_test_predicted)[:2], label='val AUC={:.4f}'.format(res_test))\n",
    "    plt.plot(*roc_curve(y_train, y_train_predicted)[:2], label='train AUC={:.4f}'.format(res_train))\n",
    "\n",
    "    legend_box = plt.legend(fontsize='large', framealpha=1).get_frame()\n",
    "    legend_box.set_facecolor(\"white\")\n",
    "    legend_box.set_edgecolor(\"black\")\n",
    "    plt.plot(np.linspace(0, 1, 100), np.linspace(0, 1, 100))\n",
    "    plt.show()"
   ],
   "metadata": {
    "collapsed": false,
    "pycharm": {
     "name": "#%%\n"
    }
   }
  },
  {
   "cell_type": "markdown",
   "source": [
    "# Мда 🤡"
   ],
   "metadata": {
    "collapsed": false,
    "pycharm": {
     "name": "#%% md\n"
    }
   }
  },
  {
   "cell_type": "code",
   "execution_count": 232,
   "outputs": [
    {
     "name": "stdout",
     "output_type": "stream",
     "text": [
      "0.47500589768871104 0.0\n"
     ]
    },
    {
     "data": {
      "text/plain": "<Figure size 1000x700 with 1 Axes>",
      "image/png": "[encoded data removed]"
     },
     "metadata": {},
     "output_type": "display_data"
    }
   ],
   "source": [
    "roc_auc_plot(y_test, pred_test, y_train, pred_train)"
   ],
   "metadata": {
    "collapsed": false,
    "pycharm": {
     "name": "#%%\n"
    }
   }
  }
 ],
 "metadata": {
  "kernelspec": {
   "display_name": "Python 3",
   "language": "python",
   "name": "python3"
  },
  "language_info": {
   "codemirror_mode": {
    "name": "ipython",
    "version": 2
   },
   "file_extension": ".py",
   "mimetype": "text/x-python",
   "name": "python",
   "nbconvert_exporter": "python",
   "pygments_lexer": "ipython2",
   "version": "2.7.6"
  }
 },
 "nbformat": 4,
 "nbformat_minor": 0
}