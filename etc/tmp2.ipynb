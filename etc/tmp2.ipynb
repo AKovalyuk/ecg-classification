{
 "cells": [
  {
   "cell_type": "code",
   "execution_count": 1,
   "metadata": {
    "collapsed": true,
    "pycharm": {
     "name": "#%%\n"
    }
   },
   "outputs": [],
   "source": [
    "from src.preprocessing import preprocess_data"
   ]
  },
  {
   "cell_type": "code",
   "execution_count": 2,
   "outputs": [
    {
     "name": "stdout",
     "output_type": "stream",
     "text": [
      "Loading data\n"
     ]
    },
    {
     "name": "stderr",
     "output_type": "stream",
     "text": [
      "100%|██████████| 21799/21799 [01:10<00:00, 309.86it/s]\n"
     ]
    },
    {
     "name": "stdout",
     "output_type": "stream",
     "text": [
      "Dropping other\n",
      "Filtering outliers\n"
     ]
    },
    {
     "name": "stderr",
     "output_type": "stream",
     "text": [
      "100%|██████████| 11718/11718 [00:04<00:00, 2454.41it/s]\n"
     ]
    },
    {
     "name": "stdout",
     "output_type": "stream",
     "text": [
      "Applying moving average\n"
     ]
    },
    {
     "name": "stderr",
     "output_type": "stream",
     "text": [
      "100%|██████████| 10916/10916 [00:23<00:00, 468.32it/s]\n"
     ]
    },
    {
     "name": "stdout",
     "output_type": "stream",
     "text": [
      "Balancing data\n",
      "Train-test split\n"
     ]
    }
   ],
   "source": [
    "x_train, x_test, y_train, y_test = preprocess_data(path='/home/twoics/py-proj/ecg-classification/plt', target_class='HYP')"
   ],
   "metadata": {
    "collapsed": false,
    "pycharm": {
     "name": "#%%\n"
    }
   }
  },
  {
   "cell_type": "code",
   "execution_count": 3,
   "outputs": [],
   "source": [
    "import warnings\n",
    "warnings.filterwarnings('ignore')"
   ],
   "metadata": {
    "collapsed": false,
    "pycharm": {
     "name": "#%%\n"
    }
   }
  },
  {
   "cell_type": "code",
   "execution_count": 4,
   "outputs": [
    {
     "name": "stdout",
     "output_type": "stream",
     "text": [
      "WARNING\n",
      "Epoch 0\n",
      "\t\t[7, 120, 4, 11, 48, 2, 9, 132, 2], Epoch: 2\n",
      "\t\t[15, 12, 3, 7, 24, 3, 17, 132, 4], Epoch: 2\n",
      "\t\t[11, 60, 1, 7, 60, 1, 7, 132, 1], Epoch: 2\n",
      "\t\t[17, 72, 1, 11, 144, 5, 19, 96, 3], Epoch: 22\n",
      "\t\t[13, 132, 4, 15, 12, 1, 5, 60, 3], Epoch: 2\n",
      "\t Metrics [0.7882079131109387, 0.4918541505042669, 0.843289371605896, 0.9022498060512025, 0.7013188518231187]\n",
      "\t Mean metric: 0.7453840186190845\n",
      "\n",
      "\n",
      "Epoch 1\n",
      "\t\t[13, 132, 4, 15, 12, 1, 5, 60, 3], Epoch: 2\n",
      "\t\t[13, 132, 1, 7, 60, 1, 7, 132, 1], Epoch: 2\n",
      "\t\t[5, 120, 4, 11, 48, 2, 9, 132, 4], Epoch: 2\n",
      "\t\t[5, 120, 4, 11, 48, 2, 7, 132, 1], Epoch: 2\n",
      "\t\t[17, 120, 3, 7, 108, 2, 11, 72, 4], Epoch: 9\n",
      "\t Metrics [0.6105508145849495, 0.8355314197051978, 0.5678820791311094, 0.799844840961986, 0.878200155159038]\n",
      "\t Mean metric: 0.7384018619084561\n",
      "\n",
      "\n",
      "Epoch 2\n",
      "\t\t[9, 132, 4, 15, 108, 2, 11, 72, 4], Epoch: 9\n",
      "\t\t[9, 132, 4, 15, 12, 1, 5, 60, 1], Epoch: 2\n",
      "\t\t[9, 132, 1, 7, 60, 1, 7, 132, 4], Epoch: 9\n",
      "\t\t[9, 132, 4, 11, 48, 2, 7, 132, 1], Epoch: 2\n",
      "\t\t[15, 72, 1, 17, 12, 3, 19, 144, 2], Epoch: 7\n",
      "\t Metrics [0.8983708301008534, 0.7982932505818464, 0.8929402637703646, 0.8200155159038014, 0.8983708301008534]\n",
      "\t Mean metric: 0.861598138091544\n",
      "\n",
      "\n",
      "Epoch 3\n",
      "\t\t[9, 132, 4, 15, 12, 1, 5, 72, 4], Epoch: 9\n",
      "\t\t[9, 132, 4, 15, 12, 1, 5, 132, 1], Epoch: 2\n",
      "\t\t[9, 132, 1, 7, 60, 1, 7, 72, 4], Epoch: 9\n",
      "\t\t[9, 132, 1, 7, 60, 1, 7, 132, 4], Epoch: 9\n",
      "\t\t[13, 144, 2, 7, 36, 3, 13, 36, 1], Epoch: 22\n",
      "\t Metrics [0.8906128782001551, 0.8324282389449186, 0.8882854926299457, 0.8774243599689682, 0.9076803723816912]\n",
      "\t Mean metric: 0.8792862684251357\n",
      "\n",
      "\n",
      "WARNING\n",
      "WARNING\n",
      "Epoch 4\n",
      "\t\t[5, 132, 4, 15, 12, 1, 7, 72, 4], Epoch: 9\n",
      "\t\t[5, 132, 4, 15, 12, 1, 5, 72, 4], Epoch: 9\n",
      "\t\t[5, 132, 1, 7, 60, 1, 7, 72, 4], Epoch: 9\n",
      "\t\t[5, 132, 1, 7, 60, 1, 5, 72, 4], Epoch: 9\n",
      "\t\t[17, 84, 4, 5, 36, 5, 11, 96, 1], Epoch: 16\n",
      "\t Metrics [0.8859581070597362, 0.8882854926299457, 0.8937160589604345, 0.8844065166795966, 0.9030256012412723]\n",
      "\t Mean metric: 0.8910783553141972\n",
      "\n",
      "\n",
      "Epoch 5\n",
      "\t\t[5, 132, 4, 15, 12, 1, 5, 72, 4], Epoch: 9\n",
      "\t\t[5, 132, 4, 15, 12, 1, 5, 72, 4], Epoch: 9\n",
      "\t\t[11, 84, 4, 5, 36, 5, 11, 96, 1], Epoch: 16\n",
      "\t\t[11, 84, 4, 5, 36, 1, 7, 72, 4], Epoch: 16\n",
      "\t\t[19, 84, 3, 7, 144, 3, 5, 12, 2], Epoch: 25\n",
      "\t Metrics [0.8789759503491078, 0.8805275407292474, 0.899922420480993, 0.9053529868114818, 0.9076803723816912]\n",
      "\t Mean metric: 0.8944918541505043\n",
      "\n",
      "\n",
      "WARNING\n",
      "WARNING\n",
      "Epoch 6\n",
      "\t\t[5, 132, 4, 15, 12, 1, 5, 72, 4], Epoch: 16\n",
      "\t\t[5, 132, 4, 15, 12, 1, 5, 72, 4], Epoch: 25\n",
      "\t\t[9, 84, 4, 5, 36, 5, 11, 96, 1], Epoch: 16\n",
      "\t\t[9, 84, 4, 5, 36, 1, 7, 72, 4], Epoch: 25\n",
      "\t\t[19, 48, 2, 17, 84, 1, 19, 120, 1], Epoch: 10\n",
      "\t Metrics [0.8944918541505043, 0.9069045771916214, 0.8983708301008534, 0.9053529868114818, 0.8968192397207138]\n",
      "\t Mean metric: 0.900387897595035\n",
      "\n",
      "\n",
      "Epoch 7\n",
      "\t\t[13, 84, 4, 15, 12, 1, 5, 72, 4], Epoch: 25\n",
      "\t\t[13, 84, 4, 5, 36, 1, 7, 72, 4], Epoch: 25\n",
      "\t\t[13, 84, 4, 5, 12, 1, 5, 72, 4], Epoch: 16\n",
      "\t\t[13, 84, 4, 15, 12, 1, 5, 72, 4], Epoch: 25\n",
      "\t\t[5, 84, 3, 17, 108, 3, 19, 96, 4], Epoch: 18\n",
      "\t Metrics [0.9045771916214119, 0.9061287820015516, 0.8960434445306439, 0.9038013964313422, 0.899922420480993]\n",
      "\t Mean metric: 0.9020946470131885\n",
      "\n",
      "\n",
      "Epoch 8\n",
      "\t\t[13, 84, 3, 17, 108, 3, 19, 96, 4], Epoch: 25\n",
      "\t\t[13, 84, 3, 17, 108, 3, 19, 96, 4], Epoch: 25\n",
      "\t\t[13, 84, 4, 15, 12, 1, 5, 72, 4], Epoch: 25\n",
      "\t\t[13, 84, 4, 15, 12, 1, 5, 72, 4], Epoch: 25\n",
      "\t\t[11, 24, 1, 11, 84, 2, 19, 24, 1], Epoch: 9\n",
      "\t Metrics [0.9038013964313422, 0.8968192397207138, 0.8975950349107835, 0.9053529868114818, 0.8820791311093871]\n",
      "\t Mean metric: 0.8971295577967418\n",
      "\n",
      "\n",
      "Epoch 9\n",
      "\t\t[11, 24, 1, 11, 84, 2, 19, 24, 1], Epoch: 25\n",
      "\t\t[11, 24, 1, 11, 84, 2, 19, 96, 4], Epoch: 25\n",
      "\t\t[11, 84, 3, 17, 108, 3, 19, 96, 4], Epoch: 25\n",
      "\t\t[11, 84, 4, 15, 12, 1, 19, 96, 4], Epoch: 25\n",
      "\t\t[5, 120, 3, 13, 108, 2, 7, 132, 1], Epoch: 30\n",
      "\t Metrics [0.9069045771916214, 0.8991466252909232, 0.9006982156710628, 0.9038013964313422, 0.9138867339022498]\n",
      "\t Mean metric: 0.9048875096974399\n",
      "\n",
      "\n",
      "WARNING\n",
      "WARNING\n",
      "Epoch 10\n",
      "\t\t[11, 24, 1, 11, 84, 2, 19, 24, 1], Epoch: 25\n",
      "\t\t[11, 24, 1, 11, 84, 2, 7, 132, 1], Epoch: 30\n",
      "\t\t[11, 24, 1, 19, 36, 3, 17, 84, 3], Epoch: 12\n",
      "\t\t[11, 84, 4, 15, 12, 1, 19, 96, 4], Epoch: 30\n",
      "\t\t[15, 72, 4, 9, 60, 2, 19, 24, 3], Epoch: 5\n",
      "\t Metrics [0.9053529868114818, 0.8944918541505043, 0.8921644685802949, 0.9092319627618308, 0.8774243599689682]\n",
      "\t Mean metric: 0.8957331264546159\n",
      "\n",
      "\n",
      "Epoch 11\n",
      "\t\t[11, 24, 1, 11, 84, 2, 19, 24, 1], Epoch: 30\n",
      "\t\t[11, 24, 1, 11, 84, 2, 19, 24, 1], Epoch: 25\n",
      "\t\t[11, 24, 1, 11, 84, 2, 7, 132, 1], Epoch: 30\n",
      "\t\t[11, 24, 1, 11, 84, 3, 17, 84, 3], Epoch: 30\n",
      "\t\t[11, 12, 3, 15, 84, 1, 15, 36, 1], Epoch: 27\n",
      "\t Metrics [0.9107835531419706, 0.8898370830100854, 0.9107835531419706, 0.8929402637703646, 0.9022498060512025]\n",
      "\t Mean metric: 0.9013188518231188\n",
      "\n",
      "\n",
      "Epoch 12\n",
      "\t\t[11, 24, 1, 11, 84, 1, 15, 36, 1], Epoch: 30\n",
      "\t\t[11, 24, 1, 11, 84, 2, 7, 132, 1], Epoch: 30\n",
      "\t\t[11, 24, 1, 11, 84, 2, 19, 24, 1], Epoch: 27\n",
      "\t\t[11, 24, 1, 11, 84, 2, 7, 132, 1], Epoch: 30\n",
      "\t\t[9, 120, 2, 7, 60, 4, 19, 84, 1], Epoch: 28\n",
      "\t Metrics [0.9053529868114818, 0.9053529868114818, 0.8867339022498061, 0.9076803723816912, 0.9030256012412723]\n",
      "\t Mean metric: 0.9016291698991467\n",
      "\n",
      "\n",
      "WARNING\n",
      "Epoch 13\n",
      "\t\t[5, 120, 2, 11, 84, 1, 15, 36, 1], Epoch: 30\n",
      "\t\t[5, 120, 2, 7, 60, 4, 19, 84, 1], Epoch: 28\n",
      "\t\t[11, 24, 1, 11, 84, 1, 15, 36, 1], Epoch: 30\n",
      "\t\t[11, 24, 1, 11, 84, 2, 7, 132, 1], Epoch: 30\n",
      "\t\t[13, 120, 2, 9, 24, 2, 19, 60, 4], Epoch: 12\n",
      "\t Metrics [0.899922420480993, 0.8960434445306439, 0.9022498060512025, 0.9115593483320403, 0.8867339022498061]\n",
      "\t Mean metric: 0.899301784328937\n",
      "\n",
      "\n",
      "Epoch 14\n",
      "\t\t[9, 120, 2, 11, 84, 1, 15, 36, 1], Epoch: 30\n",
      "\t\t[9, 120, 2, 11, 84, 1, 15, 84, 1], Epoch: 30\n",
      "\t\t[11, 24, 1, 11, 84, 2, 7, 132, 1], Epoch: 30\n",
      "\t\t[11, 24, 1, 11, 84, 4, 19, 84, 1], Epoch: 30\n",
      "\t\t[7, 108, 5, 19, 24, 2, 17, 84, 2], Epoch: 22\n",
      "\t Metrics [0.9061287820015516, 0.9123351435221102, 0.9053529868114818, 0.8859581070597362, 0.8906128782001551]\n",
      "\t Mean metric: 0.9000775795190069\n",
      "\n",
      "\n",
      "Epoch 15\n",
      "\t\t[7, 108, 5, 19, 24, 2, 17, 84, 2], Epoch: 30\n",
      "\t\t[7, 108, 5, 19, 24, 1, 15, 84, 1], Epoch: 30\n",
      "\t\t[13, 24, 1, 11, 84, 2, 7, 132, 1], Epoch: 30\n",
      "\t\t[13, 24, 1, 11, 84, 2, 7, 132, 1], Epoch: 30\n",
      "\t\t[15, 108, 3, 11, 48, 3, 17, 132, 4], Epoch: 23\n",
      "\t Metrics [0.8975950349107835, 0.9014740108611327, 0.8975950349107835, 0.9115593483320403, 0.9092319627618308]\n",
      "\t Mean metric: 0.9034910783553141\n",
      "\n",
      "\n",
      "WARNING\n",
      "Epoch 16\n",
      "\t\t[11, 24, 1, 11, 84, 1, 15, 84, 1], Epoch: 30\n",
      "\t\t[11, 24, 1, 11, 84, 2, 7, 132, 4], Epoch: 30\n",
      "\t\t[7, 108, 5, 19, 24, 2, 17, 84, 2], Epoch: 30\n",
      "\t\t[15, 120, 3, 19, 144, 1, 17, 120, 2], Epoch: 12\n",
      "\t\t[5, 36, 3, 19, 12, 2, 13, 12, 3], Epoch: 19\n",
      "\t Metrics [0.9100077579519007, 0.9123351435221102, 0.899922420480993, 0.9053529868114818, 0.8944918541505043]\n",
      "\t Mean metric: 0.9044220325833981\n",
      "\n",
      "\n",
      "Epoch 17\n",
      "\t\t[11, 24, 1, 19, 24, 2, 17, 84, 2], Epoch: 30\n",
      "\t\t[11, 24, 1, 11, 84, 1, 17, 120, 2], Epoch: 30\n",
      "\t\t[5, 36, 3, 19, 12, 2, 13, 12, 2], Epoch: 30\n",
      "\t\t[5, 36, 3, 19, 12, 2, 13, 12, 3], Epoch: 19\n",
      "\t\t[5, 60, 2, 5, 12, 2, 13, 96, 3], Epoch: 30\n",
      "\t Metrics [0.9138867339022498, 0.9076803723816912, 0.9014740108611327, 0.8820791311093871, 0.8968192397207138]\n",
      "\t Mean metric: 0.900387897595035\n",
      "\n",
      "\n",
      "Epoch 18\n",
      "\t\t[9, 24, 1, 19, 24, 2, 17, 84, 2], Epoch: 30\n",
      "\t\t[9, 24, 1, 19, 24, 2, 17, 84, 2], Epoch: 30\n",
      "\t\t[5, 60, 2, 5, 12, 2, 13, 96, 3], Epoch: 30\n",
      "\t\t[5, 60, 2, 19, 12, 2, 13, 12, 3], Epoch: 30\n",
      "\t\t[5, 72, 2, 7, 108, 5, 5, 120, 4], Epoch: 29\n",
      "\t Metrics [0.8991466252909232, 0.9045771916214119, 0.9061287820015516, 0.9061287820015516, 0.8991466252909232]\n",
      "\t Mean metric: 0.9030256012412723\n",
      "\n",
      "\n",
      "Epoch 19\n",
      "\t\t[9, 24, 1, 19, 24, 2, 13, 96, 3], Epoch: 30\n",
      "\t\t[9, 24, 1, 19, 24, 2, 13, 12, 3], Epoch: 30\n",
      "\t\t[11, 72, 2, 7, 108, 2, 13, 96, 3], Epoch: 30\n",
      "\t\t[11, 72, 2, 7, 108, 5, 5, 12, 3], Epoch: 30\n",
      "\t\t[11, 84, 4, 19, 24, 1, 15, 24, 5], Epoch: 9\n",
      "\t Metrics [0.9092319627618308, 0.9115593483320403, 0.9053529868114818, 0.8890612878200155, 0.8921644685802949]\n",
      "\t Mean metric: 0.9014740108611325\n",
      "\n",
      "\n",
      "Epoch 20\n",
      "\t\t[9, 24, 1, 19, 24, 1, 15, 24, 5], Epoch: 30\n",
      "\t\t[9, 24, 1, 19, 24, 2, 13, 96, 3], Epoch: 30\n",
      "\t\t[9, 72, 2, 7, 108, 2, 13, 96, 5], Epoch: 30\n",
      "\t\t[9, 72, 2, 7, 108, 2, 13, 12, 3], Epoch: 30\n",
      "\t\t[7, 108, 2, 15, 108, 2, 5, 132, 1], Epoch: 9\n",
      "\t Metrics [0.9162141194724592, 0.9038013964313422, 0.9084561675717611, 0.8991466252909232, 0.9107835531419706]\n",
      "\t Mean metric: 0.9076803723816912\n",
      "\n",
      "\n",
      "Epoch 21\n",
      "\t\t[5, 72, 2, 7, 108, 2, 13, 12, 5], Epoch: 30\n",
      "\t\t[5, 72, 2, 15, 108, 2, 5, 132, 1], Epoch: 30\n",
      "\t\t[5, 72, 1, 19, 24, 1, 15, 24, 5], Epoch: 30\n",
      "\t\t[5, 72, 2, 15, 108, 2, 5, 132, 1], Epoch: 30\n",
      "\t\t[13, 84, 3, 9, 72, 2, 9, 12, 2], Epoch: 28\n",
      "\t Metrics [0.9038013964313422, 0.9123351435221102, 0.9053529868114818, 0.9123351435221102, 0.899922420480993]\n",
      "\t Mean metric: 0.9067494181536075\n",
      "\n",
      "\n",
      "WARNING\n",
      "WARNING\n",
      "WARNING\n",
      "Epoch 22\n",
      "\t\t[7, 72, 2, 7, 72, 2, 9, 12, 2], Epoch: 30\n",
      "\t\t[7, 72, 2, 7, 108, 2, 13, 12, 5], Epoch: 30\n",
      "\t\t[7, 72, 2, 15, 108, 2, 9, 12, 2], Epoch: 30\n",
      "\t\t[7, 72, 2, 15, 108, 2, 5, 132, 1], Epoch: 30\n",
      "\t\t[9, 120, 2, 17, 72, 3, 7, 132, 1], Epoch: 22\n",
      "\t Metrics [0.9030256012412723, 0.9076803723816912, 0.9123351435221102, 0.9006982156710628, 0.9045771916214119]\n",
      "\t Mean metric: 0.9056633048875098\n",
      "\n",
      "\n",
      "WARNING\n",
      "Epoch 23\n",
      "\t\t[5, 72, 2, 15, 108, 2, 5, 132, 1], Epoch: 30\n",
      "\t\t[5, 72, 2, 7, 72, 2, 9, 12, 2], Epoch: 30\n",
      "\t\t[9, 120, 2, 17, 72, 3, 7, 132, 1], Epoch: 30\n",
      "\t\t[9, 120, 2, 17, 72, 3, 7, 132, 1], Epoch: 30\n",
      "\t\t[17, 60, 3, 13, 60, 3, 9, 108, 1], Epoch: 20\n",
      "\t Metrics [0.9115593483320403, 0.9053529868114818, 0.8983708301008534, 0.9100077579519007, 0.9076803723816912]\n",
      "\t Mean metric: 0.9065942591155934\n",
      "\n",
      "\n",
      "WARNING\n",
      "Epoch 24\n",
      "\t\t[11, 120, 2, 15, 108, 2, 5, 132, 1], Epoch: 30\n",
      "\t\t[11, 120, 2, 17, 72, 3, 7, 132, 1], Epoch: 30\n",
      "\t\t[5, 72, 2, 15, 108, 2, 5, 132, 1], Epoch: 30\n",
      "\t\t[5, 72, 2, 7, 72, 2, 9, 132, 1], Epoch: 30\n",
      "\t\t[5, 120, 5, 19, 144, 1, 15, 60, 1], Epoch: 28\n",
      "\t Metrics [0.8929402637703646, 0.9084561675717611, 0.9092319627618308, 0.8882854926299457, 0.861132660977502]\n",
      "\t Mean metric: 0.8920093095422807\n",
      "\n",
      "\n"
     ]
    }
   ],
   "source": [
    "from src.genetic.evolution import Evolution\n",
    "evolution = Evolution(x_train, y_train, x_test, y_test)\n",
    "evolution.fit(25)"
   ],
   "metadata": {
    "collapsed": false,
    "pycharm": {
     "name": "#%%\n"
    }
   }
  },
  {
   "cell_type": "code",
   "execution_count": 10,
   "outputs": [
    {
     "data": {
      "text/plain": "<Figure size 1000x700 with 1 Axes>",
      "image/png": "[encoded data removed]"
     },
     "metadata": {},
     "output_type": "display_data"
    }
   ],
   "source": [
    "import numpy as np\n",
    "import matplotlib.pyplot as plt\n",
    "plt.style.use('bmh')\n",
    "\n",
    "fig, ax  = plt.subplots(figsize=(10,7))\n",
    "x, mean = [i for i in range(len(evolution.means))], np.array(evolution.means)\n",
    "\n",
    "max_y = np.array(evolution.maxes)\n",
    "min_y = np.array(evolution.mines)\n",
    "\n",
    "ax.fill_between(x, mean, max_y, where=(max_y > mean), alpha=0.2, label='max')\n",
    "ax.fill_between(x, mean, min_y, where=(min_y < mean), alpha=0.2, label='min')\n",
    "plt.title('Dependence of population accuracy on the number of epochs')\n",
    "plt.xlabel('epoch')\n",
    "plt.ylabel('accuracy')\n",
    "\n",
    "plt.plot(x, mean, label='mean')\n",
    "plt.legend()\n",
    "plt.show()"
   ],
   "metadata": {
    "collapsed": false,
    "pycharm": {
     "name": "#%%\n"
    }
   }
  },
  {
   "cell_type": "code",
   "execution_count": null,
   "outputs": [],
   "source": [],
   "metadata": {
    "collapsed": false,
    "pycharm": {
     "name": "#%%\n"
    }
   }
  }
 ],
 "metadata": {
  "kernelspec": {
   "display_name": "Python 3",
   "language": "python",
   "name": "python3"
  },
  "language_info": {
   "codemirror_mode": {
    "name": "ipython",
    "version": 2
   },
   "file_extension": ".py",
   "mimetype": "text/x-python",
   "name": "python",
   "nbconvert_exporter": "python",
   "pygments_lexer": "ipython2",
   "version": "2.7.6"
  }
 },
 "nbformat": 4,
 "nbformat_minor": 0
}