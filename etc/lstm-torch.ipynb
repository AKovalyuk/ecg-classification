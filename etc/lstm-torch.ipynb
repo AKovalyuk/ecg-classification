{
 "cells": [
  {
   "cell_type": "code",
   "execution_count": 1,
   "outputs": [],
   "source": [
    "from src import loader, vis, preprocess"
   ],
   "metadata": {
    "collapsed": false,
    "pycharm": {
     "name": "#%%\n"
    }
   }
  },
  {
   "cell_type": "code",
   "execution_count": 2,
   "outputs": [],
   "source": [
    "X, Y = loader.get_data()"
   ],
   "metadata": {
    "collapsed": false,
    "pycharm": {
     "name": "#%%\n"
    }
   }
  },
  {
   "cell_type": "code",
   "execution_count": 3,
   "outputs": [
    {
     "data": {
      "text/plain": "array([[[-1.190e-01, -5.500e-02,  6.400e-02, ..., -2.600e-02,\n         -3.900e-02, -7.900e-02],\n        [-1.160e-01, -5.100e-02,  6.500e-02, ..., -3.100e-02,\n         -3.400e-02, -7.400e-02],\n        [-1.200e-01, -4.400e-02,  7.600e-02, ..., -2.800e-02,\n         -2.900e-02, -6.900e-02],\n        ...,\n        [ 6.900e-02,  0.000e+00, -6.900e-02, ...,  2.400e-02,\n         -4.100e-02, -5.800e-02],\n        [ 8.600e-02,  4.000e-03, -8.100e-02, ...,  2.420e-01,\n         -4.600e-02, -9.800e-02],\n        [ 2.200e-02, -3.100e-02, -5.400e-02, ...,  1.430e-01,\n         -3.500e-02, -1.200e-01]],\n\n       [[ 4.000e-03,  1.380e-01,  1.340e-01, ...,  1.920e-01,\n          8.300e-02,  8.800e-02],\n        [-2.000e-02,  1.160e-01,  1.360e-01, ...,  1.560e-01,\n          5.700e-02,  6.300e-02],\n        [-5.300e-02,  9.200e-02,  1.450e-01, ...,  1.070e-01,\n          1.300e-02,  2.200e-02],\n        ...,\n        [ 1.210e-01,  3.980e-01,  2.770e-01, ..., -1.065e+00,\n         -4.920e-01, -1.560e-01],\n        [-3.260e-01,  5.700e-02,  3.830e-01, ..., -2.800e-01,\n         -1.750e-01, -7.100e-02],\n        [-3.480e-01, -5.600e-02,  2.920e-01, ..., -3.080e-01,\n         -2.310e-01, -1.450e-01]],\n\n       [[-2.900e-02, -7.900e-02, -4.900e-02, ..., -1.030e-01,\n         -7.600e-02, -6.600e-02],\n        [-3.500e-02, -7.000e-02, -3.500e-02, ..., -1.040e-01,\n         -7.900e-02, -6.800e-02],\n        [-5.400e-02, -5.700e-02, -3.000e-03, ..., -7.800e-02,\n         -6.600e-02, -5.400e-02],\n        ...,\n        [-2.900e-02, -2.260e-01, -1.980e-01, ...,  1.000e-03,\n          2.290e-01,  1.800e-02],\n        [-4.800e-02, -2.660e-01, -2.180e-01, ..., -1.000e-03,\n          2.100e-02, -8.000e-03],\n        [-4.900e-02, -2.880e-01, -2.390e-01, ...,  1.000e-03,\n         -1.800e-02,  6.000e-03]],\n\n       ...,\n\n       [[ 3.800e-02,  2.400e-02, -1.400e-02, ...,  6.000e-03,\n          1.600e-02,  2.700e-02],\n        [ 7.800e-02,  6.600e-02, -1.200e-02, ...,  1.600e-02,\n          3.100e-02,  4.500e-02],\n        [-1.400e-02, -6.000e-03,  8.000e-03, ...,  9.000e-03,\n          3.000e-02,  4.700e-02],\n        ...,\n        [-1.060e-01, -6.200e-02,  4.400e-02, ..., -2.120e-01,\n         -7.400e-02,  5.100e-02],\n        [-4.500e-02,  2.600e-02,  7.100e-02, ..., -1.510e-01,\n         -5.900e-02,  4.800e-02],\n        [ 4.630e-01,  5.300e-01,  6.700e-02, ..., -1.810e-01,\n         -1.050e-01,  3.300e-02]],\n\n       [[-5.700e-02, -5.700e-02,  0.000e+00, ..., -3.500e-02,\n         -3.900e-02, -3.500e-02],\n        [-4.100e-02, -2.900e-02,  1.200e-02, ..., -2.300e-02,\n         -2.800e-02, -2.700e-02],\n        [ 3.000e-03,  4.500e-02,  4.200e-02, ..., -9.000e-03,\n         -1.400e-02, -1.400e-02],\n        ...,\n        [ 3.300e-02,  7.000e-02,  3.700e-02, ...,  2.180e-01,\n          1.010e-01,  5.200e-02],\n        [ 2.700e-02,  8.200e-02,  5.500e-02, ...,  2.100e-01,\n          3.350e-01,  1.000e-02],\n        [-6.000e-03,  5.100e-02,  5.700e-02, ...,  2.110e-01,\n          3.740e-01, -9.000e-03]],\n\n       [[-4.900e-02, -2.500e-02,  2.400e-02, ..., -4.000e-02,\n         -2.600e-02, -3.100e-02],\n        [-4.900e-02, -2.900e-02,  2.000e-02, ..., -3.200e-02,\n         -3.300e-02, -4.300e-02],\n        [-5.900e-02, -4.200e-02,  1.700e-02, ..., -4.000e-02,\n         -4.700e-02, -5.100e-02],\n        ...,\n        [ 9.100e-02,  1.200e-02, -7.900e-02, ...,  6.300e-02,\n          1.600e-02, -1.170e-01],\n        [ 1.750e-01,  2.200e-02, -1.530e-01, ...,  8.000e-02,\n          1.800e-02, -1.080e-01],\n        [ 1.660e-01, -7.000e-03, -1.730e-01, ...,  1.060e-01,\n          4.700e-02, -1.030e-01]]])"
     },
     "execution_count": 3,
     "metadata": {},
     "output_type": "execute_result"
    }
   ],
   "source": [
    "X"
   ],
   "metadata": {
    "collapsed": false,
    "pycharm": {
     "name": "#%%\n"
    }
   }
  },
  {
   "cell_type": "code",
   "execution_count": 4,
   "outputs": [
    {
     "data": {
      "text/plain": "        patient_id    age  sex  height  weight  nurse  site      device  \\\necg_id                                                                    \n1          15709.0   56.0    1     NaN    63.0    2.0   0.0   CS-12   E   \n2          13243.0   19.0    0     NaN    70.0    2.0   0.0   CS-12   E   \n3          20372.0   37.0    1     NaN    69.0    2.0   0.0   CS-12   E   \n4          17014.0   24.0    0     NaN    82.0    2.0   0.0   CS-12   E   \n5          17448.0   19.0    1     NaN    70.0    2.0   0.0   CS-12   E   \n...            ...    ...  ...     ...     ...    ...   ...         ...   \n21830      10520.0   86.0    0     NaN     NaN    1.0   2.0  AT-60    3   \n21831      11905.0   55.0    1     NaN     NaN    1.0   2.0  AT-60    3   \n21834      20703.0  300.0    0     NaN     NaN    1.0   2.0  AT-60    3   \n21836       8873.0   64.0    1     NaN     NaN    1.0   2.0  AT-60    3   \n21837      11744.0   68.0    0     NaN     NaN    1.0   2.0  AT-60    3   \n\n             recording_date  \\\necg_id                        \n1       1984-11-09 09:17:34   \n2       1984-11-14 12:55:37   \n3       1984-11-15 12:49:10   \n4       1984-11-15 13:44:57   \n5       1984-11-17 10:43:15   \n...                     ...   \n21830   2001-05-28 07:53:21   \n21831   2001-05-28 12:49:25   \n21834   2001-06-05 11:33:39   \n21836   2001-06-09 18:21:49   \n21837   2001-06-11 16:43:01   \n\n                                                   report  ... static_noise  \\\necg_id                                                     ...                \n1                  sinusrhythmus periphere niederspannung  ...    , I-V1,     \n2                     sinusbradykardie sonst normales ekg  ...          NaN   \n3                              sinusrhythmus normales ekg  ...          NaN   \n4                              sinusrhythmus normales ekg  ...          NaN   \n5                              sinusrhythmus normales ekg  ...          NaN   \n...                                                   ...  ...          ...   \n21830   sinusrhythmus lagetyp normal periphere nieders...  ...          NaN   \n21831   sinusrhythmus lagetyp normal normales ekg 4.46...  ...          NaN   \n21834   sinusrhythmus lagetyp normal qrs(t) abnorm    ...  ...          NaN   \n21836   supraventrikulÄre extrasystole(n) sinusrhythmu...  ...          NaN   \n21837   sinusrhythmus p-sinistrocardiale lagetyp norma...  ...   , I-AVL,     \n\n       burst_noise electrodes_problems extra_beats  pacemaker  strat_fold  \\\necg_id                                                                      \n1              NaN                 NaN         NaN        NaN           3   \n2              NaN                 NaN         NaN        NaN           2   \n3              NaN                 NaN         NaN        NaN           5   \n4              NaN                 NaN         NaN        NaN           3   \n5              NaN                 NaN         NaN        NaN           4   \n...            ...                 ...         ...        ...         ...   \n21830          NaN                 NaN         NaN        NaN           1   \n21831          NaN                 NaN         NaN        NaN           9   \n21834          NaN                 NaN         NaN        NaN           4   \n21836          NaN                 NaN        SVES        NaN           8   \n21837          NaN                 NaN         NaN        NaN           9   \n\n                      filename_lr                filename_hr  \\\necg_id                                                         \n1       records100/00000/00001_lr  records500/00000/00001_hr   \n2       records100/00000/00002_lr  records500/00000/00002_hr   \n3       records100/00000/00003_lr  records500/00000/00003_hr   \n4       records100/00000/00004_lr  records500/00000/00004_hr   \n5       records100/00000/00005_lr  records500/00000/00005_hr   \n...                           ...                        ...   \n21830   records100/21000/21830_lr  records500/21000/21830_hr   \n21831   records100/21000/21831_lr  records500/21000/21831_hr   \n21834   records100/21000/21834_lr  records500/21000/21834_hr   \n21836   records100/21000/21836_lr  records500/21000/21836_hr   \n21837   records100/21000/21837_lr  records500/21000/21837_hr   \n\n       diagnostic_superclass is_MI  \necg_id                              \n1                     [NORM]   0.0  \n2                     [NORM]   0.0  \n3                     [NORM]   0.0  \n4                     [NORM]   0.0  \n5                     [NORM]   0.0  \n...                      ...   ...  \n21830                 [NORM]   0.0  \n21831                 [NORM]   0.0  \n21834                 [NORM]   0.0  \n21836                 [NORM]   0.0  \n21837                 [NORM]   0.0  \n\n[11601 rows x 29 columns]",
      "text/html": "<div>\n<style scoped>\n    .dataframe tbody tr th:only-of-type {\n        vertical-align: middle;\n    }\n\n    .dataframe tbody tr th {\n        vertical-align: top;\n    }\n\n    .dataframe thead th {\n        text-align: right;\n    }\n</style>\n<table border=\"1\" class=\"dataframe\">\n  <thead>\n    <tr style=\"text-align: right;\">\n      <th></th>\n      <th>patient_id</th>\n      <th>age</th>\n      <th>sex</th>\n      <th>height</th>\n      <th>weight</th>\n      <th>nurse</th>\n      <th>site</th>\n      <th>device</th>\n      <th>recording_date</th>\n      <th>report</th>\n      <th>...</th>\n      <th>static_noise</th>\n      <th>burst_noise</th>\n      <th>electrodes_problems</th>\n      <th>extra_beats</th>\n      <th>pacemaker</th>\n      <th>strat_fold</th>\n      <th>filename_lr</th>\n      <th>filename_hr</th>\n      <th>diagnostic_superclass</th>\n      <th>is_MI</th>\n    </tr>\n    <tr>\n      <th>ecg_id</th>\n      <th></th>\n      <th></th>\n      <th></th>\n      <th></th>\n      <th></th>\n      <th></th>\n      <th></th>\n      <th></th>\n      <th></th>\n      <th></th>\n      <th></th>\n      <th></th>\n      <th></th>\n      <th></th>\n      <th></th>\n      <th></th>\n      <th></th>\n      <th></th>\n      <th></th>\n      <th></th>\n      <th></th>\n    </tr>\n  </thead>\n  <tbody>\n    <tr>\n      <th>1</th>\n      <td>15709.0</td>\n      <td>56.0</td>\n      <td>1</td>\n      <td>NaN</td>\n      <td>63.0</td>\n      <td>2.0</td>\n      <td>0.0</td>\n      <td>CS-12   E</td>\n      <td>1984-11-09 09:17:34</td>\n      <td>sinusrhythmus periphere niederspannung</td>\n      <td>...</td>\n      <td>, I-V1,</td>\n      <td>NaN</td>\n      <td>NaN</td>\n      <td>NaN</td>\n      <td>NaN</td>\n      <td>3</td>\n      <td>records100/00000/00001_lr</td>\n      <td>records500/00000/00001_hr</td>\n      <td>[NORM]</td>\n      <td>0.0</td>\n    </tr>\n    <tr>\n      <th>2</th>\n      <td>13243.0</td>\n      <td>19.0</td>\n      <td>0</td>\n      <td>NaN</td>\n      <td>70.0</td>\n      <td>2.0</td>\n      <td>0.0</td>\n      <td>CS-12   E</td>\n      <td>1984-11-14 12:55:37</td>\n      <td>sinusbradykardie sonst normales ekg</td>\n      <td>...</td>\n      <td>NaN</td>\n      <td>NaN</td>\n      <td>NaN</td>\n      <td>NaN</td>\n      <td>NaN</td>\n      <td>2</td>\n      <td>records100/00000/00002_lr</td>\n      <td>records500/00000/00002_hr</td>\n      <td>[NORM]</td>\n      <td>0.0</td>\n    </tr>\n    <tr>\n      <th>3</th>\n      <td>20372.0</td>\n      <td>37.0</td>\n      <td>1</td>\n      <td>NaN</td>\n      <td>69.0</td>\n      <td>2.0</td>\n      <td>0.0</td>\n      <td>CS-12   E</td>\n      <td>1984-11-15 12:49:10</td>\n      <td>sinusrhythmus normales ekg</td>\n      <td>...</td>\n      <td>NaN</td>\n      <td>NaN</td>\n      <td>NaN</td>\n      <td>NaN</td>\n      <td>NaN</td>\n      <td>5</td>\n      <td>records100/00000/00003_lr</td>\n      <td>records500/00000/00003_hr</td>\n      <td>[NORM]</td>\n      <td>0.0</td>\n    </tr>\n    <tr>\n      <th>4</th>\n      <td>17014.0</td>\n      <td>24.0</td>\n      <td>0</td>\n      <td>NaN</td>\n      <td>82.0</td>\n      <td>2.0</td>\n      <td>0.0</td>\n      <td>CS-12   E</td>\n      <td>1984-11-15 13:44:57</td>\n      <td>sinusrhythmus normales ekg</td>\n      <td>...</td>\n      <td>NaN</td>\n      <td>NaN</td>\n      <td>NaN</td>\n      <td>NaN</td>\n      <td>NaN</td>\n      <td>3</td>\n      <td>records100/00000/00004_lr</td>\n      <td>records500/00000/00004_hr</td>\n      <td>[NORM]</td>\n      <td>0.0</td>\n    </tr>\n    <tr>\n      <th>5</th>\n      <td>17448.0</td>\n      <td>19.0</td>\n      <td>1</td>\n      <td>NaN</td>\n      <td>70.0</td>\n      <td>2.0</td>\n      <td>0.0</td>\n      <td>CS-12   E</td>\n      <td>1984-11-17 10:43:15</td>\n      <td>sinusrhythmus normales ekg</td>\n      <td>...</td>\n      <td>NaN</td>\n      <td>NaN</td>\n      <td>NaN</td>\n      <td>NaN</td>\n      <td>NaN</td>\n      <td>4</td>\n      <td>records100/00000/00005_lr</td>\n      <td>records500/00000/00005_hr</td>\n      <td>[NORM]</td>\n      <td>0.0</td>\n    </tr>\n    <tr>\n      <th>...</th>\n      <td>...</td>\n      <td>...</td>\n      <td>...</td>\n      <td>...</td>\n      <td>...</td>\n      <td>...</td>\n      <td>...</td>\n      <td>...</td>\n      <td>...</td>\n      <td>...</td>\n      <td>...</td>\n      <td>...</td>\n      <td>...</td>\n      <td>...</td>\n      <td>...</td>\n      <td>...</td>\n      <td>...</td>\n      <td>...</td>\n      <td>...</td>\n      <td>...</td>\n      <td>...</td>\n    </tr>\n    <tr>\n      <th>21830</th>\n      <td>10520.0</td>\n      <td>86.0</td>\n      <td>0</td>\n      <td>NaN</td>\n      <td>NaN</td>\n      <td>1.0</td>\n      <td>2.0</td>\n      <td>AT-60    3</td>\n      <td>2001-05-28 07:53:21</td>\n      <td>sinusrhythmus lagetyp normal periphere nieders...</td>\n      <td>...</td>\n      <td>NaN</td>\n      <td>NaN</td>\n      <td>NaN</td>\n      <td>NaN</td>\n      <td>NaN</td>\n      <td>1</td>\n      <td>records100/21000/21830_lr</td>\n      <td>records500/21000/21830_hr</td>\n      <td>[NORM]</td>\n      <td>0.0</td>\n    </tr>\n    <tr>\n      <th>21831</th>\n      <td>11905.0</td>\n      <td>55.0</td>\n      <td>1</td>\n      <td>NaN</td>\n      <td>NaN</td>\n      <td>1.0</td>\n      <td>2.0</td>\n      <td>AT-60    3</td>\n      <td>2001-05-28 12:49:25</td>\n      <td>sinusrhythmus lagetyp normal normales ekg 4.46...</td>\n      <td>...</td>\n      <td>NaN</td>\n      <td>NaN</td>\n      <td>NaN</td>\n      <td>NaN</td>\n      <td>NaN</td>\n      <td>9</td>\n      <td>records100/21000/21831_lr</td>\n      <td>records500/21000/21831_hr</td>\n      <td>[NORM]</td>\n      <td>0.0</td>\n    </tr>\n    <tr>\n      <th>21834</th>\n      <td>20703.0</td>\n      <td>300.0</td>\n      <td>0</td>\n      <td>NaN</td>\n      <td>NaN</td>\n      <td>1.0</td>\n      <td>2.0</td>\n      <td>AT-60    3</td>\n      <td>2001-06-05 11:33:39</td>\n      <td>sinusrhythmus lagetyp normal qrs(t) abnorm    ...</td>\n      <td>...</td>\n      <td>NaN</td>\n      <td>NaN</td>\n      <td>NaN</td>\n      <td>NaN</td>\n      <td>NaN</td>\n      <td>4</td>\n      <td>records100/21000/21834_lr</td>\n      <td>records500/21000/21834_hr</td>\n      <td>[NORM]</td>\n      <td>0.0</td>\n    </tr>\n    <tr>\n      <th>21836</th>\n      <td>8873.0</td>\n      <td>64.0</td>\n      <td>1</td>\n      <td>NaN</td>\n      <td>NaN</td>\n      <td>1.0</td>\n      <td>2.0</td>\n      <td>AT-60    3</td>\n      <td>2001-06-09 18:21:49</td>\n      <td>supraventrikulÄre extrasystole(n) sinusrhythmu...</td>\n      <td>...</td>\n      <td>NaN</td>\n      <td>NaN</td>\n      <td>NaN</td>\n      <td>SVES</td>\n      <td>NaN</td>\n      <td>8</td>\n      <td>records100/21000/21836_lr</td>\n      <td>records500/21000/21836_hr</td>\n      <td>[NORM]</td>\n      <td>0.0</td>\n    </tr>\n    <tr>\n      <th>21837</th>\n      <td>11744.0</td>\n      <td>68.0</td>\n      <td>0</td>\n      <td>NaN</td>\n      <td>NaN</td>\n      <td>1.0</td>\n      <td>2.0</td>\n      <td>AT-60    3</td>\n      <td>2001-06-11 16:43:01</td>\n      <td>sinusrhythmus p-sinistrocardiale lagetyp norma...</td>\n      <td>...</td>\n      <td>, I-AVL,</td>\n      <td>NaN</td>\n      <td>NaN</td>\n      <td>NaN</td>\n      <td>NaN</td>\n      <td>9</td>\n      <td>records100/21000/21837_lr</td>\n      <td>records500/21000/21837_hr</td>\n      <td>[NORM]</td>\n      <td>0.0</td>\n    </tr>\n  </tbody>\n</table>\n<p>11601 rows × 29 columns</p>\n</div>"
     },
     "execution_count": 4,
     "metadata": {},
     "output_type": "execute_result"
    }
   ],
   "source": [
    "Y"
   ],
   "metadata": {
    "collapsed": false,
    "pycharm": {
     "name": "#%%\n"
    }
   }
  },
  {
   "cell_type": "code",
   "execution_count": 5,
   "outputs": [
    {
     "data": {
      "text/plain": "array([[[-1.190e-01, -5.500e-02,  6.400e-02, ..., -2.600e-02,\n         -3.900e-02, -7.900e-02],\n        [-1.160e-01, -5.100e-02,  6.500e-02, ..., -3.100e-02,\n         -3.400e-02, -7.400e-02],\n        [-1.200e-01, -4.400e-02,  7.600e-02, ..., -2.800e-02,\n         -2.900e-02, -6.900e-02],\n        ...,\n        [ 6.900e-02,  0.000e+00, -6.900e-02, ...,  2.400e-02,\n         -4.100e-02, -5.800e-02],\n        [ 8.600e-02,  4.000e-03, -8.100e-02, ...,  2.420e-01,\n         -4.600e-02, -9.800e-02],\n        [ 2.200e-02, -3.100e-02, -5.400e-02, ...,  1.430e-01,\n         -3.500e-02, -1.200e-01]],\n\n       [[ 4.000e-03,  1.380e-01,  1.340e-01, ...,  1.920e-01,\n          8.300e-02,  8.800e-02],\n        [-2.000e-02,  1.160e-01,  1.360e-01, ...,  1.560e-01,\n          5.700e-02,  6.300e-02],\n        [-5.300e-02,  9.200e-02,  1.450e-01, ...,  1.070e-01,\n          1.300e-02,  2.200e-02],\n        ...,\n        [ 1.210e-01,  3.980e-01,  2.770e-01, ..., -1.065e+00,\n         -4.920e-01, -1.560e-01],\n        [-3.260e-01,  5.700e-02,  3.830e-01, ..., -2.800e-01,\n         -1.750e-01, -7.100e-02],\n        [-3.480e-01, -5.600e-02,  2.920e-01, ..., -3.080e-01,\n         -2.310e-01, -1.450e-01]],\n\n       [[-2.900e-02, -7.900e-02, -4.900e-02, ..., -1.030e-01,\n         -7.600e-02, -6.600e-02],\n        [-3.500e-02, -7.000e-02, -3.500e-02, ..., -1.040e-01,\n         -7.900e-02, -6.800e-02],\n        [-5.400e-02, -5.700e-02, -3.000e-03, ..., -7.800e-02,\n         -6.600e-02, -5.400e-02],\n        ...,\n        [-2.900e-02, -2.260e-01, -1.980e-01, ...,  1.000e-03,\n          2.290e-01,  1.800e-02],\n        [-4.800e-02, -2.660e-01, -2.180e-01, ..., -1.000e-03,\n          2.100e-02, -8.000e-03],\n        [-4.900e-02, -2.880e-01, -2.390e-01, ...,  1.000e-03,\n         -1.800e-02,  6.000e-03]],\n\n       ...,\n\n       [[ 3.500e-02,  6.000e-02,  2.500e-02, ..., -4.400e-02,\n         -1.400e-02, -2.000e-02],\n        [ 2.600e-02,  5.200e-02,  2.600e-02, ..., -3.900e-02,\n         -7.000e-03, -2.400e-02],\n        [-8.000e-03, -1.200e-02, -4.000e-03, ..., -6.200e-02,\n         -2.900e-02, -3.800e-02],\n        ...,\n        [ 5.600e-02,  3.100e-02, -2.500e-02, ..., -6.200e-02,\n         -9.900e-02, -2.000e-02],\n        [ 2.200e-02,  1.500e-02, -7.000e-03, ..., -4.870e-01,\n         -1.000e-01,  1.500e-02],\n        [ 3.300e-02,  1.200e-02, -2.100e-02, ..., -5.730e-01,\n         -1.160e-01, -1.200e-02]],\n\n       [[ 7.500e-02,  1.500e-02, -6.000e-02, ..., -3.000e-02,\n         -4.000e-02, -3.500e-02],\n        [ 8.000e-02,  2.100e-02, -5.900e-02, ..., -2.900e-02,\n         -4.000e-02, -3.500e-02],\n        [ 8.500e-02,  3.100e-02, -5.400e-02, ..., -2.500e-02,\n         -3.600e-02, -3.200e-02],\n        ...,\n        [-9.000e-03, -1.600e-02, -7.000e-03, ...,  1.390e-01,\n          2.700e-02, -2.500e-02],\n        [-3.300e-02, -2.800e-02,  5.000e-03, ...,  1.240e-01,\n         -1.100e-02, -3.000e-03],\n        [-6.200e-02, -3.100e-02,  3.100e-02, ...,  8.600e-02,\n          8.000e-03, -6.500e-02]],\n\n       [[ 8.300e-01,  4.310e-01, -4.000e-01, ...,  2.124e+00,\n          1.431e+00,  9.100e-01],\n        [ 7.940e-01,  4.850e-01, -3.090e-01, ...,  1.602e+00,\n          1.304e+00,  9.330e-01],\n        [ 2.600e-02,  2.280e-01,  2.020e-01, ..., -7.940e-01,\n         -1.500e-01,  1.000e-01],\n        ...,\n        [ 7.320e-01,  4.280e-01, -3.040e-01, ...,  2.175e+00,\n          1.512e+00,  9.790e-01],\n        [ 4.910e-01,  4.030e-01, -8.800e-02, ...,  6.830e-01,\n          8.730e-01,  7.530e-01],\n        [-3.530e-01,  2.300e-02,  3.760e-01, ..., -1.379e+00,\n         -6.010e-01, -1.980e-01]]])"
     },
     "execution_count": 5,
     "metadata": {},
     "output_type": "execute_result"
    }
   ],
   "source": [
    "X_train, y_train, X_test, y_test = preprocess.train_split(X, Y, test_fold=10)\n",
    "X_train"
   ],
   "metadata": {
    "collapsed": false,
    "pycharm": {
     "name": "#%%\n"
    }
   }
  },
  {
   "cell_type": "code",
   "execution_count": 6,
   "outputs": [
    {
     "data": {
      "text/plain": "ecg_id\n1     0.0\n2     0.0\n3     0.0\n4     0.0\n5     0.0\n6     0.0\n7     0.0\n8     1.0\n10    0.0\n11    0.0\nName: is_MI, dtype: float64"
     },
     "execution_count": 6,
     "metadata": {},
     "output_type": "execute_result"
    }
   ],
   "source": [
    "y_train.head(10)"
   ],
   "metadata": {
    "collapsed": false,
    "pycharm": {
     "name": "#%%\n"
    }
   }
  },
  {
   "cell_type": "code",
   "execution_count": 7,
   "outputs": [
    {
     "data": {
      "text/plain": "Int64Index([    1,     2,     3,     4,     5,     6,     7,    10,    11,\n               12,\n            ...\n            21813, 21814, 21822, 21823, 21825, 21830, 21831, 21834, 21836,\n            21837],\n           dtype='int64', name='ecg_id', length=8157)"
     },
     "execution_count": 7,
     "metadata": {},
     "output_type": "execute_result"
    }
   ],
   "source": [
    "y_train[y_train == 0].index"
   ],
   "metadata": {
    "collapsed": false,
    "pycharm": {
     "name": "#%%\n"
    }
   }
  },
  {
   "cell_type": "code",
   "execution_count": 8,
   "outputs": [],
   "source": [
    "import torch  #pytorch\n",
    "import torch.nn as nn\n",
    "from torch.autograd import Variable"
   ],
   "metadata": {
    "collapsed": false,
    "pycharm": {
     "name": "#%%\n"
    }
   }
  },
  {
   "cell_type": "code",
   "execution_count": 9,
   "outputs": [
    {
     "data": {
      "text/plain": "device(type='cpu')"
     },
     "execution_count": 9,
     "metadata": {},
     "output_type": "execute_result"
    }
   ],
   "source": [
    "# device = torch.device('cuda:0' if torch.cuda.is_available() else 'cpu')\n",
    "device = torch.device('cpu')\n",
    "device"
   ],
   "metadata": {
    "collapsed": false,
    "pycharm": {
     "name": "#%%\n"
    }
   }
  },
  {
   "cell_type": "code",
   "execution_count": 10,
   "outputs": [],
   "source": [
    "X_train_tensors = Variable(torch.Tensor(X_train)).to(device)\n",
    "X_test_tensors = Variable(torch.Tensor(X_test)).to(device)\n",
    "\n",
    "y_train_tensors = Variable(torch.Tensor(y_train.values)).to(device)\n",
    "y_test_tensors = Variable(torch.Tensor(y_test.values)).to(device)"
   ],
   "metadata": {
    "collapsed": false,
    "pycharm": {
     "name": "#%%\n"
    }
   }
  },
  {
   "cell_type": "code",
   "execution_count": 11,
   "outputs": [],
   "source": [
    "def test(net, samples):\n",
    "    with torch.no_grad():\n",
    "        return net.forward(torch.Tensor(samples))"
   ],
   "metadata": {
    "collapsed": false,
    "pycharm": {
     "name": "#%%\n"
    }
   }
  },
  {
   "cell_type": "code",
   "execution_count": 12,
   "outputs": [],
   "source": [
    "class LSTM1(nn.Module):\n",
    "    def __init__(self, num_classes, input_size, hidden_size, num_layers, seq_length):\n",
    "        super(LSTM1, self).__init__()\n",
    "        self.num_classes = num_classes  #number of classes\n",
    "        self.num_layers = num_layers  #number of layers\n",
    "        self.input_size = input_size  #input size\n",
    "        self.hidden_size = hidden_size  #hidden state\n",
    "        self.seq_length = seq_length  #sequence length\n",
    "\n",
    "        self.lstm = nn.LSTM(input_size=input_size, hidden_size=hidden_size,\n",
    "                            num_layers=num_layers, batch_first=True)  #lstm\n",
    "        self.fc_1 = nn.Linear(hidden_size, 128)  #fully connected 1\n",
    "        self.fc = nn.Linear(128, num_classes)  #fully connected last layer\n",
    "\n",
    "        self.relu = nn.ReLU()\n",
    "\n",
    "    def forward(self, x):\n",
    "        h_0 = Variable(torch.zeros(self.num_layers, x.size(0), self.hidden_size)).to(device)  #hidden state\n",
    "        c_0 = Variable(torch.zeros(self.num_layers, x.size(0), self.hidden_size)).to(device)  #internal state\n",
    "        # Propagate input through LSTM\n",
    "        output, (hn, cn) = self.lstm(x, (h_0, c_0))  #lstm with input, hidden, and internal state\n",
    "        hn = hn.view(-1, self.hidden_size)  #reshaping the data for Dense layer next\n",
    "        out = self.relu(hn)\n",
    "        out = self.fc_1(out)  #first Dense\n",
    "        out = self.relu(out)  #relu\n",
    "        out = self.fc(out)  #Final Output\n",
    "        return out\n",
    "\n"
   ],
   "metadata": {
    "collapsed": false,
    "pycharm": {
     "name": "#%%\n"
    }
   }
  },
  {
   "cell_type": "code",
   "execution_count": 13,
   "outputs": [],
   "source": [
    "class LSTM1(nn.Module):\n",
    "    def __init__(self, num_classes, input_size, hidden_size, num_layers, seq_length):\n",
    "        super(LSTM1, self).__init__()\n",
    "\n",
    "        self.lstm = nn.LSTM(input_size=input_size, hidden_size=hidden_size,\n",
    "                            num_layers=num_layers, batch_first=True)  #lstm\n",
    "        self.fc_1 = nn.Linear(hidden_size, 128)  #fully connected 1\n",
    "        self.fc = nn.Linear(128, num_classes)  #fully connected last layer\n",
    "\n",
    "        self.relu = nn.ReLU()\n",
    "\n",
    "    def forward(self, x):\n",
    "        h_0 = Variable(torch.zeros(self.num_layers, x.size(0), self.hidden_size)).to(device)  #hidden state\n",
    "        c_0 = Variable(torch.zeros(self.num_layers, x.size(0), self.hidden_size)).to(device)  #internal state\n",
    "        # Propagate input through LSTM\n",
    "        output, (hn, cn) = self.lstm(x, (h_0, c_0))  #lstm with input, hidden, and internal state\n",
    "        hn = hn.view(-1, self.hidden_size)  #reshaping the data for Dense layer next\n",
    "        out = self.relu(hn)\n",
    "        out = self.fc_1(out)  #first Dense\n",
    "        out = self.relu(out)  #relu\n",
    "        out = self.fc(out)  #Final Output\n",
    "        return out\n",
    "\n"
   ],
   "metadata": {
    "collapsed": false,
    "pycharm": {
     "name": "#%%\n"
    }
   }
  },
  {
   "cell_type": "code",
   "execution_count": 14,
   "outputs": [],
   "source": [
    "num_epochs = 10  #1000 epochs\n",
    "learning_rate = 0.01  #0.001 lr\n",
    "\n",
    "input_size = 12  #number of features\n",
    "hidden_size = 1  #number of features in hidden state\n",
    "num_layers = 1  #number of stacked lstm layers\n",
    "\n",
    "num_classes = 1  #number of output classes\n"
   ],
   "metadata": {
    "collapsed": false,
    "pycharm": {
     "name": "#%%\n"
    }
   }
  },
  {
   "cell_type": "code",
   "execution_count": 15,
   "outputs": [],
   "source": [
    "lstm1 = LSTM1(num_classes, input_size, hidden_size, num_layers, X_train_tensors.shape[1])  #our lstm class"
   ],
   "metadata": {
    "collapsed": false,
    "pycharm": {
     "name": "#%%\n"
    }
   }
  },
  {
   "cell_type": "code",
   "execution_count": 16,
   "outputs": [],
   "source": [
    "criterion = torch.nn.MSELoss()  # mean-squared error for regression\n",
    "optimizer = torch.optim.Adam(lstm1.parameters(), lr=learning_rate)"
   ],
   "metadata": {
    "collapsed": false,
    "pycharm": {
     "name": "#%%\n"
    }
   }
  },
  {
   "cell_type": "code",
   "execution_count": 17,
   "outputs": [
    {
     "ename": "AttributeError",
     "evalue": "'LSTM1' object has no attribute 'num_layers'",
     "output_type": "error",
     "traceback": [
      "\u001B[0;31m---------------------------------------------------------------------------\u001B[0m",
      "\u001B[0;31mAttributeError\u001B[0m                            Traceback (most recent call last)",
      "Cell \u001B[0;32mIn[17], line 2\u001B[0m\n\u001B[1;32m      1\u001B[0m \u001B[38;5;28;01mfor\u001B[39;00m epoch \u001B[38;5;129;01min\u001B[39;00m \u001B[38;5;28mrange\u001B[39m(num_epochs):\n\u001B[0;32m----> 2\u001B[0m     outputs \u001B[38;5;241m=\u001B[39m \u001B[43mlstm1\u001B[49m\u001B[38;5;241;43m.\u001B[39;49m\u001B[43mforward\u001B[49m\u001B[43m(\u001B[49m\u001B[43mX_train_tensors\u001B[49m\u001B[43m)\u001B[49m  \u001B[38;5;66;03m#forward pass\u001B[39;00m\n\u001B[1;32m      3\u001B[0m     optimizer\u001B[38;5;241m.\u001B[39mzero_grad()  \u001B[38;5;66;03m#caluclate the gradient, manually setting to 0\u001B[39;00m\n\u001B[1;32m      5\u001B[0m     \u001B[38;5;66;03m# obtain the loss function\u001B[39;00m\n",
      "Cell \u001B[0;32mIn[13], line 13\u001B[0m, in \u001B[0;36mLSTM1.forward\u001B[0;34m(self, x)\u001B[0m\n\u001B[1;32m     12\u001B[0m \u001B[38;5;28;01mdef\u001B[39;00m \u001B[38;5;21mforward\u001B[39m(\u001B[38;5;28mself\u001B[39m, x):\n\u001B[0;32m---> 13\u001B[0m     h_0 \u001B[38;5;241m=\u001B[39m Variable(torch\u001B[38;5;241m.\u001B[39mzeros(\u001B[38;5;28;43mself\u001B[39;49m\u001B[38;5;241;43m.\u001B[39;49m\u001B[43mnum_layers\u001B[49m, x\u001B[38;5;241m.\u001B[39msize(\u001B[38;5;241m0\u001B[39m), \u001B[38;5;28mself\u001B[39m\u001B[38;5;241m.\u001B[39mhidden_size))\u001B[38;5;241m.\u001B[39mto(device)  \u001B[38;5;66;03m#hidden state\u001B[39;00m\n\u001B[1;32m     14\u001B[0m     c_0 \u001B[38;5;241m=\u001B[39m Variable(torch\u001B[38;5;241m.\u001B[39mzeros(\u001B[38;5;28mself\u001B[39m\u001B[38;5;241m.\u001B[39mnum_layers, x\u001B[38;5;241m.\u001B[39msize(\u001B[38;5;241m0\u001B[39m), \u001B[38;5;28mself\u001B[39m\u001B[38;5;241m.\u001B[39mhidden_size))\u001B[38;5;241m.\u001B[39mto(device)  \u001B[38;5;66;03m#internal state\u001B[39;00m\n\u001B[1;32m     15\u001B[0m     \u001B[38;5;66;03m# Propagate input through LSTM\u001B[39;00m\n",
      "File \u001B[0;32m~/py-proj/ecg-classification/venv/lib/python3.10/site-packages/torch/nn/modules/module.py:1269\u001B[0m, in \u001B[0;36mModule.__getattr__\u001B[0;34m(self, name)\u001B[0m\n\u001B[1;32m   1267\u001B[0m     \u001B[38;5;28;01mif\u001B[39;00m name \u001B[38;5;129;01min\u001B[39;00m modules:\n\u001B[1;32m   1268\u001B[0m         \u001B[38;5;28;01mreturn\u001B[39;00m modules[name]\n\u001B[0;32m-> 1269\u001B[0m \u001B[38;5;28;01mraise\u001B[39;00m \u001B[38;5;167;01mAttributeError\u001B[39;00m(\u001B[38;5;124m\"\u001B[39m\u001B[38;5;124m'\u001B[39m\u001B[38;5;132;01m{}\u001B[39;00m\u001B[38;5;124m'\u001B[39m\u001B[38;5;124m object has no attribute \u001B[39m\u001B[38;5;124m'\u001B[39m\u001B[38;5;132;01m{}\u001B[39;00m\u001B[38;5;124m'\u001B[39m\u001B[38;5;124m\"\u001B[39m\u001B[38;5;241m.\u001B[39mformat(\n\u001B[1;32m   1270\u001B[0m     \u001B[38;5;28mtype\u001B[39m(\u001B[38;5;28mself\u001B[39m)\u001B[38;5;241m.\u001B[39m\u001B[38;5;18m__name__\u001B[39m, name))\n",
      "\u001B[0;31mAttributeError\u001B[0m: 'LSTM1' object has no attribute 'num_layers'"
     ]
    }
   ],
   "source": [
    "for epoch in range(num_epochs):\n",
    "    outputs = lstm1.forward(X_train_tensors)  #forward pass\n",
    "    optimizer.zero_grad()  #caluclate the gradient, manually setting to 0\n",
    "\n",
    "    # obtain the loss function\n",
    "    loss = criterion(outputs, y_train_tensors)\n",
    "\n",
    "    loss.backward()  #calculates the loss of the loss function\n",
    "\n",
    "    optimizer.step()  #improve from loss, i.e backprop\n",
    "    print(\"Epoch: %d, loss: %1.5f\" % (epoch, loss.item()))\n"
   ],
   "metadata": {
    "collapsed": false,
    "pycharm": {
     "name": "#%%\n"
    }
   }
  },
  {
   "cell_type": "code",
   "execution_count": null,
   "outputs": [],
   "source": [
    "from sklearn.metrics import accuracy_score\n",
    "\n",
    "print(f'Train accuracy: {accuracy_score(y_train, [(1 if pred[0] > 0.361 else 0) for pred in test(lstm1, X_train_tensors)])}')\n",
    "print(f'\\tTest accuracy: {accuracy_score(y_test, [(1 if pred[0] > 0.361 else 0) for pred in test(lstm1, X_test_tensors)])}')\n"
   ],
   "metadata": {
    "collapsed": false,
    "pycharm": {
     "name": "#%%\n"
    }
   }
  },
  {
   "cell_type": "code",
   "execution_count": null,
   "outputs": [],
   "source": [
    "from matplotlib import pyplot as plt\n",
    "from sklearn.metrics import roc_curve, auc, RocCurveDisplay\n",
    "\n",
    "fpr, tpr, thresholds = roc_curve(y_test, [(1 if pred[0] > 0.361 else 0) for pred in test(lstm1, X_test_tensors)])\n",
    "roc_auc = auc(fpr, tpr)\n",
    "display = RocCurveDisplay(fpr=fpr, tpr=tpr, roc_auc=roc_auc, estimator_name='CNN')\n",
    "display.plot()\n",
    "plt.show()"
   ],
   "metadata": {
    "collapsed": false,
    "pycharm": {
     "name": "#%%\n"
    }
   }
  },
  {
   "cell_type": "code",
   "execution_count": null,
   "outputs": [],
   "source": [],
   "metadata": {
    "collapsed": false,
    "pycharm": {
     "name": "#%%\n"
    }
   }
  }
 ],
 "metadata": {
  "kernelspec": {
   "display_name": "Python 3",
   "language": "python",
   "name": "python3"
  },
  "language_info": {
   "codemirror_mode": {
    "name": "ipython",
    "version": 2
   },
   "file_extension": ".py",
   "mimetype": "text/x-python",
   "name": "python",
   "nbconvert_exporter": "python",
   "pygments_lexer": "ipython2",
   "version": "2.7.6"
  }
 },
 "nbformat": 4,
 "nbformat_minor": 0
}